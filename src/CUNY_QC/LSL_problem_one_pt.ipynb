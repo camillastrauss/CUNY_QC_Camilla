{
 "cells": [
  {
   "cell_type": "markdown",
   "metadata": {},
   "source": [
    "# Imports"
   ]
  },
  {
   "cell_type": "code",
   "execution_count": 176,
   "metadata": {},
   "outputs": [],
   "source": [
    "import pyxdf\n",
    "import pandas as pd\n",
    "import numpy as np\n",
    "import sounddevice as sd\n",
    "from glob import glob\n",
    "from tqdm import tqdm\n",
    "import datetime\n",
    "import time\n",
    "import re\n",
    "import matplotlib.pyplot as plt\n",
    "from pprint import pprint\n"
   ]
  },
  {
   "cell_type": "code",
   "execution_count": 177,
   "metadata": {},
   "outputs": [
    {
     "data": {
      "text/plain": [
       "['../../../Data/sub-P5318014/sub-P5318014_ses-S001_task-CUNY_run-001_mobi.xdf',\n",
       " '../../../Data/sub-P5942694/sub-P5942694_ses-S001_task-CUNY_run-001_mobi.xdf',\n",
       " '../../../Data/sub-5182010/sub-P5182010_ses-S001_task-CUNY_run-001_mobi.xdf',\n",
       " '../../../Data/sub-P5287460/sub-P5287460_ses-S001_task-CUNY_run-001_mobi.xdf',\n",
       " '../../../Data/sub-P5447527/sub-P5447527_ses-S001_task-CUNY_run-001_mobi.xdf',\n",
       " '../../../Data/sub-5958030/sub-P5958030_ses-S001_task-CUNY_run-001_mobi.xdf',\n",
       " '../../../Data/sub-P5899288/sub-P5899288_ses-S001_task-CUNY_run-001_mobi.xdf',\n",
       " '../../../Data/sub-P5813427/sub-P5813427_ses-S001_task-CUNY_run-001_mobi.xdf',\n",
       " '../../../Data/sub-P5070899/sub-P5070899_ses-S001_task-CUNY_run-001_mobi.xdf',\n",
       " '../../../Data/sub-P5548165/sub-P5548165_ses-S001_task-CUNY_run-001_MOBI.xdf']"
      ]
     },
     "execution_count": 177,
     "metadata": {},
     "output_type": "execute_result"
    }
   ],
   "source": [
    "sub_files"
   ]
  },
  {
   "cell_type": "code",
   "execution_count": 178,
   "metadata": {},
   "outputs": [],
   "source": [
    "sub_files = glob('../../../Data/*/*.xdf')\n",
    "\n",
    "def get_event_data(event, df, stim_df):\n",
    "    return df.loc[(df.lsl_time_stamp >= stim_df.loc[stim_df.event == 'Onset_'+event, 'lsl_time_stamp'].values[0]) & \n",
    "                  (df.lsl_time_stamp <= stim_df.loc[stim_df.event == 'Offset_'+event, 'lsl_time_stamp'].values[0])]\n",
    "\n",
    "def get_secs_between_triggers(trigger1, trigger2, stim_df):\n",
    "    return stim_df.loc[stim_df.trigger == trigger1, 'time'].values[0] - stim_df.loc[stim_df.trigger == trigger2, 'time'].values[0]\n",
    "\n",
    "events = {\n",
    "    200: 'Onset_Experiment',\n",
    "    10: 'Onset_RestingState',\n",
    "    11: 'Offset_RestingState',\n",
    "    500: 'Onset_StoryListening',\n",
    "    501: 'Offset_StoryListening',\n",
    "    100: 'Onset_10second_rest',\n",
    "    101: 'Offset_10second_rest', \n",
    "    20: 'Onset_CampFriend',\n",
    "    21: 'Offset_CampFriend',\n",
    "    30: 'Onset_FrogDissection',\n",
    "    31: 'Offset_FrogDissection',\n",
    "    40: 'Onset_DanceContest',\n",
    "    41: 'Offset_DanceContest',\n",
    "    50: 'Onset_ZoomClass',\n",
    "    51: 'Offset_ZoomClass',\n",
    "    60: 'Onset_Tornado',\n",
    "    61: 'Offset_Tornado',\n",
    "    70: 'Onset_BirthdayParty',\n",
    "    71: 'Offset_BirthdayParty',\n",
    "    300: 'Onset_subjectInput',\n",
    "    301: 'Offset_subjectInput',\n",
    "    302: 'Onset_FavoriteStory',\n",
    "    303: 'Offset_FavoriteStory',\n",
    "    304: 'Onset_WorstStory',\n",
    "    305: 'Offset_WorstStory',\n",
    "    400: 'Onset_impedanceCheck',\n",
    "    401: 'Offset_impedanceCheck',\n",
    "    80: 'Onset_SocialTask',\n",
    "    81: 'Offset_SocialTask',\n",
    "    201: 'Offset_Experiment',\n",
    "}\n",
    "\n",
    "story_onsets = [20, 30, 40, 50, 60, 70]"
   ]
  },
  {
   "cell_type": "code",
   "execution_count": 314,
   "metadata": {},
   "outputs": [
    {
     "data": {
      "text/plain": [
       "['Stimuli_Markers',\n",
       " 'Tobii',\n",
       " 'WebcamStream',\n",
       " 'EGI NetAmp 0',\n",
       " 'OpenSignals',\n",
       " 'Microphone']"
      ]
     },
     "execution_count": 314,
     "metadata": {},
     "output_type": "execute_result"
    }
   ],
   "source": [
    "streams_collected"
   ]
  },
  {
   "cell_type": "code",
   "execution_count": 310,
   "metadata": {},
   "outputs": [],
   "source": [
    "sub_number = 3\n",
    "xdf_path = sub_files[sub_number]\n",
    "data, header = pyxdf.load_xdf(xdf_path)\n",
    "streams_collected = [stream['info']['name'][0] for stream in data]\n"
   ]
  },
  {
   "cell_type": "code",
   "execution_count": 311,
   "metadata": {},
   "outputs": [],
   "source": [
    "# ET data\n",
    "ET = data[streams_collected.index('Tobii')]\n",
    "et_dat = ET['time_series']\n",
    "column_labels = [ET['info']['desc'][0]['channels'][0]['channel'][i]['label'][0] for i in range(len(ET['info']['desc'][0]['channels'][0]['channel']))]\n",
    "et_df = pd.DataFrame(data=et_dat, columns=column_labels)\n",
    "et_df['lsl_time_stamp'] = ET['time_stamps']\n",
    "et_df['diff'] = et_df['lsl_time_stamp'].diff()\n",
    "\n",
    "# stim\n",
    "stim_dat = data[streams_collected.index('Stimuli_Markers')]\n",
    "stim_df = pd.DataFrame(stim_dat['time_series'])\n",
    "stim_df.rename(columns={0: 'trigger'}, inplace=True)\n",
    "story_onsets = [20, 30, 40, 50, 60, 70]\n",
    "stim_df['event'] = stim_df['trigger'].apply(lambda x: events[x] if x in events.keys() else 'Bx_input')\n",
    "stim_df.loc[stim_df.trigger.astype(str).str.len() > 5, 'event'] = 'psychopy_time_stamp'\n",
    "stim_df['lsl_time_stamp'] = stim_dat['time_stamps']\n",
    "stim_df['diff'] = stim_df['lsl_time_stamp'].diff()\n",
    "\n",
    "# mic\n",
    "mic_data = data[streams_collected.index('Microphone')]\n",
    "mic_df = pd.DataFrame(mic_data['time_series'], columns=['int_array'])\n",
    "mic_df['bytestring'] = mic_df['int_array'].apply(lambda x: np.array(x).tobytes())\n",
    "mic_df['lsl_time_stamp'] = mic_data['time_stamps']\n",
    "mic_df['diff'] = mic_df['lsl_time_stamp'].diff()\n",
    "\n",
    "# video\n",
    "cam_data = data[streams_collected.index('WebcamStream')]\n",
    "cam_data['time_series'][0]\n",
    "frame_nums = [int(i[0]) for i in cam_data['time_series']]\n",
    "time_pre = [float(i[1]) for i in cam_data['time_series']]\n",
    "time_evnt_ms = [float(i[2]) for i in cam_data['time_series']]\n",
    "time_post = [float(i[3]) for i in cam_data['time_series']]\n",
    "cam_df = pd.DataFrame({'frame_num': frame_nums, \n",
    "                    'time_pre': time_pre, \n",
    "                    'cap_time_ms': time_evnt_ms,\n",
    "                    'time_post': time_post,\n",
    "                    'lsl_time_stamp': cam_data['time_stamps']})\n",
    "\n",
    "cam_df['frame_time_sec'] = (cam_df.cap_time_ms - cam_df.cap_time_ms[0])/1000\n",
    "cam_df['lsl_time_sec'] = cam_df.lsl_time_stamp #- cam_df.lsl_time_stamp[0]\n",
    "cam_df['diff'] = cam_df['lsl_time_sec'].diff()\n",
    "\n",
    "\n",
    "# eeg\n",
    "eeg_dat = data[streams_collected.index('EGI NetAmp 0')]\n",
    "eeg_df = pd.DataFrame(eeg_dat['time_series'])\n",
    "eeg_df['lsl_time_stamp'] = eeg_dat['time_stamps']\n",
    "eeg_df['diff'] = eeg_df['lsl_time_stamp'].diff()\n",
    "\n",
    "# physio\n",
    "PS = data[streams_collected.index('OpenSignals')]\n",
    "column_labels = [PS['info']['desc'][0]['channels'][0]['channel'][i]['label'][0] for i in range(len(PS['info']['desc'][0]['channels'][0]['channel']))]\n",
    "ps_df = pd.DataFrame(data=PS['time_series'], columns=column_labels)\n",
    "ps_df['lsl_time_stamp'] = PS['time_stamps']\n",
    "ps_df['diff'] = ps_df['lsl_time_stamp'].diff()\n",
    "    \n",
    "    "
   ]
  },
  {
   "cell_type": "code",
   "execution_count": 209,
   "metadata": {},
   "outputs": [
    {
     "data": {
      "text/plain": [
       "False"
      ]
     },
     "execution_count": 209,
     "metadata": {},
     "output_type": "execute_result"
    }
   ],
   "source": [
    "import math\n",
    "# is the number of diffs within 1e-2 of 1/120 the same as len-1\n",
    "sum([math.isclose(x, 1/120, abs_tol=1e-2) for x in et_df.lsl_time_stamp.diff()]) == len(et_df) - 1"
   ]
  },
  {
   "cell_type": "code",
   "execution_count": 73,
   "metadata": {},
   "outputs": [
    {
     "data": {
      "text/plain": [
       "119.99595937396289"
      ]
     },
     "execution_count": 73,
     "metadata": {},
     "output_type": "execute_result"
    }
   ],
   "source": [
    "srate = ET['info']['effective_srate']\n",
    "srate"
   ]
  },
  {
   "cell_type": "code",
   "execution_count": 220,
   "metadata": {},
   "outputs": [],
   "source": [
    "tf = [math.isclose(x, 1/srate, abs_tol=1e-2) for x in et_df.lsl_time_stamp.diff()]"
   ]
  },
  {
   "cell_type": "code",
   "execution_count": 224,
   "metadata": {},
   "outputs": [
    {
     "data": {
      "text/plain": [
       "array([     0, 182952])"
      ]
     },
     "execution_count": 224,
     "metadata": {},
     "output_type": "execute_result"
    }
   ],
   "source": [
    "# get indices where tf == False\n",
    "tf_array = np.array(tf)\n",
    "np.where(tf_array == False)[0]\n",
    "\n",
    "# [i for i, val in enumerate(tf) if not val]"
   ]
  },
  {
   "cell_type": "code",
   "execution_count": 229,
   "metadata": {},
   "outputs": [
    {
     "data": {
      "text/plain": [
       "array([182952])"
      ]
     },
     "execution_count": 229,
     "metadata": {},
     "output_type": "execute_result"
    }
   ],
   "source": [
    "# this is how you should find indexes of where diff is not as expected\n",
    "loss_index = np.where(et_df['diff'] > 1/srate+.01)[0]\n",
    "loss_index\n",
    "# or np.where(et_df['diff'] > et_df['diff'].median()+.01)[0]\n"
   ]
  },
  {
   "cell_type": "code",
   "execution_count": 77,
   "metadata": {},
   "outputs": [
    {
     "data": {
      "text/plain": [
       "[<matplotlib.lines.Line2D at 0x13591bf50>]"
      ]
     },
     "execution_count": 77,
     "metadata": {},
     "output_type": "execute_result"
    },
    {
     "data": {
      "image/png": "[encoded data removed]",
      "text/plain": [
       "<Figure size 640x480 with 1 Axes>"
      ]
     },
     "metadata": {},
     "output_type": "display_data"
    }
   ],
   "source": [
    "ax = plt.plot(et_df['lsl_time_stamp'])\n",
    "ax"
   ]
  },
  {
   "cell_type": "code",
   "execution_count": 315,
   "metadata": {},
   "outputs": [
    {
     "data": {
      "image/png": "[encoded data removed]",
      "text/plain": [
       "<Figure size 2000x300 with 1 Axes>"
      ]
     },
     "metadata": {},
     "output_type": "display_data"
    }
   ],
   "source": [
    "plt.figure(figsize = (20, 3))\n",
    "plt.plot(et_df['lsl_time_stamp'], et_df['right_pupil_diameter'])\n",
    "evs = stim_df.loc[stim_df.event != 'psychopy_time_stamp']\n",
    "for event1 in evs['event']:\n",
    "    plt.axvline(stim_df.loc[stim_df.event == event1, 'lsl_time_stamp'].values[0], color='r')\n",
    "    plt.text(stim_df.loc[stim_df.event == event1, 'lsl_time_stamp'].values[0]+2, 2, event1, rotation=90, fontsize = 8)\n",
    "\n",
    "plt.axvline(et_df.loc[loss_index[0], 'lsl_time_stamp'], color='purple', linestyle = ':')\n",
    "plt.axvline(et_df.loc[loss_index[0]-1, 'lsl_time_stamp'], color='purple', linestyle = ':')\n",
    "\n",
    "\n",
    "plt.axvline(stim_start, color = 'green')\n",
    "plt.text(stim_start+1, 2, 'stim start')\n",
    "plt.axvline(et_start, color = 'darkgreen')\n",
    "plt.text(et_start+1, 2, 'et start')\n",
    "\n",
    "plt.show()\n"
   ]
  },
  {
   "cell_type": "markdown",
   "metadata": {},
   "source": [
    "# Percentage of missing data "
   ]
  },
  {
   "cell_type": "code",
   "execution_count": 80,
   "metadata": {},
   "outputs": [
    {
     "data": {
      "application/vnd.microsoft.datawrangler.viewer.v0+json": {
       "columns": [
        {
         "name": "index",
         "rawType": "int64",
         "type": "integer"
        },
        {
         "name": "sub_num",
         "rawType": "int64",
         "type": "integer"
        },
        {
         "name": "date",
         "rawType": "object",
         "type": "string"
        },
        {
         "name": "subject",
         "rawType": "object",
         "type": "string"
        },
        {
         "name": "modality",
         "rawType": "object",
         "type": "string"
        },
        {
         "name": "num_losses",
         "rawType": "int64",
         "type": "integer"
        },
        {
         "name": "percent_lost",
         "rawType": "float64",
         "type": "float"
        }
       ],
       "conversionMethod": "pd.DataFrame",
       "ref": "b5f45b48-d7fa-4a21-ba53-f30f63976ae5",
       "rows": [
        [
         "0",
         "9",
         "2024-10-08",
         "P5548165",
         "et",
         "1",
         "42.149"
        ],
        [
         "1",
         "9",
         "2024-10-08",
         "P5548165",
         "ps",
         "3",
         "1.379"
        ],
        [
         "2",
         "9",
         "2024-10-08",
         "P5548165",
         "mic",
         "0",
         "0.0"
        ],
        [
         "3",
         "9",
         "2024-10-08",
         "P5548165",
         "cam",
         "1",
         "1.739"
        ],
        [
         "4",
         "9",
         "2024-10-08",
         "P5548165",
         "eeg",
         "0",
         "0.0"
        ]
       ],
       "shape": {
        "columns": 6,
        "rows": 5
       }
      },
      "text/html": [
       "<div>\n",
       "<style scoped>\n",
       "    .dataframe tbody tr th:only-of-type {\n",
       "        vertical-align: middle;\n",
       "    }\n",
       "\n",
       "    .dataframe tbody tr th {\n",
       "        vertical-align: top;\n",
       "    }\n",
       "\n",
       "    .dataframe thead th {\n",
       "        text-align: right;\n",
       "    }\n",
       "</style>\n",
       "<table border=\"1\" class=\"dataframe\">\n",
       "  <thead>\n",
       "    <tr style=\"text-align: right;\">\n",
       "      <th></th>\n",
       "      <th>sub_num</th>\n",
       "      <th>date</th>\n",
       "      <th>subject</th>\n",
       "      <th>modality</th>\n",
       "      <th>num_losses</th>\n",
       "      <th>percent_lost</th>\n",
       "    </tr>\n",
       "  </thead>\n",
       "  <tbody>\n",
       "    <tr>\n",
       "      <th>0</th>\n",
       "      <td>9</td>\n",
       "      <td>2024-10-08</td>\n",
       "      <td>P5548165</td>\n",
       "      <td>et</td>\n",
       "      <td>1</td>\n",
       "      <td>42.149</td>\n",
       "    </tr>\n",
       "    <tr>\n",
       "      <th>1</th>\n",
       "      <td>9</td>\n",
       "      <td>2024-10-08</td>\n",
       "      <td>P5548165</td>\n",
       "      <td>ps</td>\n",
       "      <td>3</td>\n",
       "      <td>1.379</td>\n",
       "    </tr>\n",
       "    <tr>\n",
       "      <th>2</th>\n",
       "      <td>9</td>\n",
       "      <td>2024-10-08</td>\n",
       "      <td>P5548165</td>\n",
       "      <td>mic</td>\n",
       "      <td>0</td>\n",
       "      <td>0.000</td>\n",
       "    </tr>\n",
       "    <tr>\n",
       "      <th>3</th>\n",
       "      <td>9</td>\n",
       "      <td>2024-10-08</td>\n",
       "      <td>P5548165</td>\n",
       "      <td>cam</td>\n",
       "      <td>1</td>\n",
       "      <td>1.739</td>\n",
       "    </tr>\n",
       "    <tr>\n",
       "      <th>4</th>\n",
       "      <td>9</td>\n",
       "      <td>2024-10-08</td>\n",
       "      <td>P5548165</td>\n",
       "      <td>eeg</td>\n",
       "      <td>0</td>\n",
       "      <td>0.000</td>\n",
       "    </tr>\n",
       "  </tbody>\n",
       "</table>\n",
       "</div>"
      ],
      "text/plain": [
       "   sub_num        date   subject modality  num_losses  percent_lost\n",
       "0        9  2024-10-08  P5548165       et           1        42.149\n",
       "1        9  2024-10-08  P5548165       ps           3         1.379\n",
       "2        9  2024-10-08  P5548165      mic           0         0.000\n",
       "3        9  2024-10-08  P5548165      cam           1         1.739\n",
       "4        9  2024-10-08  P5548165      eeg           0         0.000"
      ]
     },
     "execution_count": 80,
     "metadata": {},
     "output_type": "execute_result"
    }
   ],
   "source": [
    "# df with percent loss (diff greater than median)\n",
    "modalities = ['et', 'ps', 'mic', 'cam', 'eeg']\n",
    "percent_list = []\n",
    "\n",
    "timestamp = int(stim_df.loc[stim_df['event'] == 'psychopy_time_stamp', 'trigger'].iloc[0])\n",
    "date_object = datetime.datetime.fromtimestamp(timestamp)\n",
    "date_string = date_object.strftime(\"%Y-%m-%d\")\n",
    "\n",
    "for modality in modalities:\n",
    "    df = globals()[modality+'_df']\n",
    "    subject = sub_files[sub_number].split('/')[4].split('-')[1]\n",
    "\n",
    "    \n",
    "    # median diff between lsl_time_stamp (with 1.05 margin) \n",
    "    median1 = df['diff'].median() * 1.05\n",
    "    # number of loss instances  \n",
    "    loss_instances = (df['diff'] > median1).sum()\n",
    "    if loss_instances != 0:\n",
    "        # amount of data skipped: values for which diff>median \n",
    "        amt_data_lost = df.loc[df['diff'] > median1, 'diff'].values[0].sum()\n",
    "        # total amount of data: last - first lsl_time_stamp\n",
    "        amt_data_total = df['lsl_time_stamp'].values[-1] - df['lsl_time_stamp'].values[0]\n",
    "\n",
    "        percent_lost = round(amt_data_lost/amt_data_total * 100, 3)\n",
    "    else:\n",
    "        percent_lost = 0\n",
    "    percent_list.append({'sub_num':sub_number, 'date': date_string, 'subject': subject, 'modality': modality, 'num_losses': loss_instances, 'percent_lost': percent_lost})\n",
    "        \n",
    "percent_data_loss = pd.DataFrame(percent_list)\n",
    "percent_data_loss.sort_values(by='date', inplace=True, ascending=True)\n",
    "percent_data_loss\n"
   ]
  },
  {
   "cell_type": "code",
   "execution_count": 81,
   "metadata": {},
   "outputs": [
    {
     "data": {
      "application/vnd.microsoft.datawrangler.viewer.v0+json": {
       "columns": [
        {
         "name": "index",
         "rawType": "int64",
         "type": "integer"
        },
        {
         "name": "sub_num",
         "rawType": "int64",
         "type": "integer"
        },
        {
         "name": "date",
         "rawType": "object",
         "type": "string"
        },
        {
         "name": "subject",
         "rawType": "object",
         "type": "string"
        },
        {
         "name": "modality",
         "rawType": "object",
         "type": "string"
        },
        {
         "name": "num_losses",
         "rawType": "int64",
         "type": "integer"
        },
        {
         "name": "percent_lost",
         "rawType": "float64",
         "type": "float"
        }
       ],
       "conversionMethod": "pd.DataFrame",
       "ref": "5d7c87df-4bf9-493d-b8f6-84271945f1cc",
       "rows": [
        [
         "0",
         "9",
         "2024-10-08",
         "P5548165",
         "et",
         "1",
         "42.149"
        ],
        [
         "1",
         "9",
         "2024-10-08",
         "P5548165",
         "ps",
         "3",
         "1.379"
        ],
        [
         "3",
         "9",
         "2024-10-08",
         "P5548165",
         "cam",
         "1",
         "1.739"
        ]
       ],
       "shape": {
        "columns": 6,
        "rows": 3
       }
      },
      "text/html": [
       "<div>\n",
       "<style scoped>\n",
       "    .dataframe tbody tr th:only-of-type {\n",
       "        vertical-align: middle;\n",
       "    }\n",
       "\n",
       "    .dataframe tbody tr th {\n",
       "        vertical-align: top;\n",
       "    }\n",
       "\n",
       "    .dataframe thead th {\n",
       "        text-align: right;\n",
       "    }\n",
       "</style>\n",
       "<table border=\"1\" class=\"dataframe\">\n",
       "  <thead>\n",
       "    <tr style=\"text-align: right;\">\n",
       "      <th></th>\n",
       "      <th>sub_num</th>\n",
       "      <th>date</th>\n",
       "      <th>subject</th>\n",
       "      <th>modality</th>\n",
       "      <th>num_losses</th>\n",
       "      <th>percent_lost</th>\n",
       "    </tr>\n",
       "  </thead>\n",
       "  <tbody>\n",
       "    <tr>\n",
       "      <th>0</th>\n",
       "      <td>9</td>\n",
       "      <td>2024-10-08</td>\n",
       "      <td>P5548165</td>\n",
       "      <td>et</td>\n",
       "      <td>1</td>\n",
       "      <td>42.149</td>\n",
       "    </tr>\n",
       "    <tr>\n",
       "      <th>1</th>\n",
       "      <td>9</td>\n",
       "      <td>2024-10-08</td>\n",
       "      <td>P5548165</td>\n",
       "      <td>ps</td>\n",
       "      <td>3</td>\n",
       "      <td>1.379</td>\n",
       "    </tr>\n",
       "    <tr>\n",
       "      <th>3</th>\n",
       "      <td>9</td>\n",
       "      <td>2024-10-08</td>\n",
       "      <td>P5548165</td>\n",
       "      <td>cam</td>\n",
       "      <td>1</td>\n",
       "      <td>1.739</td>\n",
       "    </tr>\n",
       "  </tbody>\n",
       "</table>\n",
       "</div>"
      ],
      "text/plain": [
       "   sub_num        date   subject modality  num_losses  percent_lost\n",
       "0        9  2024-10-08  P5548165       et           1        42.149\n",
       "1        9  2024-10-08  P5548165       ps           3         1.379\n",
       "3        9  2024-10-08  P5548165      cam           1         1.739"
      ]
     },
     "execution_count": 81,
     "metadata": {},
     "output_type": "execute_result"
    }
   ],
   "source": [
    "nonzero_loss = percent_data_loss[percent_data_loss['percent_lost'] != 0]\n",
    "nonzero_loss"
   ]
  },
  {
   "cell_type": "code",
   "execution_count": 82,
   "metadata": {},
   "outputs": [
    {
     "data": {
      "application/vnd.microsoft.datawrangler.viewer.v0+json": {
       "columns": [
        {
         "name": "index",
         "rawType": "int64",
         "type": "integer"
        },
        {
         "name": "sub_num",
         "rawType": "int64",
         "type": "integer"
        },
        {
         "name": "date",
         "rawType": "object",
         "type": "string"
        },
        {
         "name": "subject",
         "rawType": "object",
         "type": "string"
        },
        {
         "name": "modality",
         "rawType": "object",
         "type": "string"
        },
        {
         "name": "num_short",
         "rawType": "int64",
         "type": "integer"
        }
       ],
       "conversionMethod": "pd.DataFrame",
       "ref": "7d21b580-b5b6-4e17-b476-8a31ac05378a",
       "rows": [
        [
         "0",
         "9",
         "2024-10-08",
         "P5548165",
         "et",
         "0"
        ],
        [
         "1",
         "9",
         "2024-10-08",
         "P5548165",
         "ps",
         "0"
        ],
        [
         "2",
         "9",
         "2024-10-08",
         "P5548165",
         "mic",
         "0"
        ],
        [
         "3",
         "9",
         "2024-10-08",
         "P5548165",
         "cam",
         "0"
        ],
        [
         "4",
         "9",
         "2024-10-08",
         "P5548165",
         "eeg",
         "0"
        ]
       ],
       "shape": {
        "columns": 5,
        "rows": 5
       }
      },
      "text/html": [
       "<div>\n",
       "<style scoped>\n",
       "    .dataframe tbody tr th:only-of-type {\n",
       "        vertical-align: middle;\n",
       "    }\n",
       "\n",
       "    .dataframe tbody tr th {\n",
       "        vertical-align: top;\n",
       "    }\n",
       "\n",
       "    .dataframe thead th {\n",
       "        text-align: right;\n",
       "    }\n",
       "</style>\n",
       "<table border=\"1\" class=\"dataframe\">\n",
       "  <thead>\n",
       "    <tr style=\"text-align: right;\">\n",
       "      <th></th>\n",
       "      <th>sub_num</th>\n",
       "      <th>date</th>\n",
       "      <th>subject</th>\n",
       "      <th>modality</th>\n",
       "      <th>num_short</th>\n",
       "    </tr>\n",
       "  </thead>\n",
       "  <tbody>\n",
       "    <tr>\n",
       "      <th>0</th>\n",
       "      <td>9</td>\n",
       "      <td>2024-10-08</td>\n",
       "      <td>P5548165</td>\n",
       "      <td>et</td>\n",
       "      <td>0</td>\n",
       "    </tr>\n",
       "    <tr>\n",
       "      <th>1</th>\n",
       "      <td>9</td>\n",
       "      <td>2024-10-08</td>\n",
       "      <td>P5548165</td>\n",
       "      <td>ps</td>\n",
       "      <td>0</td>\n",
       "    </tr>\n",
       "    <tr>\n",
       "      <th>2</th>\n",
       "      <td>9</td>\n",
       "      <td>2024-10-08</td>\n",
       "      <td>P5548165</td>\n",
       "      <td>mic</td>\n",
       "      <td>0</td>\n",
       "    </tr>\n",
       "    <tr>\n",
       "      <th>3</th>\n",
       "      <td>9</td>\n",
       "      <td>2024-10-08</td>\n",
       "      <td>P5548165</td>\n",
       "      <td>cam</td>\n",
       "      <td>0</td>\n",
       "    </tr>\n",
       "    <tr>\n",
       "      <th>4</th>\n",
       "      <td>9</td>\n",
       "      <td>2024-10-08</td>\n",
       "      <td>P5548165</td>\n",
       "      <td>eeg</td>\n",
       "      <td>0</td>\n",
       "    </tr>\n",
       "  </tbody>\n",
       "</table>\n",
       "</div>"
      ],
      "text/plain": [
       "   sub_num        date   subject modality  num_short\n",
       "0        9  2024-10-08  P5548165       et          0\n",
       "1        9  2024-10-08  P5548165       ps          0\n",
       "2        9  2024-10-08  P5548165      mic          0\n",
       "3        9  2024-10-08  P5548165      cam          0\n",
       "4        9  2024-10-08  P5548165      eeg          0"
      ]
     },
     "execution_count": 82,
     "metadata": {},
     "output_type": "execute_result"
    }
   ],
   "source": [
    "# df with number of diff significantly BELOW median\n",
    "short_diff_list = []\n",
    "\n",
    "for modality in modalities:\n",
    "    df = globals()[modality+'_df']\n",
    "    subject = sub_files[sub_number].split('/')[4].split('-')[1]\n",
    "    \n",
    "    # median diff between lsl_time_stamp (lower bound) (.99 for rounding)\n",
    "    median2 = df['diff'].median() * .99\n",
    "    # number of loss instances  \n",
    "    short_instances = (df['diff'] < median2).sum()\n",
    "\n",
    "    short_diff_list.append({'sub_num':sub_number, 'date': date_string, 'subject': subject, 'modality': modality, 'num_short': short_instances})\n",
    "        \n",
    "short_diff_df = pd.DataFrame(short_diff_list)\n",
    "short_diff_df"
   ]
  },
  {
   "cell_type": "markdown",
   "metadata": {},
   "source": [
    "# Amount of loss before offset_socialtask"
   ]
  },
  {
   "cell_type": "code",
   "execution_count": 181,
   "metadata": {},
   "outputs": [
    {
     "name": "stdout",
     "output_type": "stream",
     "text": [
      "0.002724714344367385\n",
      "0.0011933763162232935\n",
      "1.492892624810338e-05\n",
      "0.022955443942919374\n",
      "0.0008368722046725452\n"
     ]
    },
    {
     "data": {
      "application/vnd.microsoft.datawrangler.viewer.v0+json": {
       "columns": [
        {
         "name": "index",
         "rawType": "int64",
         "type": "integer"
        },
        {
         "name": "sub_num",
         "rawType": "int64",
         "type": "integer"
        },
        {
         "name": "date",
         "rawType": "object",
         "type": "string"
        },
        {
         "name": "subject",
         "rawType": "object",
         "type": "string"
        },
        {
         "name": "modality",
         "rawType": "object",
         "type": "string"
        },
        {
         "name": "num_losses",
         "rawType": "int64",
         "type": "integer"
        },
        {
         "name": "percent_lost",
         "rawType": "float64",
         "type": "float"
        }
       ],
       "conversionMethod": "pd.DataFrame",
       "ref": "e2c7fcf7-7c3d-43af-a442-d1ad3d1e9a80",
       "rows": [
        [
         "0",
         "1",
         "2024-10-08",
         "P5942694",
         "et",
         "0",
         "0.0"
        ],
        [
         "1",
         "1",
         "2024-10-08",
         "P5942694",
         "ps",
         "0",
         "0.0"
        ],
        [
         "2",
         "1",
         "2024-10-08",
         "P5942694",
         "mic",
         "0",
         "0.0"
        ],
        [
         "3",
         "1",
         "2024-10-08",
         "P5942694",
         "cam",
         "0",
         "0.0"
        ],
        [
         "4",
         "1",
         "2024-10-08",
         "P5942694",
         "eeg",
         "0",
         "0.0"
        ]
       ],
       "shape": {
        "columns": 6,
        "rows": 5
       }
      },
      "text/html": [
       "<div>\n",
       "<style scoped>\n",
       "    .dataframe tbody tr th:only-of-type {\n",
       "        vertical-align: middle;\n",
       "    }\n",
       "\n",
       "    .dataframe tbody tr th {\n",
       "        vertical-align: top;\n",
       "    }\n",
       "\n",
       "    .dataframe thead th {\n",
       "        text-align: right;\n",
       "    }\n",
       "</style>\n",
       "<table border=\"1\" class=\"dataframe\">\n",
       "  <thead>\n",
       "    <tr style=\"text-align: right;\">\n",
       "      <th></th>\n",
       "      <th>sub_num</th>\n",
       "      <th>date</th>\n",
       "      <th>subject</th>\n",
       "      <th>modality</th>\n",
       "      <th>num_losses</th>\n",
       "      <th>percent_lost</th>\n",
       "    </tr>\n",
       "  </thead>\n",
       "  <tbody>\n",
       "    <tr>\n",
       "      <th>0</th>\n",
       "      <td>1</td>\n",
       "      <td>2024-10-08</td>\n",
       "      <td>P5942694</td>\n",
       "      <td>et</td>\n",
       "      <td>0</td>\n",
       "      <td>0.0</td>\n",
       "    </tr>\n",
       "    <tr>\n",
       "      <th>1</th>\n",
       "      <td>1</td>\n",
       "      <td>2024-10-08</td>\n",
       "      <td>P5942694</td>\n",
       "      <td>ps</td>\n",
       "      <td>0</td>\n",
       "      <td>0.0</td>\n",
       "    </tr>\n",
       "    <tr>\n",
       "      <th>2</th>\n",
       "      <td>1</td>\n",
       "      <td>2024-10-08</td>\n",
       "      <td>P5942694</td>\n",
       "      <td>mic</td>\n",
       "      <td>0</td>\n",
       "      <td>0.0</td>\n",
       "    </tr>\n",
       "    <tr>\n",
       "      <th>3</th>\n",
       "      <td>1</td>\n",
       "      <td>2024-10-08</td>\n",
       "      <td>P5942694</td>\n",
       "      <td>cam</td>\n",
       "      <td>0</td>\n",
       "      <td>0.0</td>\n",
       "    </tr>\n",
       "    <tr>\n",
       "      <th>4</th>\n",
       "      <td>1</td>\n",
       "      <td>2024-10-08</td>\n",
       "      <td>P5942694</td>\n",
       "      <td>eeg</td>\n",
       "      <td>0</td>\n",
       "      <td>0.0</td>\n",
       "    </tr>\n",
       "  </tbody>\n",
       "</table>\n",
       "</div>"
      ],
      "text/plain": [
       "   sub_num        date   subject modality  num_losses  percent_lost\n",
       "0        1  2024-10-08  P5942694       et           0           0.0\n",
       "1        1  2024-10-08  P5942694       ps           0           0.0\n",
       "2        1  2024-10-08  P5942694      mic           0           0.0\n",
       "3        1  2024-10-08  P5942694      cam           0           0.0\n",
       "4        1  2024-10-08  P5942694      eeg           0           0.0"
      ]
     },
     "execution_count": 181,
     "metadata": {},
     "output_type": "execute_result"
    }
   ],
   "source": [
    "# df with percent loss (diff greater than median), before social task offset\n",
    "offset_social_timestamp = stim_df.loc[stim_df['event'] == 'Offset_SocialTask', 'lsl_time_stamp'].values[0]\n",
    "social_percent_list = []\n",
    "subject = sub_files[sub_number].split('/')[4].split('-')[1]\n",
    "\n",
    "\n",
    "for modality in modalities:\n",
    "    df = globals()[modality+'_df']\n",
    "    social_df = df.loc[df.lsl_time_stamp <= offset_social_timestamp]\n",
    "\n",
    "    # median diff between lsl_time_stamp (with 1.05 margin) \n",
    "    median1 = df['diff'].median() * 1.05\n",
    "\n",
    "    # number of loss instances  \n",
    "    loss_instances = (social_df['diff'] > median1).sum()\n",
    "    percent_lost = 0\n",
    "    amt_data_lost = 0\n",
    "\n",
    "    # LSL loss starts and ends before offset_social\n",
    "    if loss_instances != 0:\n",
    "        # amount of data skipped: values for which diff>median \n",
    "        amt_data_lost = social_df.loc[social_df['diff'] > median1, 'diff'].values[0].sum()\n",
    "\n",
    "    # offset social is between LSL loss onset + offset\n",
    "    remaining_lost = offset_social_timestamp - social_df['lsl_time_stamp'].values[-1]\n",
    "    if (remaining_lost) > 1:\n",
    "        loss_instances +=1\n",
    "        amt_data_lost = amt_data_lost + remaining_lost\n",
    "\n",
    "    amt_data_total = offset_social_timestamp - social_df['lsl_time_stamp'].values[0]\n",
    "    percent_lost = round(amt_data_lost/amt_data_total * 100, 3)\n",
    "\n",
    "    social_percent_list.append({'sub_num':sub_number, 'date': date_string, 'subject': subject, 'modality': modality, 'num_losses': loss_instances, 'percent_lost': percent_lost})\n",
    "        \n",
    "percent_data_loss_social = pd.DataFrame(social_percent_list)\n",
    "percent_data_loss_social.sort_values(by='date', inplace=True, ascending=True)\n",
    "percent_data_loss_social\n",
    "\n"
   ]
  },
  {
   "cell_type": "code",
   "execution_count": 182,
   "metadata": {},
   "outputs": [
    {
     "data": {
      "application/vnd.microsoft.datawrangler.viewer.v0+json": {
       "columns": [
        {
         "name": "index",
         "rawType": "int64",
         "type": "integer"
        },
        {
         "name": "sub_num",
         "rawType": "int64",
         "type": "integer"
        },
        {
         "name": "date",
         "rawType": "object",
         "type": "string"
        },
        {
         "name": "subject",
         "rawType": "object",
         "type": "string"
        },
        {
         "name": "modality",
         "rawType": "object",
         "type": "string"
        },
        {
         "name": "num_losses",
         "rawType": "int64",
         "type": "integer"
        },
        {
         "name": "percent_lost",
         "rawType": "float64",
         "type": "float"
        }
       ],
       "conversionMethod": "pd.DataFrame",
       "ref": "6af7bca0-4464-469e-b0c4-0a884bf7d839",
       "rows": [],
       "shape": {
        "columns": 6,
        "rows": 0
       }
      },
      "text/html": [
       "<div>\n",
       "<style scoped>\n",
       "    .dataframe tbody tr th:only-of-type {\n",
       "        vertical-align: middle;\n",
       "    }\n",
       "\n",
       "    .dataframe tbody tr th {\n",
       "        vertical-align: top;\n",
       "    }\n",
       "\n",
       "    .dataframe thead th {\n",
       "        text-align: right;\n",
       "    }\n",
       "</style>\n",
       "<table border=\"1\" class=\"dataframe\">\n",
       "  <thead>\n",
       "    <tr style=\"text-align: right;\">\n",
       "      <th></th>\n",
       "      <th>sub_num</th>\n",
       "      <th>date</th>\n",
       "      <th>subject</th>\n",
       "      <th>modality</th>\n",
       "      <th>num_losses</th>\n",
       "      <th>percent_lost</th>\n",
       "    </tr>\n",
       "  </thead>\n",
       "  <tbody>\n",
       "  </tbody>\n",
       "</table>\n",
       "</div>"
      ],
      "text/plain": [
       "Empty DataFrame\n",
       "Columns: [sub_num, date, subject, modality, num_losses, percent_lost]\n",
       "Index: []"
      ]
     },
     "execution_count": 182,
     "metadata": {},
     "output_type": "execute_result"
    }
   ],
   "source": [
    "nonzero_loss_social = percent_data_loss_social[percent_data_loss_social['percent_lost'] != 0]\n",
    "nonzero_loss_social"
   ]
  },
  {
   "cell_type": "markdown",
   "metadata": {},
   "source": [
    "## LSL start times"
   ]
  },
  {
   "cell_type": "code",
   "execution_count": 313,
   "metadata": {},
   "outputs": [
    {
     "data": {
      "application/vnd.microsoft.datawrangler.viewer.v0+json": {
       "columns": [
        {
         "name": "index",
         "rawType": "int64",
         "type": "integer"
        },
        {
         "name": "modality",
         "rawType": "object",
         "type": "string"
        },
        {
         "name": "lsl_start",
         "rawType": "float64",
         "type": "float"
        }
       ],
       "conversionMethod": "pd.DataFrame",
       "ref": "4025c770-cd16-4896-91f7-8f5ffa192906",
       "rows": [
        [
         "0",
         "et",
         "468110.8858410769"
        ],
        [
         "4",
         "eeg",
         "468110.8984694386"
        ],
        [
         "3",
         "cam",
         "468110.93263271404"
        ],
        [
         "1",
         "ps",
         "468111.0506211601"
        ],
        [
         "5",
         "stim",
         "468121.6759607343"
        ],
        [
         "2",
         "mic",
         "468482.35198685876"
        ]
       ],
       "shape": {
        "columns": 2,
        "rows": 6
       }
      },
      "text/html": [
       "<div>\n",
       "<style scoped>\n",
       "    .dataframe tbody tr th:only-of-type {\n",
       "        vertical-align: middle;\n",
       "    }\n",
       "\n",
       "    .dataframe tbody tr th {\n",
       "        vertical-align: top;\n",
       "    }\n",
       "\n",
       "    .dataframe thead th {\n",
       "        text-align: right;\n",
       "    }\n",
       "</style>\n",
       "<table border=\"1\" class=\"dataframe\">\n",
       "  <thead>\n",
       "    <tr style=\"text-align: right;\">\n",
       "      <th></th>\n",
       "      <th>modality</th>\n",
       "      <th>lsl_start</th>\n",
       "    </tr>\n",
       "  </thead>\n",
       "  <tbody>\n",
       "    <tr>\n",
       "      <th>0</th>\n",
       "      <td>et</td>\n",
       "      <td>468110.885841</td>\n",
       "    </tr>\n",
       "    <tr>\n",
       "      <th>4</th>\n",
       "      <td>eeg</td>\n",
       "      <td>468110.898469</td>\n",
       "    </tr>\n",
       "    <tr>\n",
       "      <th>3</th>\n",
       "      <td>cam</td>\n",
       "      <td>468110.932633</td>\n",
       "    </tr>\n",
       "    <tr>\n",
       "      <th>1</th>\n",
       "      <td>ps</td>\n",
       "      <td>468111.050621</td>\n",
       "    </tr>\n",
       "    <tr>\n",
       "      <th>5</th>\n",
       "      <td>stim</td>\n",
       "      <td>468121.675961</td>\n",
       "    </tr>\n",
       "    <tr>\n",
       "      <th>2</th>\n",
       "      <td>mic</td>\n",
       "      <td>468482.351987</td>\n",
       "    </tr>\n",
       "  </tbody>\n",
       "</table>\n",
       "</div>"
      ],
      "text/plain": [
       "  modality      lsl_start\n",
       "0       et  468110.885841\n",
       "4      eeg  468110.898469\n",
       "3      cam  468110.932633\n",
       "1       ps  468111.050621\n",
       "5     stim  468121.675961\n",
       "2      mic  468482.351987"
      ]
     },
     "execution_count": 313,
     "metadata": {},
     "output_type": "execute_result"
    }
   ],
   "source": [
    "stim_start = stim_df['lsl_time_stamp'][0]\n",
    "mic_start = mic_df['lsl_time_stamp'][0]\n",
    "cam_start = cam_df['lsl_time_stamp'][0]\n",
    "ps_start = ps_df['lsl_time_stamp'][0]\n",
    "eeg_start = eeg_df['lsl_time_stamp'][0]\n",
    "et_start = et_df['lsl_time_stamp'][0]\n",
    "\n",
    "lsl_start_df = pd.DataFrame(columns = ['modality', 'lsl_start'])\n",
    "lsl_start_df['modality'] = modalities\n",
    "lsl_start_df['lsl_start'] = [et_start, ps_start, mic_start, cam_start, eeg_start, stim_start]\n",
    "lsl_start_df.sort_values(by = 'lsl_start')"
   ]
  },
  {
   "cell_type": "code",
   "execution_count": 322,
   "metadata": {},
   "outputs": [
    {
     "data": {
      "image/png": "[encoded data removed]",
      "text/plain": [
       "<Figure size 2000x300 with 1 Axes>"
      ]
     },
     "metadata": {},
     "output_type": "display_data"
    }
   ],
   "source": [
    "stim_start = stim_df['lsl_time_stamp'][0]\n",
    "mic_start = mic_df['lsl_time_stamp'][0]\n",
    "cam_start = cam_df['lsl_time_stamp'][0]\n",
    "ps_start = ps_df['lsl_time_stamp'][0]\n",
    "eeg_start = eeg_df['lsl_time_stamp'][0]\n",
    "et_start = et_df['lsl_time_stamp'][0]\n",
    "\n",
    "plt.figure(figsize=(20, 3))\n",
    "plt.plot(et_df['lsl_time_stamp'], et_df['right_pupil_diameter'])\n",
    "\n",
    "colors = plt.cm.plasma(np.linspace(.1, 1, len(modalities)))\n",
    "\n",
    "for color, modality in zip(colors, modalities):\n",
    "    start = globals()[modality+'_start']\n",
    "    plt.axvline(start, color = color)\n",
    "    plt.text(start + 5, color[1]+2, f'{modality}')"
   ]
  }
 ],
 "metadata": {
  "kernelspec": {
   "display_name": "cuny_env",
   "language": "python",
   "name": "python3"
  },
  "language_info": {
   "codemirror_mode": {
    "name": "ipython",
    "version": 3
   },
   "file_extension": ".py",
   "mimetype": "text/x-python",
   "name": "python",
   "nbconvert_exporter": "python",
   "pygments_lexer": "ipython3",
   "version": "3.12.7"
  }
 },
 "nbformat": 4,
 "nbformat_minor": 2
}
