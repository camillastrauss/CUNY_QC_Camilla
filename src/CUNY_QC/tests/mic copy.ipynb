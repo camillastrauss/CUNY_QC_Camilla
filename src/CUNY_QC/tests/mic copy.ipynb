{
 "cells": [
  {
   "cell_type": "markdown",
   "metadata": {},
   "source": [
    "# Imports"
   ]
  },
  {
   "cell_type": "code",
   "execution_count": 1,
   "metadata": {},
   "outputs": [],
   "source": [
    "import pyxdf\n",
    "import pandas as pd\n",
    "import numpy as np\n",
    "import sounddevice as sd\n",
    "from glob import glob\n",
    "from tqdm import tqdm\n",
    "import librosa\n",
    "import datetime\n"
   ]
  },
  {
   "cell_type": "markdown",
   "metadata": {},
   "source": [
    "# Load Data"
   ]
  },
  {
   "cell_type": "code",
   "execution_count": 2,
   "metadata": {},
   "outputs": [
    {
     "data": {
      "text/plain": [
       "['../sub-P5318014/sub-P5318014_ses-S001_task-CUNY_run-001_mobi.xdf',\n",
       " '../sub-5182010/sub-P5182010_ses-S001_task-CUNY_run-001_mobi.xdf',\n",
       " '../sub-P5447527/sub-P5447527_ses-S001_task-CUNY_run-001_mobi.xdf',\n",
       " '../sub-P5548165/sub-P5548165_ses-S001_task-CUNY_run-001_MOBI.xdf']"
      ]
     },
     "execution_count": 2,
     "metadata": {},
     "output_type": "execute_result"
    }
   ],
   "source": [
    "sub_files = glob('../*/*.xdf')\n",
    "sub_files"
   ]
  },
  {
   "cell_type": "code",
   "execution_count": 3,
   "metadata": {},
   "outputs": [
    {
     "data": {
      "text/plain": [
       "['WebcamStream',\n",
       " 'Stimuli_Markers',\n",
       " 'Tobii',\n",
       " 'OpenSignals',\n",
       " 'EGI NetAmp 0',\n",
       " 'Microphone']"
      ]
     },
     "execution_count": 3,
     "metadata": {},
     "output_type": "execute_result"
    }
   ],
   "source": [
    "xdf_path = sub_files[1]\n",
    "data, header = pyxdf.load_xdf(xdf_path)\n",
    "streams_collected = [stream['info']['name'][0] for stream in data]\n",
    "\n",
    "\n",
    "'''\n",
    "HELPERS\n",
    "'''\n",
    "def get_event_data(event, df, stim_df):\n",
    "    return df.loc[(df.lsl_time_stamp >= stim_df.loc[stim_df.event == 'Onset_'+event, 'lsl_time_stamp'].values[0]) & \n",
    "                  (df.lsl_time_stamp <= stim_df.loc[stim_df.event == 'Offset_'+event, 'lsl_time_stamp'].values[0])]\n",
    "\n",
    "def get_secs_between_triggers(trigger1, trigger2, stim_df):\n",
    "    return stim_df.loc[stim_df.trigger == trigger1, 'time'].values[0] - stim_df.loc[stim_df.trigger == trigger2, 'time'].values[0]\n",
    "\n",
    "                  \n",
    "streams_collected"
   ]
  },
  {
   "cell_type": "markdown",
   "metadata": {},
   "source": [
    "# Stimulus"
   ]
  },
  {
   "cell_type": "code",
   "execution_count": 4,
   "metadata": {},
   "outputs": [
    {
     "data": {
      "text/html": [
       "<div>\n",
       "<style scoped>\n",
       "    .dataframe tbody tr th:only-of-type {\n",
       "        vertical-align: middle;\n",
       "    }\n",
       "\n",
       "    .dataframe tbody tr th {\n",
       "        vertical-align: top;\n",
       "    }\n",
       "\n",
       "    .dataframe thead th {\n",
       "        text-align: right;\n",
       "    }\n",
       "</style>\n",
       "<table border=\"1\" class=\"dataframe\">\n",
       "  <thead>\n",
       "    <tr style=\"text-align: right;\">\n",
       "      <th></th>\n",
       "      <th>trigger</th>\n",
       "      <th>event</th>\n",
       "      <th>lsl_time_stamp</th>\n",
       "      <th>time</th>\n",
       "    </tr>\n",
       "  </thead>\n",
       "  <tbody>\n",
       "    <tr>\n",
       "      <th>0</th>\n",
       "      <td>200</td>\n",
       "      <td>Onset_Experiment</td>\n",
       "      <td>652877.853621</td>\n",
       "      <td>0.000000e+00</td>\n",
       "    </tr>\n",
       "    <tr>\n",
       "      <th>1</th>\n",
       "      <td>1729108775</td>\n",
       "      <td>psychopy_time_stamp</td>\n",
       "      <td>652877.853632</td>\n",
       "      <td>1.079973e-08</td>\n",
       "    </tr>\n",
       "    <tr>\n",
       "      <th>2</th>\n",
       "      <td>10</td>\n",
       "      <td>Onset_RestingState</td>\n",
       "      <td>652903.462754</td>\n",
       "      <td>2.560913e-02</td>\n",
       "    </tr>\n",
       "    <tr>\n",
       "      <th>3</th>\n",
       "      <td>1729108800</td>\n",
       "      <td>psychopy_time_stamp</td>\n",
       "      <td>652903.462766</td>\n",
       "      <td>2.560914e-02</td>\n",
       "    </tr>\n",
       "    <tr>\n",
       "      <th>4</th>\n",
       "      <td>11</td>\n",
       "      <td>Offset_RestingState</td>\n",
       "      <td>653203.463529</td>\n",
       "      <td>3.256099e-01</td>\n",
       "    </tr>\n",
       "    <tr>\n",
       "      <th>...</th>\n",
       "      <td>...</td>\n",
       "      <td>...</td>\n",
       "      <td>...</td>\n",
       "      <td>...</td>\n",
       "    </tr>\n",
       "    <tr>\n",
       "      <th>256</th>\n",
       "      <td>1729111346</td>\n",
       "      <td>psychopy_time_stamp</td>\n",
       "      <td>655451.996951</td>\n",
       "      <td>2.574143e+00</td>\n",
       "    </tr>\n",
       "    <tr>\n",
       "      <th>257</th>\n",
       "      <td>201</td>\n",
       "      <td>Offset_Experiment</td>\n",
       "      <td>655456.997079</td>\n",
       "      <td>2.579143e+00</td>\n",
       "    </tr>\n",
       "    <tr>\n",
       "      <th>258</th>\n",
       "      <td>1729111351</td>\n",
       "      <td>psychopy_time_stamp</td>\n",
       "      <td>655456.997089</td>\n",
       "      <td>2.579143e+00</td>\n",
       "    </tr>\n",
       "    <tr>\n",
       "      <th>259</th>\n",
       "      <td>4</td>\n",
       "      <td>Bx_input</td>\n",
       "      <td>655456.997128</td>\n",
       "      <td>2.579144e+00</td>\n",
       "    </tr>\n",
       "    <tr>\n",
       "      <th>260</th>\n",
       "      <td>1729111351</td>\n",
       "      <td>psychopy_time_stamp</td>\n",
       "      <td>655456.997130</td>\n",
       "      <td>2.579144e+00</td>\n",
       "    </tr>\n",
       "  </tbody>\n",
       "</table>\n",
       "<p>261 rows × 4 columns</p>\n",
       "</div>"
      ],
      "text/plain": [
       "        trigger                event  lsl_time_stamp          time\n",
       "0           200     Onset_Experiment   652877.853621  0.000000e+00\n",
       "1    1729108775  psychopy_time_stamp   652877.853632  1.079973e-08\n",
       "2            10   Onset_RestingState   652903.462754  2.560913e-02\n",
       "3    1729108800  psychopy_time_stamp   652903.462766  2.560914e-02\n",
       "4            11  Offset_RestingState   653203.463529  3.256099e-01\n",
       "..          ...                  ...             ...           ...\n",
       "256  1729111346  psychopy_time_stamp   655451.996951  2.574143e+00\n",
       "257         201    Offset_Experiment   655456.997079  2.579143e+00\n",
       "258  1729111351  psychopy_time_stamp   655456.997089  2.579143e+00\n",
       "259           4             Bx_input   655456.997128  2.579144e+00\n",
       "260  1729111351  psychopy_time_stamp   655456.997130  2.579144e+00\n",
       "\n",
       "[261 rows x 4 columns]"
      ]
     },
     "execution_count": 4,
     "metadata": {},
     "output_type": "execute_result"
    }
   ],
   "source": [
    "stim_dat = data[streams_collected.index('Stimuli_Markers')]\n",
    "stim_df = pd.DataFrame(stim_dat['time_series'])\n",
    "stim_df.rename(columns={0: 'trigger'}, inplace=True)\n",
    "events = {\n",
    "    200: 'Onset_Experiment',\n",
    "    10: 'Onset_RestingState',\n",
    "    11: 'Offset_RestingState',\n",
    "    500: 'Onset_StoryListening',\n",
    "    501: 'Offset_StoryListening',\n",
    "    100: 'Onset_10second_rest',\n",
    "    101: 'Offset_10second_rest', \n",
    "    20: 'Onset_CampFriend',\n",
    "    21: 'Offset_CampFriend',\n",
    "    30: 'Onset_FrogDissection',\n",
    "    31: 'Offset_FrogDissection',\n",
    "    40: 'Onset_DanceContest',\n",
    "    41: 'Offset_DanceContest',\n",
    "    50: 'Onset_ZoomClass',\n",
    "    51: 'Offset_ZoomClass',\n",
    "    60: 'Onset_Tornado',\n",
    "    61: 'Offset_Tornado',\n",
    "    70: 'Onset_BirthdayParty',\n",
    "    71: 'Offset_BirthdayParty',\n",
    "    300: 'Onset_subjectInput',\n",
    "    301: 'Offset_subjectInput',\n",
    "    302: 'Onset_FavoriteStory',\n",
    "    303: 'Offset_FavoriteStory',\n",
    "    304: 'Onset_WorstStory',\n",
    "    305: 'Offset_WorstStory',\n",
    "    400: 'Onset_impedanceCheck',\n",
    "    401: 'Offset_impedanceCheck',\n",
    "    80: 'Onset_SocialTask',\n",
    "    81: 'Offset_SocialTask',\n",
    "    201: 'Offset_Experiment',\n",
    "}\n",
    "\n",
    "story_onsets = [20, 30, 40, 50, 60, 70]\n",
    "\n",
    "# relabel the event if the trigger is in the events dictionary, else if \n",
    "stim_df['event'] = stim_df['trigger'].apply(lambda x: events[x] if x in events.keys() else 'Bx_input')\n",
    "\n",
    "# relabel the event as a psychopy timestamp if the trigger is greater than 5 digits\n",
    "stim_df.loc[stim_df.trigger.astype(str).str.len() > 5, 'event'] = 'psychopy_time_stamp'\n",
    "stim_df['lsl_time_stamp'] = stim_dat['time_stamps']\n",
    "stim_df['time'] = (stim_dat['time_stamps'] - stim_dat['time_stamps'][0])/1000\n",
    "stim_df"
   ]
  },
  {
   "cell_type": "markdown",
   "metadata": {},
   "source": [
    "# Microphone Data "
   ]
  },
  {
   "cell_type": "code",
   "execution_count": 5,
   "metadata": {},
   "outputs": [
    {
     "data": {
      "text/html": [
       "<div>\n",
       "<style scoped>\n",
       "    .dataframe tbody tr th:only-of-type {\n",
       "        vertical-align: middle;\n",
       "    }\n",
       "\n",
       "    .dataframe tbody tr th {\n",
       "        vertical-align: top;\n",
       "    }\n",
       "\n",
       "    .dataframe thead th {\n",
       "        text-align: right;\n",
       "    }\n",
       "</style>\n",
       "<table border=\"1\" class=\"dataframe\">\n",
       "  <thead>\n",
       "    <tr style=\"text-align: right;\">\n",
       "      <th></th>\n",
       "      <th>int_array</th>\n",
       "      <th>bytestring</th>\n",
       "      <th>time_stamps</th>\n",
       "      <th>lsl_time_stamp</th>\n",
       "      <th>time</th>\n",
       "      <th>time_delta</th>\n",
       "    </tr>\n",
       "  </thead>\n",
       "  <tbody>\n",
       "    <tr>\n",
       "      <th>100124636</th>\n",
       "      <td>11</td>\n",
       "      <td>b'\\x0b\\x00\\x00\\x00\\x00\\x00\\x00\\x00'</td>\n",
       "      <td>0.005148</td>\n",
       "      <td>655520.270591</td>\n",
       "      <td>2270.445501</td>\n",
       "      <td>0.000023</td>\n",
       "    </tr>\n",
       "    <tr>\n",
       "      <th>100124637</th>\n",
       "      <td>11</td>\n",
       "      <td>b'\\x0b\\x00\\x00\\x00\\x00\\x00\\x00\\x00'</td>\n",
       "      <td>0.005148</td>\n",
       "      <td>655520.270613</td>\n",
       "      <td>2270.445524</td>\n",
       "      <td>0.000023</td>\n",
       "    </tr>\n",
       "    <tr>\n",
       "      <th>100124638</th>\n",
       "      <td>12</td>\n",
       "      <td>b'\\x0c\\x00\\x00\\x00\\x00\\x00\\x00\\x00'</td>\n",
       "      <td>0.005148</td>\n",
       "      <td>655520.270636</td>\n",
       "      <td>2270.445546</td>\n",
       "      <td>0.000023</td>\n",
       "    </tr>\n",
       "    <tr>\n",
       "      <th>100124639</th>\n",
       "      <td>7</td>\n",
       "      <td>b'\\x07\\x00\\x00\\x00\\x00\\x00\\x00\\x00'</td>\n",
       "      <td>0.005148</td>\n",
       "      <td>655520.270659</td>\n",
       "      <td>2270.445569</td>\n",
       "      <td>0.000023</td>\n",
       "    </tr>\n",
       "    <tr>\n",
       "      <th>100124640</th>\n",
       "      <td>8</td>\n",
       "      <td>b'\\x08\\x00\\x00\\x00\\x00\\x00\\x00\\x00'</td>\n",
       "      <td>0.005148</td>\n",
       "      <td>655520.270681</td>\n",
       "      <td>2270.445592</td>\n",
       "      <td>0.000023</td>\n",
       "    </tr>\n",
       "  </tbody>\n",
       "</table>\n",
       "</div>"
      ],
      "text/plain": [
       "           int_array                           bytestring  time_stamps  \\\n",
       "100124636         11  b'\\x0b\\x00\\x00\\x00\\x00\\x00\\x00\\x00'     0.005148   \n",
       "100124637         11  b'\\x0b\\x00\\x00\\x00\\x00\\x00\\x00\\x00'     0.005148   \n",
       "100124638         12  b'\\x0c\\x00\\x00\\x00\\x00\\x00\\x00\\x00'     0.005148   \n",
       "100124639          7  b'\\x07\\x00\\x00\\x00\\x00\\x00\\x00\\x00'     0.005148   \n",
       "100124640          8  b'\\x08\\x00\\x00\\x00\\x00\\x00\\x00\\x00'     0.005148   \n",
       "\n",
       "           lsl_time_stamp         time  time_delta  \n",
       "100124636   655520.270591  2270.445501    0.000023  \n",
       "100124637   655520.270613  2270.445524    0.000023  \n",
       "100124638   655520.270636  2270.445546    0.000023  \n",
       "100124639   655520.270659  2270.445569    0.000023  \n",
       "100124640   655520.270681  2270.445592    0.000023  "
      ]
     },
     "execution_count": 5,
     "metadata": {},
     "output_type": "execute_result"
    }
   ],
   "source": [
    "mic_data = data[streams_collected.index('Microphone')]\n",
    "mic_df = pd.DataFrame(mic_data['time_series'], columns=['int_array'])\n",
    "mic_df['bytestring'] = mic_df['int_array'].apply(lambda x: np.array(x).tobytes())\n",
    "mic_df['time_stamps'] = (mic_data['time_stamps'] - mic_data['time_stamps'][0])/441000\n",
    "\n",
    "mic_df['lsl_time_stamp'] = mic_data['time_stamps']\n",
    "mic_df['time'] = (mic_df.lsl_time_stamp - mic_df.lsl_time_stamp[0])\n",
    "mic_df['time_delta'] = mic_df['lsl_time_stamp'].diff()\n",
    "\n",
    "mic_df.tail()"
   ]
  },
  {
   "cell_type": "markdown",
   "metadata": {},
   "source": [
    "## Compare wav and LSL lengths"
   ]
  },
  {
   "cell_type": "code",
   "execution_count": 6,
   "metadata": {},
   "outputs": [
    {
     "data": {
      "text/plain": [
       "'../sub-P5318014/sub-P5318014_task-CUNY_run-001_mic.wav'"
      ]
     },
     "execution_count": 6,
     "metadata": {},
     "output_type": "execute_result"
    }
   ],
   "source": [
    "# get wav file\n",
    "wav_files = glob('../*/*.wav')\n",
    "wav_files\n",
    "\n",
    "wav_path = wav_files[0]\n",
    "wav_path"
   ]
  },
  {
   "cell_type": "code",
   "execution_count": 7,
   "metadata": {},
   "outputs": [
    {
     "name": "stdout",
     "output_type": "stream",
     "text": [
      "         seconds    mm:ss\n",
      "wav_dur  1989.40  0:33:09\n",
      "lsl_dur  2270.45  0:37:50\n",
      "\n",
      "Warning: The duration of the wav file (1989.4) and the duration of the lsl time stamps (2270.45) differ by more than 5 seconds. \n",
      "\n",
      "The lsl time stamps are longer than the wav file by 281.0499999999997 seconds\n"
     ]
    }
   ],
   "source": [
    "# calculate wav and lsl durations\n",
    "wav_dur = round(librosa.get_duration(path=wav_path), 2)\n",
    "lsl_dur = round(mic_df['lsl_time_stamp'].iloc[-1]- mic_df['lsl_time_stamp'].iloc[0], 2)\n",
    "\n",
    "# convert to hh:mm:ss\n",
    "wav_dt = datetime.timedelta(seconds=wav_dur)\n",
    "wav_dur_dt = str(datetime.timedelta(seconds=round(wav_dt.total_seconds())))\n",
    "lsl_dt = datetime.timedelta(seconds=lsl_dur)\n",
    "lsl_dur_dt = str(datetime.timedelta(seconds=round(lsl_dt.total_seconds())))\n",
    "\n",
    "\n",
    "# make df of durations\n",
    "variables = {name: [globals()[name], globals()[name+'_dt']]  for name in ['wav_dur', 'lsl_dur']}\n",
    "durations_df = pd.DataFrame.from_dict(variables, orient = 'index', columns = ['seconds', 'mm:ss'])\n",
    "print(durations_df.to_string() + '\\n')\n",
    "\n",
    "# print if they are close or not (margin on 5 seconds rn)\n",
    "if abs(wav_dur - lsl_dur) > 5:\n",
    "    print(f'Warning: The duration of the wav file ({wav_dur}) and the duration of the lsl time stamps ({lsl_dur}) differ by more than 5 seconds. \\n')\n",
    "    if wav_dur > lsl_dur:\n",
    "        print('The wav file is longer than the lsl time stamps by {} seconds'.format(wav_dur - lsl_dur))\n",
    "    if lsl_dur > wav_dur:\n",
    "        print('The lsl time stamps are longer than the wav file by {} seconds'.format(lsl_dur - wav_dur))\n",
    "else: \n",
    "    print('The wav file and the lsl time stamps are the same length!')"
   ]
  },
  {
   "cell_type": "markdown",
   "metadata": {},
   "source": [
    "## Slice parts we care about"
   ]
  },
  {
   "cell_type": "code",
   "execution_count": 8,
   "metadata": {},
   "outputs": [],
   "source": [
    "slice_mic1 = mic_df.loc[(mic_df.lsl_time_stamp >= stim_df.loc[stim_df.event == 'Onset_StoryListening', 'lsl_time_stamp'].values[0]) & \n",
    "                  (mic_df.lsl_time_stamp <= stim_df.loc[stim_df.event == 'Onset_impedanceCheck', 'lsl_time_stamp'].values[0])]\n",
    "slice_mic2 = mic_df.loc[(mic_df.lsl_time_stamp >= stim_df.loc[stim_df.event == 'Offset_impedanceCheck', 'lsl_time_stamp'].values[0]) & \n",
    "                  (mic_df.lsl_time_stamp <= stim_df.loc[stim_df.event == 'Offset_SocialTask', 'lsl_time_stamp'].values[0])]\n",
    "\n",
    "slice_exp1 = stim_df.loc[(stim_df.lsl_time_stamp >= stim_df.loc[stim_df.event == 'Onset_BirthdayParty', 'lsl_time_stamp'].values[0]) & \n",
    "                  (stim_df.lsl_time_stamp <= stim_df.loc[stim_df.event == 'Onset_impedanceCheck', 'lsl_time_stamp'].values[0])]\n",
    "slice_exp2 = stim_df.loc[(stim_df.lsl_time_stamp >= stim_df.loc[stim_df.event == 'Offset_impedanceCheck', 'lsl_time_stamp'].values[0]) & \n",
    "                  (stim_df.lsl_time_stamp <= stim_df.loc[stim_df.event == 'Offset_SocialTask', 'lsl_time_stamp'].values[0])]"
   ]
  },
  {
   "cell_type": "markdown",
   "metadata": {},
   "source": [
    "## Compare experiment and mic durations with sliced data"
   ]
  },
  {
   "cell_type": "code",
   "execution_count": 9,
   "metadata": {},
   "outputs": [],
   "source": [
    "slice_mic = mic_df.loc[(mic_df.lsl_time_stamp >= stim_df.loc[stim_df.event == 'Onset_BirthdayParty', 'lsl_time_stamp'].values[0]) & \n",
    "                  (mic_df.lsl_time_stamp <= stim_df.loc[stim_df.event == 'Offset_Experiment', 'lsl_time_stamp'].values[0])]\n",
    "\n",
    "slice_exp = stim_df.loc[(stim_df.lsl_time_stamp >= stim_df.loc[stim_df.event == 'Onset_BirthdayParty', 'lsl_time_stamp'].values[0]) & \n",
    "                  (stim_df.lsl_time_stamp <= stim_df.loc[stim_df.event == 'Offset_Experiment', 'lsl_time_stamp'].values[0])]"
   ]
  },
  {
   "cell_type": "code",
   "execution_count": 10,
   "metadata": {},
   "outputs": [
    {
     "data": {
      "text/plain": [
       "2166.5484"
      ]
     },
     "execution_count": 10,
     "metadata": {},
     "output_type": "execute_result"
    }
   ],
   "source": [
    "mic_start = slice_mic['lsl_time_stamp'].values[0]\n",
    "mic_stop = slice_mic['lsl_time_stamp'].values[-1]\n",
    "mic_dur0 = round(mic_stop - mic_start, 4)\n",
    "mic_dur0"
   ]
  },
  {
   "cell_type": "code",
   "execution_count": 11,
   "metadata": {},
   "outputs": [
    {
     "data": {
      "text/plain": [
       "2166.5484"
      ]
     },
     "execution_count": 11,
     "metadata": {},
     "output_type": "execute_result"
    }
   ],
   "source": [
    "exp_start = slice_exp['lsl_time_stamp'].values[0]\n",
    "exp_stop = slice_exp['lsl_time_stamp'].values[-1]\n",
    "exp_dur0 = round(exp_stop - exp_start, 4)\n",
    "exp_dur0"
   ]
  },
  {
   "cell_type": "code",
   "execution_count": 12,
   "metadata": {},
   "outputs": [
    {
     "data": {
      "text/plain": [
       "1648.4554"
      ]
     },
     "execution_count": 12,
     "metadata": {},
     "output_type": "execute_result"
    }
   ],
   "source": [
    "mic_start1 = slice_mic1['lsl_time_stamp'].values[0]\n",
    "mic_stop1 = slice_mic1['lsl_time_stamp'].values[-1]\n",
    "mic_dur1 = round(mic_stop1 - mic_start1, 4)\n",
    "\n",
    "mic_start2 = slice_mic2['lsl_time_stamp'].values[0]\n",
    "mic_stop2 = slice_mic2['lsl_time_stamp'].values[-1]\n",
    "mic_dur2 = round(mic_stop2 - mic_start2, 4)\n",
    "mic_dur = mic_dur1 + mic_dur2\n",
    "mic_dur"
   ]
  },
  {
   "cell_type": "code",
   "execution_count": 13,
   "metadata": {},
   "outputs": [
    {
     "data": {
      "text/plain": [
       "1285.8061"
      ]
     },
     "execution_count": 13,
     "metadata": {},
     "output_type": "execute_result"
    }
   ],
   "source": [
    "mic_dur1"
   ]
  },
  {
   "cell_type": "code",
   "execution_count": 14,
   "metadata": {},
   "outputs": [
    {
     "data": {
      "text/plain": [
       "362.6493"
      ]
     },
     "execution_count": 14,
     "metadata": {},
     "output_type": "execute_result"
    }
   ],
   "source": [
    "mic_dur2"
   ]
  },
  {
   "cell_type": "code",
   "execution_count": 15,
   "metadata": {},
   "outputs": [
    {
     "data": {
      "text/plain": [
       "1607.832"
      ]
     },
     "execution_count": 15,
     "metadata": {},
     "output_type": "execute_result"
    }
   ],
   "source": [
    "exp_start1 = slice_exp1['lsl_time_stamp'].values[0]\n",
    "exp_stop1 = slice_exp1['lsl_time_stamp'].values[-1]\n",
    "exp_dur1 = round(exp_stop1 - exp_start1, 4)\n",
    "\n",
    "exp_start2 = slice_exp2['lsl_time_stamp'].values[0]\n",
    "exp_stop2 = slice_exp2['lsl_time_stamp'].values[-1]\n",
    "exp_dur2 = round(exp_stop2 - exp_start2, 4)\n",
    "exp_dur = exp_dur1 + exp_dur2\n",
    "exp_dur"
   ]
  },
  {
   "cell_type": "code",
   "execution_count": 16,
   "metadata": {},
   "outputs": [
    {
     "data": {
      "text/plain": [
       "1245.1826"
      ]
     },
     "execution_count": 16,
     "metadata": {},
     "output_type": "execute_result"
    }
   ],
   "source": [
    "exp_dur1"
   ]
  },
  {
   "cell_type": "code",
   "execution_count": 17,
   "metadata": {},
   "outputs": [
    {
     "data": {
      "text/plain": [
       "362.6494"
      ]
     },
     "execution_count": 17,
     "metadata": {},
     "output_type": "execute_result"
    }
   ],
   "source": [
    "exp_dur2"
   ]
  },
  {
   "cell_type": "code",
   "execution_count": 18,
   "metadata": {},
   "outputs": [
    {
     "data": {
      "text/plain": [
       "2166.5484"
      ]
     },
     "execution_count": 18,
     "metadata": {},
     "output_type": "execute_result"
    }
   ],
   "source": [
    "exp_start = slice_exp['lsl_time_stamp'].values[0]\n",
    "exp_stop = slice_exp['lsl_time_stamp'].values[-1]\n",
    "exp_dur = round(exp_stop - exp_start, 4)\n",
    "exp_dur"
   ]
  },
  {
   "cell_type": "code",
   "execution_count": 19,
   "metadata": {},
   "outputs": [
    {
     "data": {
      "text/plain": [
       "-36.0"
      ]
     },
     "execution_count": 19,
     "metadata": {},
     "output_type": "execute_result"
    }
   ],
   "source": [
    "np.quantile(mic_df['int_array'], 0.25)"
   ]
  },
  {
   "cell_type": "code",
   "execution_count": 20,
   "metadata": {},
   "outputs": [
    {
     "data": {
      "text/plain": [
       "35.0"
      ]
     },
     "execution_count": 20,
     "metadata": {},
     "output_type": "execute_result"
    }
   ],
   "source": [
    "np.quantile(mic_df['int_array'], 0.75)"
   ]
  }
 ],
 "metadata": {
  "kernelspec": {
   "display_name": "cuny_env",
   "language": "python",
   "name": "python3"
  },
  "language_info": {
   "codemirror_mode": {
    "name": "ipython",
    "version": 3
   },
   "file_extension": ".py",
   "mimetype": "text/x-python",
   "name": "python",
   "nbconvert_exporter": "python",
   "pygments_lexer": "ipython3",
   "version": "3.12.7"
  }
 },
 "nbformat": 4,
 "nbformat_minor": 2
}
