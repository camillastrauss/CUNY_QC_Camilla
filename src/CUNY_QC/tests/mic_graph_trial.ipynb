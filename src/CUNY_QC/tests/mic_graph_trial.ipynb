{
 "cells": [
  {
   "cell_type": "markdown",
   "metadata": {},
   "source": [
    "# Imports"
   ]
  },
  {
   "cell_type": "code",
   "execution_count": 1,
   "metadata": {},
   "outputs": [],
   "source": [
    "import pyxdf\n",
    "import pandas as pd\n",
    "import numpy as np\n",
    "import sounddevice as sd\n",
    "from glob import glob\n",
    "from tqdm import tqdm\n",
    "import librosa\n",
    "import datetime\n",
    "import matplotlib.pyplot as plt\n"
   ]
  },
  {
   "cell_type": "markdown",
   "metadata": {},
   "source": [
    "# Load Data"
   ]
  },
  {
   "cell_type": "code",
   "execution_count": 2,
   "metadata": {},
   "outputs": [
    {
     "data": {
      "text/plain": [
       "['../sub-P5318014/sub-P5318014_ses-S001_task-CUNY_run-001_mobi.xdf',\n",
       " '../sub-5182010/sub-P5182010_ses-S001_task-CUNY_run-001_mobi.xdf',\n",
       " '../sub-P5447527/sub-P5447527_ses-S001_task-CUNY_run-001_mobi.xdf',\n",
       " '../sub-5958030/sub-P5958030_ses-S001_task-CUNY_run-001_mobi.xdf',\n",
       " '../sub-P5899288/sub-P5899288_ses-S001_task-CUNY_run-001_mobi.xdf',\n",
       " '../sub-P5548165/sub-P5548165_ses-S001_task-CUNY_run-001_MOBI.xdf']"
      ]
     },
     "execution_count": 2,
     "metadata": {},
     "output_type": "execute_result"
    }
   ],
   "source": [
    "sub_files = glob('../../../*/*.xdf')\n",
    "sub_files"
   ]
  },
  {
   "cell_type": "code",
   "execution_count": 3,
   "metadata": {},
   "outputs": [
    {
     "data": {
      "text/plain": [
       "['Tobii',\n",
       " 'Stimuli_Markers',\n",
       " 'WebcamStream',\n",
       " 'OpenSignals',\n",
       " 'EGI NetAmp 0',\n",
       " 'Microphone']"
      ]
     },
     "execution_count": 3,
     "metadata": {},
     "output_type": "execute_result"
    }
   ],
   "source": [
    "xdf_path = sub_files[4]\n",
    "data, header = pyxdf.load_xdf(xdf_path)\n",
    "streams_collected = [stream['info']['name'][0] for stream in data]\n",
    "\n",
    "\n",
    "'''\n",
    "HELPERS\n",
    "'''\n",
    "# get rows of df in between time stamps corresponding to event_onset and event_offset\n",
    "# get df data within event \n",
    "def get_event_data(event, df, stim_df):\n",
    "    return df.loc[(df.lsl_time_stamp >= stim_df.loc[stim_df.event == 'Onset_'+event, 'lsl_time_stamp'].values[0]) & \n",
    "                  (df.lsl_time_stamp <= stim_df.loc[stim_df.event == 'Offset_'+event, 'lsl_time_stamp'].values[0])]\n",
    "\n",
    "def get_secs_between_triggers(trigger1, trigger2, stim_df):\n",
    "    return stim_df.loc[stim_df.trigger == trigger1, 'time'].values[0] - stim_df.loc[stim_df.trigger == trigger2, 'time'].values[0]\n",
    "\n",
    "                  \n",
    "streams_collected"
   ]
  },
  {
   "cell_type": "markdown",
   "metadata": {},
   "source": [
    "# Stimulus"
   ]
  },
  {
   "cell_type": "code",
   "execution_count": 4,
   "metadata": {},
   "outputs": [
    {
     "data": {
      "text/html": [
       "<div>\n",
       "<style scoped>\n",
       "    .dataframe tbody tr th:only-of-type {\n",
       "        vertical-align: middle;\n",
       "    }\n",
       "\n",
       "    .dataframe tbody tr th {\n",
       "        vertical-align: top;\n",
       "    }\n",
       "\n",
       "    .dataframe thead th {\n",
       "        text-align: right;\n",
       "    }\n",
       "</style>\n",
       "<table border=\"1\" class=\"dataframe\">\n",
       "  <thead>\n",
       "    <tr style=\"text-align: right;\">\n",
       "      <th></th>\n",
       "      <th>trigger</th>\n",
       "      <th>event</th>\n",
       "      <th>lsl_time_stamp</th>\n",
       "      <th>time</th>\n",
       "    </tr>\n",
       "  </thead>\n",
       "  <tbody>\n",
       "    <tr>\n",
       "      <th>0</th>\n",
       "      <td>2.000000e+02</td>\n",
       "      <td>Onset_Experiment</td>\n",
       "      <td>22180.430765</td>\n",
       "      <td>0.000000e+00</td>\n",
       "    </tr>\n",
       "    <tr>\n",
       "      <th>1</th>\n",
       "      <td>1.736874e+09</td>\n",
       "      <td>psychopy_time_stamp</td>\n",
       "      <td>22180.430776</td>\n",
       "      <td>1.159986e-08</td>\n",
       "    </tr>\n",
       "    <tr>\n",
       "      <th>2</th>\n",
       "      <td>1.000000e+01</td>\n",
       "      <td>Onset_RestingState</td>\n",
       "      <td>22249.074837</td>\n",
       "      <td>6.864407e-02</td>\n",
       "    </tr>\n",
       "    <tr>\n",
       "      <th>3</th>\n",
       "      <td>1.736874e+09</td>\n",
       "      <td>psychopy_time_stamp</td>\n",
       "      <td>22249.074850</td>\n",
       "      <td>6.864409e-02</td>\n",
       "    </tr>\n",
       "    <tr>\n",
       "      <th>4</th>\n",
       "      <td>1.100000e+01</td>\n",
       "      <td>Offset_RestingState</td>\n",
       "      <td>22549.074042</td>\n",
       "      <td>3.686433e-01</td>\n",
       "    </tr>\n",
       "    <tr>\n",
       "      <th>...</th>\n",
       "      <td>...</td>\n",
       "      <td>...</td>\n",
       "      <td>...</td>\n",
       "      <td>...</td>\n",
       "    </tr>\n",
       "    <tr>\n",
       "      <th>256</th>\n",
       "      <td>1.736877e+09</td>\n",
       "      <td>psychopy_time_stamp</td>\n",
       "      <td>24556.596770</td>\n",
       "      <td>2.376166e+00</td>\n",
       "    </tr>\n",
       "    <tr>\n",
       "      <th>257</th>\n",
       "      <td>2.010000e+02</td>\n",
       "      <td>Offset_Experiment</td>\n",
       "      <td>24561.589122</td>\n",
       "      <td>2.381158e+00</td>\n",
       "    </tr>\n",
       "    <tr>\n",
       "      <th>258</th>\n",
       "      <td>1.736877e+09</td>\n",
       "      <td>psychopy_time_stamp</td>\n",
       "      <td>24561.589140</td>\n",
       "      <td>2.381158e+00</td>\n",
       "    </tr>\n",
       "    <tr>\n",
       "      <th>259</th>\n",
       "      <td>4.000000e+00</td>\n",
       "      <td>Bx_input</td>\n",
       "      <td>24561.589315</td>\n",
       "      <td>2.381159e+00</td>\n",
       "    </tr>\n",
       "    <tr>\n",
       "      <th>260</th>\n",
       "      <td>1.736877e+09</td>\n",
       "      <td>psychopy_time_stamp</td>\n",
       "      <td>24561.589325</td>\n",
       "      <td>2.381159e+00</td>\n",
       "    </tr>\n",
       "  </tbody>\n",
       "</table>\n",
       "<p>261 rows × 4 columns</p>\n",
       "</div>"
      ],
      "text/plain": [
       "          trigger                event  lsl_time_stamp          time\n",
       "0    2.000000e+02     Onset_Experiment    22180.430765  0.000000e+00\n",
       "1    1.736874e+09  psychopy_time_stamp    22180.430776  1.159986e-08\n",
       "2    1.000000e+01   Onset_RestingState    22249.074837  6.864407e-02\n",
       "3    1.736874e+09  psychopy_time_stamp    22249.074850  6.864409e-02\n",
       "4    1.100000e+01  Offset_RestingState    22549.074042  3.686433e-01\n",
       "..            ...                  ...             ...           ...\n",
       "256  1.736877e+09  psychopy_time_stamp    24556.596770  2.376166e+00\n",
       "257  2.010000e+02    Offset_Experiment    24561.589122  2.381158e+00\n",
       "258  1.736877e+09  psychopy_time_stamp    24561.589140  2.381158e+00\n",
       "259  4.000000e+00             Bx_input    24561.589315  2.381159e+00\n",
       "260  1.736877e+09  psychopy_time_stamp    24561.589325  2.381159e+00\n",
       "\n",
       "[261 rows x 4 columns]"
      ]
     },
     "execution_count": 4,
     "metadata": {},
     "output_type": "execute_result"
    }
   ],
   "source": [
    "stim_dat = data[streams_collected.index('Stimuli_Markers')]\n",
    "stim_df = pd.DataFrame(stim_dat['time_series'])\n",
    "stim_df.rename(columns={0: 'trigger'}, inplace=True)\n",
    "events = {\n",
    "    200: 'Onset_Experiment',\n",
    "    10: 'Onset_RestingState',\n",
    "    11: 'Offset_RestingState',\n",
    "    500: 'Onset_StoryListening',\n",
    "    501: 'Offset_StoryListening',\n",
    "    100: 'Onset_10second_rest',\n",
    "    101: 'Offset_10second_rest', \n",
    "    20: 'Onset_CampFriend',\n",
    "    21: 'Offset_CampFriend',\n",
    "    30: 'Onset_FrogDissection',\n",
    "    31: 'Offset_FrogDissection',\n",
    "    40: 'Onset_DanceContest',\n",
    "    41: 'Offset_DanceContest',\n",
    "    50: 'Onset_ZoomClass',\n",
    "    51: 'Offset_ZoomClass',\n",
    "    60: 'Onset_Tornado',\n",
    "    61: 'Offset_Tornado',\n",
    "    70: 'Onset_BirthdayParty',\n",
    "    71: 'Offset_BirthdayParty',\n",
    "    300: 'Onset_subjectInput',\n",
    "    301: 'Offset_subjectInput',\n",
    "    302: 'Onset_FavoriteStory',\n",
    "    303: 'Offset_FavoriteStory',\n",
    "    304: 'Onset_WorstStory',\n",
    "    305: 'Offset_WorstStory',\n",
    "    400: 'Onset_impedanceCheck',\n",
    "    401: 'Offset_impedanceCheck',\n",
    "    80: 'Onset_SocialTask',\n",
    "    81: 'Offset_SocialTask',\n",
    "    201: 'Offset_Experiment',\n",
    "}\n",
    "\n",
    "story_onsets = [20, 30, 40, 50, 60, 70]\n",
    "\n",
    "# relabel the event if the trigger is in the events dictionary, else if \n",
    "stim_df['event'] = stim_df['trigger'].apply(lambda x: events[x] if x in events.keys() else 'Bx_input')\n",
    "\n",
    "# relabel the event as a psychopy timestamp if the trigger is greater than 5 digits\n",
    "stim_df.loc[stim_df.trigger.astype(str).str.len() > 5, 'event'] = 'psychopy_time_stamp'\n",
    "stim_df['lsl_time_stamp'] = stim_dat['time_stamps']\n",
    "stim_df['time'] = (stim_dat['time_stamps'] - stim_dat['time_stamps'][0])/1000\n",
    "stim_df"
   ]
  },
  {
   "cell_type": "markdown",
   "metadata": {},
   "source": [
    "# Microphone Data "
   ]
  },
  {
   "cell_type": "code",
   "execution_count": 5,
   "metadata": {},
   "outputs": [
    {
     "data": {
      "text/html": [
       "<div>\n",
       "<style scoped>\n",
       "    .dataframe tbody tr th:only-of-type {\n",
       "        vertical-align: middle;\n",
       "    }\n",
       "\n",
       "    .dataframe tbody tr th {\n",
       "        vertical-align: top;\n",
       "    }\n",
       "\n",
       "    .dataframe thead th {\n",
       "        text-align: right;\n",
       "    }\n",
       "</style>\n",
       "<table border=\"1\" class=\"dataframe\">\n",
       "  <thead>\n",
       "    <tr style=\"text-align: right;\">\n",
       "      <th></th>\n",
       "      <th>int_array</th>\n",
       "      <th>bytestring</th>\n",
       "      <th>time_stamps</th>\n",
       "      <th>lsl_time_stamp</th>\n",
       "      <th>time</th>\n",
       "      <th>time_delta</th>\n",
       "    </tr>\n",
       "  </thead>\n",
       "  <tbody>\n",
       "    <tr>\n",
       "      <th>87190106</th>\n",
       "      <td>20</td>\n",
       "      <td>b'\\x14\\x00\\x00\\x00\\x00\\x00\\x00\\x00'</td>\n",
       "      <td>0.004483</td>\n",
       "      <td>24606.576369</td>\n",
       "      <td>1977.204618</td>\n",
       "      <td>0.000023</td>\n",
       "    </tr>\n",
       "    <tr>\n",
       "      <th>87190107</th>\n",
       "      <td>20</td>\n",
       "      <td>b'\\x14\\x00\\x00\\x00\\x00\\x00\\x00\\x00'</td>\n",
       "      <td>0.004483</td>\n",
       "      <td>24606.576391</td>\n",
       "      <td>1977.204641</td>\n",
       "      <td>0.000023</td>\n",
       "    </tr>\n",
       "    <tr>\n",
       "      <th>87190108</th>\n",
       "      <td>20</td>\n",
       "      <td>b'\\x14\\x00\\x00\\x00\\x00\\x00\\x00\\x00'</td>\n",
       "      <td>0.004483</td>\n",
       "      <td>24606.576414</td>\n",
       "      <td>1977.204664</td>\n",
       "      <td>0.000023</td>\n",
       "    </tr>\n",
       "    <tr>\n",
       "      <th>87190109</th>\n",
       "      <td>22</td>\n",
       "      <td>b'\\x16\\x00\\x00\\x00\\x00\\x00\\x00\\x00'</td>\n",
       "      <td>0.004483</td>\n",
       "      <td>24606.576437</td>\n",
       "      <td>1977.204686</td>\n",
       "      <td>0.000023</td>\n",
       "    </tr>\n",
       "    <tr>\n",
       "      <th>87190110</th>\n",
       "      <td>3</td>\n",
       "      <td>b'\\x03\\x00\\x00\\x00\\x00\\x00\\x00\\x00'</td>\n",
       "      <td>0.004483</td>\n",
       "      <td>24606.576459</td>\n",
       "      <td>1977.204709</td>\n",
       "      <td>0.000023</td>\n",
       "    </tr>\n",
       "  </tbody>\n",
       "</table>\n",
       "</div>"
      ],
      "text/plain": [
       "          int_array                           bytestring  time_stamps  \\\n",
       "87190106         20  b'\\x14\\x00\\x00\\x00\\x00\\x00\\x00\\x00'     0.004483   \n",
       "87190107         20  b'\\x14\\x00\\x00\\x00\\x00\\x00\\x00\\x00'     0.004483   \n",
       "87190108         20  b'\\x14\\x00\\x00\\x00\\x00\\x00\\x00\\x00'     0.004483   \n",
       "87190109         22  b'\\x16\\x00\\x00\\x00\\x00\\x00\\x00\\x00'     0.004483   \n",
       "87190110          3  b'\\x03\\x00\\x00\\x00\\x00\\x00\\x00\\x00'     0.004483   \n",
       "\n",
       "          lsl_time_stamp         time  time_delta  \n",
       "87190106    24606.576369  1977.204618    0.000023  \n",
       "87190107    24606.576391  1977.204641    0.000023  \n",
       "87190108    24606.576414  1977.204664    0.000023  \n",
       "87190109    24606.576437  1977.204686    0.000023  \n",
       "87190110    24606.576459  1977.204709    0.000023  "
      ]
     },
     "execution_count": 5,
     "metadata": {},
     "output_type": "execute_result"
    }
   ],
   "source": [
    "mic_data = data[streams_collected.index('Microphone')]\n",
    "mic_df = pd.DataFrame(mic_data['time_series'], columns=['int_array'])\n",
    "mic_df['bytestring'] = mic_df['int_array'].apply(lambda x: np.array(x).tobytes())\n",
    "mic_df['time_stamps'] = (mic_data['time_stamps'] - mic_data['time_stamps'][0])/441000\n",
    "\n",
    "mic_df['lsl_time_stamp'] = mic_data['time_stamps']\n",
    "mic_df['time'] = (mic_df.lsl_time_stamp - mic_df.lsl_time_stamp[0])\n",
    "mic_df['time_delta'] = mic_df['lsl_time_stamp'].diff()\n",
    "\n",
    "mic_df.tail()"
   ]
  },
  {
   "cell_type": "code",
   "execution_count": 6,
   "metadata": {},
   "outputs": [
    {
     "data": {
      "image/png": "[encoded data removed]",
      "text/plain": [
       "<Figure size 1500x500 with 1 Axes>"
      ]
     },
     "metadata": {},
     "output_type": "display_data"
    }
   ],
   "source": [
    "plt.figure(figsize=(15, 5))\n",
    "plt.plot(mic_df.lsl_time_stamp, mic_df.int_array)\n",
    "for event in stim_df.loc[stim_df.event.str.contains('StoryListening|SocialTask')].iterrows():\n",
    "    plt.axvline(event[1]['lsl_time_stamp'], color='r')\n",
    "    plt.text(event[1]['lsl_time_stamp']+2, 0, event[1]['event'], rotation=90)\n",
    "\n",
    "plt.xlabel('LSL Timestamps')\n",
    "plt.title('Microphone Samples over Time')\n",
    "plt.show()"
   ]
  }
 ],
 "metadata": {
  "kernelspec": {
   "display_name": "cuny_env",
   "language": "python",
   "name": "python3"
  },
  "language_info": {
   "codemirror_mode": {
    "name": "ipython",
    "version": 3
   },
   "file_extension": ".py",
   "mimetype": "text/x-python",
   "name": "python",
   "nbconvert_exporter": "python",
   "pygments_lexer": "ipython3",
   "version": "3.12.7"
  }
 },
 "nbformat": 4,
 "nbformat_minor": 2
}
