{
 "cells": [
  {
   "cell_type": "markdown",
   "metadata": {},
   "source": [
    "# Imports"
   ]
  },
  {
   "cell_type": "code",
   "execution_count": 39,
   "metadata": {},
   "outputs": [],
   "source": [
    "import pyxdf\n",
    "import pandas as pd\n",
    "import numpy as np\n",
    "import sounddevice as sd\n",
    "from glob import glob\n",
    "from tqdm import tqdm\n",
    "import datetime\n",
    "import re\n",
    "import matplotlib.pyplot as plt"
   ]
  },
  {
   "cell_type": "markdown",
   "metadata": {},
   "source": [
    "# Load Data"
   ]
  },
  {
   "cell_type": "code",
   "execution_count": 40,
   "metadata": {},
   "outputs": [
    {
     "data": {
      "text/plain": [
       "['../sub-P5318014/sub-P5318014_ses-S001_task-CUNY_run-001_mobi.xdf',\n",
       " '../sub-5182010/sub-P5182010_ses-S001_task-CUNY_run-001_mobi.xdf',\n",
       " '../sub-P5447527/sub-P5447527_ses-S001_task-CUNY_run-001_mobi.xdf',\n",
       " '../sub-5958030/sub-P5958030_ses-S001_task-CUNY_run-001_mobi.xdf',\n",
       " '../sub-P5899288/sub-P5899288_ses-S001_task-CUNY_run-001_mobi.xdf',\n",
       " '../sub-P5548165/sub-P5548165_ses-S001_task-CUNY_run-001_MOBI.xdf']"
      ]
     },
     "execution_count": 40,
     "metadata": {},
     "output_type": "execute_result"
    }
   ],
   "source": [
    "sub_files = glob('../../../*/*.xdf')\n",
    "sub_files"
   ]
  },
  {
   "cell_type": "code",
   "execution_count": 41,
   "metadata": {},
   "outputs": [
    {
     "data": {
      "text/plain": [
       "['WebcamStream',\n",
       " 'Stimuli_Markers',\n",
       " 'Tobii',\n",
       " 'OpenSignals',\n",
       " 'EGI NetAmp 0',\n",
       " 'Microphone']"
      ]
     },
     "execution_count": 41,
     "metadata": {},
     "output_type": "execute_result"
    }
   ],
   "source": [
    "xdf_path = sub_files[1]\n",
    "data, header = pyxdf.load_xdf(xdf_path)\n",
    "streams_collected = [stream['info']['name'][0] for stream in data]\n",
    "\n",
    "\n",
    "'''\n",
    "HELPERS\n",
    "'''\n",
    "def get_event_data(event, df, stim_df):\n",
    "    return df.loc[(df.lsl_time_stamp >= stim_df.loc[stim_df.event == 'Onset_'+event, 'lsl_time_stamp'].values[0]) & \n",
    "                  (df.lsl_time_stamp <= stim_df.loc[stim_df.event == 'Offset_'+event, 'lsl_time_stamp'].values[0])]\n",
    "\n",
    "def get_secs_between_triggers(trigger1, trigger2, stim_df):\n",
    "    return stim_df.loc[stim_df.trigger == trigger1, 'time'].values[0] - stim_df.loc[stim_df.trigger == trigger2, 'time'].values[0]\n",
    "\n",
    "                  \n",
    "streams_collected"
   ]
  },
  {
   "cell_type": "markdown",
   "metadata": {},
   "source": [
    "# Stimulus"
   ]
  },
  {
   "cell_type": "code",
   "execution_count": 42,
   "metadata": {},
   "outputs": [
    {
     "data": {
      "text/html": [
       "<div>\n",
       "<style scoped>\n",
       "    .dataframe tbody tr th:only-of-type {\n",
       "        vertical-align: middle;\n",
       "    }\n",
       "\n",
       "    .dataframe tbody tr th {\n",
       "        vertical-align: top;\n",
       "    }\n",
       "\n",
       "    .dataframe thead th {\n",
       "        text-align: right;\n",
       "    }\n",
       "</style>\n",
       "<table border=\"1\" class=\"dataframe\">\n",
       "  <thead>\n",
       "    <tr style=\"text-align: right;\">\n",
       "      <th></th>\n",
       "      <th>trigger</th>\n",
       "      <th>event</th>\n",
       "      <th>lsl_time_stamp</th>\n",
       "      <th>time</th>\n",
       "    </tr>\n",
       "  </thead>\n",
       "  <tbody>\n",
       "    <tr>\n",
       "      <th>0</th>\n",
       "      <td>200</td>\n",
       "      <td>Onset_Experiment</td>\n",
       "      <td>652877.853621</td>\n",
       "      <td>0.000000e+00</td>\n",
       "    </tr>\n",
       "    <tr>\n",
       "      <th>1</th>\n",
       "      <td>1729108775</td>\n",
       "      <td>psychopy_time_stamp</td>\n",
       "      <td>652877.853632</td>\n",
       "      <td>1.079973e-08</td>\n",
       "    </tr>\n",
       "    <tr>\n",
       "      <th>2</th>\n",
       "      <td>10</td>\n",
       "      <td>Onset_RestingState</td>\n",
       "      <td>652903.462754</td>\n",
       "      <td>2.560913e-02</td>\n",
       "    </tr>\n",
       "    <tr>\n",
       "      <th>3</th>\n",
       "      <td>1729108800</td>\n",
       "      <td>psychopy_time_stamp</td>\n",
       "      <td>652903.462766</td>\n",
       "      <td>2.560914e-02</td>\n",
       "    </tr>\n",
       "    <tr>\n",
       "      <th>4</th>\n",
       "      <td>11</td>\n",
       "      <td>Offset_RestingState</td>\n",
       "      <td>653203.463529</td>\n",
       "      <td>3.256099e-01</td>\n",
       "    </tr>\n",
       "    <tr>\n",
       "      <th>...</th>\n",
       "      <td>...</td>\n",
       "      <td>...</td>\n",
       "      <td>...</td>\n",
       "      <td>...</td>\n",
       "    </tr>\n",
       "    <tr>\n",
       "      <th>256</th>\n",
       "      <td>1729111346</td>\n",
       "      <td>psychopy_time_stamp</td>\n",
       "      <td>655451.996951</td>\n",
       "      <td>2.574143e+00</td>\n",
       "    </tr>\n",
       "    <tr>\n",
       "      <th>257</th>\n",
       "      <td>201</td>\n",
       "      <td>Offset_Experiment</td>\n",
       "      <td>655456.997079</td>\n",
       "      <td>2.579143e+00</td>\n",
       "    </tr>\n",
       "    <tr>\n",
       "      <th>258</th>\n",
       "      <td>1729111351</td>\n",
       "      <td>psychopy_time_stamp</td>\n",
       "      <td>655456.997089</td>\n",
       "      <td>2.579143e+00</td>\n",
       "    </tr>\n",
       "    <tr>\n",
       "      <th>259</th>\n",
       "      <td>4</td>\n",
       "      <td>Bx_input</td>\n",
       "      <td>655456.997128</td>\n",
       "      <td>2.579144e+00</td>\n",
       "    </tr>\n",
       "    <tr>\n",
       "      <th>260</th>\n",
       "      <td>1729111351</td>\n",
       "      <td>psychopy_time_stamp</td>\n",
       "      <td>655456.997130</td>\n",
       "      <td>2.579144e+00</td>\n",
       "    </tr>\n",
       "  </tbody>\n",
       "</table>\n",
       "<p>261 rows × 4 columns</p>\n",
       "</div>"
      ],
      "text/plain": [
       "        trigger                event  lsl_time_stamp          time\n",
       "0           200     Onset_Experiment   652877.853621  0.000000e+00\n",
       "1    1729108775  psychopy_time_stamp   652877.853632  1.079973e-08\n",
       "2            10   Onset_RestingState   652903.462754  2.560913e-02\n",
       "3    1729108800  psychopy_time_stamp   652903.462766  2.560914e-02\n",
       "4            11  Offset_RestingState   653203.463529  3.256099e-01\n",
       "..          ...                  ...             ...           ...\n",
       "256  1729111346  psychopy_time_stamp   655451.996951  2.574143e+00\n",
       "257         201    Offset_Experiment   655456.997079  2.579143e+00\n",
       "258  1729111351  psychopy_time_stamp   655456.997089  2.579143e+00\n",
       "259           4             Bx_input   655456.997128  2.579144e+00\n",
       "260  1729111351  psychopy_time_stamp   655456.997130  2.579144e+00\n",
       "\n",
       "[261 rows x 4 columns]"
      ]
     },
     "execution_count": 42,
     "metadata": {},
     "output_type": "execute_result"
    }
   ],
   "source": [
    "stim_dat = data[streams_collected.index('Stimuli_Markers')]\n",
    "stim_df = pd.DataFrame(stim_dat['time_series'])\n",
    "stim_df.rename(columns={0: 'trigger'}, inplace=True)\n",
    "events = {\n",
    "    200: 'Onset_Experiment',\n",
    "    10: 'Onset_RestingState',\n",
    "    11: 'Offset_RestingState',\n",
    "    500: 'Onset_StoryListening',\n",
    "    501: 'Offset_StoryListening',\n",
    "    100: 'Onset_10second_rest',\n",
    "    101: 'Offset_10second_rest', \n",
    "    20: 'Onset_CampFriend',\n",
    "    21: 'Offset_CampFriend',\n",
    "    30: 'Onset_FrogDissection',\n",
    "    31: 'Offset_FrogDissection',\n",
    "    40: 'Onset_DanceContest',\n",
    "    41: 'Offset_DanceContest',\n",
    "    50: 'Onset_ZoomClass',\n",
    "    51: 'Offset_ZoomClass',\n",
    "    60: 'Onset_Tornado',\n",
    "    61: 'Offset_Tornado',\n",
    "    70: 'Onset_BirthdayParty',\n",
    "    71: 'Offset_BirthdayParty',\n",
    "    300: 'Onset_subjectInput',\n",
    "    301: 'Offset_subjectInput',\n",
    "    302: 'Onset_FavoriteStory',\n",
    "    303: 'Offset_FavoriteStory',\n",
    "    304: 'Onset_WorstStory',\n",
    "    305: 'Offset_WorstStory',\n",
    "    400: 'Onset_impedanceCheck',\n",
    "    401: 'Offset_impedanceCheck',\n",
    "    80: 'Onset_SocialTask',\n",
    "    81: 'Offset_SocialTask',\n",
    "    201: 'Offset_Experiment',\n",
    "}\n",
    "\n",
    "story_onsets = [20, 30, 40, 50, 60, 70]\n",
    "\n",
    "# relabel the event if the trigger is in the events dictionary, else if \n",
    "stim_df['event'] = stim_df['trigger'].apply(lambda x: events[x] if x in events.keys() else 'Bx_input')\n",
    "\n",
    "# relabel the event as a psychopy timestamp if the trigger is greater than 5 digits\n",
    "stim_df.loc[stim_df.trigger.astype(str).str.len() > 5, 'event'] = 'psychopy_time_stamp'\n",
    "stim_df['lsl_time_stamp'] = stim_dat['time_stamps']\n",
    "stim_df['time'] = (stim_dat['time_stamps'] - stim_dat['time_stamps'][0])/1000\n",
    "stim_df"
   ]
  },
  {
   "cell_type": "markdown",
   "metadata": {},
   "source": [
    "# Eye Tracking Data"
   ]
  },
  {
   "cell_type": "code",
   "execution_count": 43,
   "metadata": {},
   "outputs": [
    {
     "data": {
      "text/html": [
       "<div>\n",
       "<style scoped>\n",
       "    .dataframe tbody tr th:only-of-type {\n",
       "        vertical-align: middle;\n",
       "    }\n",
       "\n",
       "    .dataframe tbody tr th {\n",
       "        vertical-align: top;\n",
       "    }\n",
       "\n",
       "    .dataframe thead th {\n",
       "        text-align: right;\n",
       "    }\n",
       "</style>\n",
       "<table border=\"1\" class=\"dataframe\">\n",
       "  <thead>\n",
       "    <tr style=\"text-align: right;\">\n",
       "      <th></th>\n",
       "      <th>device_time_stamp</th>\n",
       "      <th>left_gaze_origin_validity</th>\n",
       "      <th>right_gaze_origin_validity</th>\n",
       "      <th>left_gaze_origin_in_user_coordinate_system_0</th>\n",
       "      <th>left_gaze_origin_in_user_coordinate_system_1</th>\n",
       "      <th>left_gaze_origin_in_user_coordinate_system_2</th>\n",
       "      <th>right_gaze_origin_in_user_coordinate_system_0</th>\n",
       "      <th>right_gaze_origin_in_user_coordinate_system_1</th>\n",
       "      <th>right_gaze_origin_in_user_coordinate_system_2</th>\n",
       "      <th>left_gaze_origin_in_trackbox_coordinate_system_0</th>\n",
       "      <th>...</th>\n",
       "      <th>left_gaze_point_on_display_area_0</th>\n",
       "      <th>left_gaze_point_on_display_area_1</th>\n",
       "      <th>right_gaze_point_on_display_area_0</th>\n",
       "      <th>right_gaze_point_on_display_area_1</th>\n",
       "      <th>left_pupil_validity</th>\n",
       "      <th>right_pupil_validity</th>\n",
       "      <th>left_pupil_diameter</th>\n",
       "      <th>right_pupil_diameter</th>\n",
       "      <th>lsl_time_stamp</th>\n",
       "      <th>time</th>\n",
       "    </tr>\n",
       "  </thead>\n",
       "  <tbody>\n",
       "    <tr>\n",
       "      <th>0</th>\n",
       "      <td>1.667686e+12</td>\n",
       "      <td>0.0</td>\n",
       "      <td>0.0</td>\n",
       "      <td>NaN</td>\n",
       "      <td>NaN</td>\n",
       "      <td>NaN</td>\n",
       "      <td>NaN</td>\n",
       "      <td>NaN</td>\n",
       "      <td>NaN</td>\n",
       "      <td>NaN</td>\n",
       "      <td>...</td>\n",
       "      <td>NaN</td>\n",
       "      <td>NaN</td>\n",
       "      <td>NaN</td>\n",
       "      <td>NaN</td>\n",
       "      <td>0.0</td>\n",
       "      <td>0.0</td>\n",
       "      <td>NaN</td>\n",
       "      <td>NaN</td>\n",
       "      <td>652805.459065</td>\n",
       "      <td>0.000000</td>\n",
       "    </tr>\n",
       "    <tr>\n",
       "      <th>1</th>\n",
       "      <td>1.667686e+12</td>\n",
       "      <td>0.0</td>\n",
       "      <td>0.0</td>\n",
       "      <td>NaN</td>\n",
       "      <td>NaN</td>\n",
       "      <td>NaN</td>\n",
       "      <td>NaN</td>\n",
       "      <td>NaN</td>\n",
       "      <td>NaN</td>\n",
       "      <td>NaN</td>\n",
       "      <td>...</td>\n",
       "      <td>NaN</td>\n",
       "      <td>NaN</td>\n",
       "      <td>NaN</td>\n",
       "      <td>NaN</td>\n",
       "      <td>0.0</td>\n",
       "      <td>0.0</td>\n",
       "      <td>NaN</td>\n",
       "      <td>NaN</td>\n",
       "      <td>652805.467398</td>\n",
       "      <td>0.000008</td>\n",
       "    </tr>\n",
       "    <tr>\n",
       "      <th>2</th>\n",
       "      <td>1.667686e+12</td>\n",
       "      <td>0.0</td>\n",
       "      <td>0.0</td>\n",
       "      <td>NaN</td>\n",
       "      <td>NaN</td>\n",
       "      <td>NaN</td>\n",
       "      <td>NaN</td>\n",
       "      <td>NaN</td>\n",
       "      <td>NaN</td>\n",
       "      <td>NaN</td>\n",
       "      <td>...</td>\n",
       "      <td>NaN</td>\n",
       "      <td>NaN</td>\n",
       "      <td>NaN</td>\n",
       "      <td>NaN</td>\n",
       "      <td>0.0</td>\n",
       "      <td>0.0</td>\n",
       "      <td>NaN</td>\n",
       "      <td>NaN</td>\n",
       "      <td>652805.475732</td>\n",
       "      <td>0.000017</td>\n",
       "    </tr>\n",
       "    <tr>\n",
       "      <th>3</th>\n",
       "      <td>1.667686e+12</td>\n",
       "      <td>0.0</td>\n",
       "      <td>0.0</td>\n",
       "      <td>NaN</td>\n",
       "      <td>NaN</td>\n",
       "      <td>NaN</td>\n",
       "      <td>NaN</td>\n",
       "      <td>NaN</td>\n",
       "      <td>NaN</td>\n",
       "      <td>NaN</td>\n",
       "      <td>...</td>\n",
       "      <td>NaN</td>\n",
       "      <td>NaN</td>\n",
       "      <td>NaN</td>\n",
       "      <td>NaN</td>\n",
       "      <td>0.0</td>\n",
       "      <td>0.0</td>\n",
       "      <td>NaN</td>\n",
       "      <td>NaN</td>\n",
       "      <td>652805.484066</td>\n",
       "      <td>0.000025</td>\n",
       "    </tr>\n",
       "    <tr>\n",
       "      <th>4</th>\n",
       "      <td>1.667686e+12</td>\n",
       "      <td>0.0</td>\n",
       "      <td>0.0</td>\n",
       "      <td>NaN</td>\n",
       "      <td>NaN</td>\n",
       "      <td>NaN</td>\n",
       "      <td>NaN</td>\n",
       "      <td>NaN</td>\n",
       "      <td>NaN</td>\n",
       "      <td>NaN</td>\n",
       "      <td>...</td>\n",
       "      <td>NaN</td>\n",
       "      <td>NaN</td>\n",
       "      <td>NaN</td>\n",
       "      <td>NaN</td>\n",
       "      <td>0.0</td>\n",
       "      <td>0.0</td>\n",
       "      <td>NaN</td>\n",
       "      <td>NaN</td>\n",
       "      <td>652805.492399</td>\n",
       "      <td>0.000033</td>\n",
       "    </tr>\n",
       "    <tr>\n",
       "      <th>...</th>\n",
       "      <td>...</td>\n",
       "      <td>...</td>\n",
       "      <td>...</td>\n",
       "      <td>...</td>\n",
       "      <td>...</td>\n",
       "      <td>...</td>\n",
       "      <td>...</td>\n",
       "      <td>...</td>\n",
       "      <td>...</td>\n",
       "      <td>...</td>\n",
       "      <td>...</td>\n",
       "      <td>...</td>\n",
       "      <td>...</td>\n",
       "      <td>...</td>\n",
       "      <td>...</td>\n",
       "      <td>...</td>\n",
       "      <td>...</td>\n",
       "      <td>...</td>\n",
       "      <td>...</td>\n",
       "      <td>...</td>\n",
       "      <td>...</td>\n",
       "    </tr>\n",
       "    <tr>\n",
       "      <th>137765</th>\n",
       "      <td>1.670466e+12</td>\n",
       "      <td>0.0</td>\n",
       "      <td>0.0</td>\n",
       "      <td>NaN</td>\n",
       "      <td>NaN</td>\n",
       "      <td>NaN</td>\n",
       "      <td>NaN</td>\n",
       "      <td>NaN</td>\n",
       "      <td>NaN</td>\n",
       "      <td>NaN</td>\n",
       "      <td>...</td>\n",
       "      <td>NaN</td>\n",
       "      <td>NaN</td>\n",
       "      <td>NaN</td>\n",
       "      <td>NaN</td>\n",
       "      <td>0.0</td>\n",
       "      <td>0.0</td>\n",
       "      <td>NaN</td>\n",
       "      <td>NaN</td>\n",
       "      <td>655585.084729</td>\n",
       "      <td>2.779626</td>\n",
       "    </tr>\n",
       "    <tr>\n",
       "      <th>137766</th>\n",
       "      <td>1.670466e+12</td>\n",
       "      <td>0.0</td>\n",
       "      <td>0.0</td>\n",
       "      <td>NaN</td>\n",
       "      <td>NaN</td>\n",
       "      <td>NaN</td>\n",
       "      <td>NaN</td>\n",
       "      <td>NaN</td>\n",
       "      <td>NaN</td>\n",
       "      <td>NaN</td>\n",
       "      <td>...</td>\n",
       "      <td>NaN</td>\n",
       "      <td>NaN</td>\n",
       "      <td>NaN</td>\n",
       "      <td>NaN</td>\n",
       "      <td>0.0</td>\n",
       "      <td>0.0</td>\n",
       "      <td>NaN</td>\n",
       "      <td>NaN</td>\n",
       "      <td>655585.093062</td>\n",
       "      <td>2.779634</td>\n",
       "    </tr>\n",
       "    <tr>\n",
       "      <th>137767</th>\n",
       "      <td>1.670466e+12</td>\n",
       "      <td>0.0</td>\n",
       "      <td>0.0</td>\n",
       "      <td>NaN</td>\n",
       "      <td>NaN</td>\n",
       "      <td>NaN</td>\n",
       "      <td>NaN</td>\n",
       "      <td>NaN</td>\n",
       "      <td>NaN</td>\n",
       "      <td>NaN</td>\n",
       "      <td>...</td>\n",
       "      <td>NaN</td>\n",
       "      <td>NaN</td>\n",
       "      <td>NaN</td>\n",
       "      <td>NaN</td>\n",
       "      <td>0.0</td>\n",
       "      <td>0.0</td>\n",
       "      <td>NaN</td>\n",
       "      <td>NaN</td>\n",
       "      <td>655585.101396</td>\n",
       "      <td>2.779642</td>\n",
       "    </tr>\n",
       "    <tr>\n",
       "      <th>137768</th>\n",
       "      <td>1.670466e+12</td>\n",
       "      <td>0.0</td>\n",
       "      <td>0.0</td>\n",
       "      <td>NaN</td>\n",
       "      <td>NaN</td>\n",
       "      <td>NaN</td>\n",
       "      <td>NaN</td>\n",
       "      <td>NaN</td>\n",
       "      <td>NaN</td>\n",
       "      <td>NaN</td>\n",
       "      <td>...</td>\n",
       "      <td>NaN</td>\n",
       "      <td>NaN</td>\n",
       "      <td>NaN</td>\n",
       "      <td>NaN</td>\n",
       "      <td>0.0</td>\n",
       "      <td>0.0</td>\n",
       "      <td>NaN</td>\n",
       "      <td>NaN</td>\n",
       "      <td>655585.109730</td>\n",
       "      <td>2.779651</td>\n",
       "    </tr>\n",
       "    <tr>\n",
       "      <th>137769</th>\n",
       "      <td>1.670466e+12</td>\n",
       "      <td>0.0</td>\n",
       "      <td>0.0</td>\n",
       "      <td>NaN</td>\n",
       "      <td>NaN</td>\n",
       "      <td>NaN</td>\n",
       "      <td>NaN</td>\n",
       "      <td>NaN</td>\n",
       "      <td>NaN</td>\n",
       "      <td>NaN</td>\n",
       "      <td>...</td>\n",
       "      <td>NaN</td>\n",
       "      <td>NaN</td>\n",
       "      <td>NaN</td>\n",
       "      <td>NaN</td>\n",
       "      <td>0.0</td>\n",
       "      <td>0.0</td>\n",
       "      <td>NaN</td>\n",
       "      <td>NaN</td>\n",
       "      <td>655585.118063</td>\n",
       "      <td>2.779659</td>\n",
       "    </tr>\n",
       "  </tbody>\n",
       "</table>\n",
       "<p>137770 rows × 33 columns</p>\n",
       "</div>"
      ],
      "text/plain": [
       "        device_time_stamp  left_gaze_origin_validity  \\\n",
       "0            1.667686e+12                        0.0   \n",
       "1            1.667686e+12                        0.0   \n",
       "2            1.667686e+12                        0.0   \n",
       "3            1.667686e+12                        0.0   \n",
       "4            1.667686e+12                        0.0   \n",
       "...                   ...                        ...   \n",
       "137765       1.670466e+12                        0.0   \n",
       "137766       1.670466e+12                        0.0   \n",
       "137767       1.670466e+12                        0.0   \n",
       "137768       1.670466e+12                        0.0   \n",
       "137769       1.670466e+12                        0.0   \n",
       "\n",
       "        right_gaze_origin_validity  \\\n",
       "0                              0.0   \n",
       "1                              0.0   \n",
       "2                              0.0   \n",
       "3                              0.0   \n",
       "4                              0.0   \n",
       "...                            ...   \n",
       "137765                         0.0   \n",
       "137766                         0.0   \n",
       "137767                         0.0   \n",
       "137768                         0.0   \n",
       "137769                         0.0   \n",
       "\n",
       "        left_gaze_origin_in_user_coordinate_system_0  \\\n",
       "0                                                NaN   \n",
       "1                                                NaN   \n",
       "2                                                NaN   \n",
       "3                                                NaN   \n",
       "4                                                NaN   \n",
       "...                                              ...   \n",
       "137765                                           NaN   \n",
       "137766                                           NaN   \n",
       "137767                                           NaN   \n",
       "137768                                           NaN   \n",
       "137769                                           NaN   \n",
       "\n",
       "        left_gaze_origin_in_user_coordinate_system_1  \\\n",
       "0                                                NaN   \n",
       "1                                                NaN   \n",
       "2                                                NaN   \n",
       "3                                                NaN   \n",
       "4                                                NaN   \n",
       "...                                              ...   \n",
       "137765                                           NaN   \n",
       "137766                                           NaN   \n",
       "137767                                           NaN   \n",
       "137768                                           NaN   \n",
       "137769                                           NaN   \n",
       "\n",
       "        left_gaze_origin_in_user_coordinate_system_2  \\\n",
       "0                                                NaN   \n",
       "1                                                NaN   \n",
       "2                                                NaN   \n",
       "3                                                NaN   \n",
       "4                                                NaN   \n",
       "...                                              ...   \n",
       "137765                                           NaN   \n",
       "137766                                           NaN   \n",
       "137767                                           NaN   \n",
       "137768                                           NaN   \n",
       "137769                                           NaN   \n",
       "\n",
       "        right_gaze_origin_in_user_coordinate_system_0  \\\n",
       "0                                                 NaN   \n",
       "1                                                 NaN   \n",
       "2                                                 NaN   \n",
       "3                                                 NaN   \n",
       "4                                                 NaN   \n",
       "...                                               ...   \n",
       "137765                                            NaN   \n",
       "137766                                            NaN   \n",
       "137767                                            NaN   \n",
       "137768                                            NaN   \n",
       "137769                                            NaN   \n",
       "\n",
       "        right_gaze_origin_in_user_coordinate_system_1  \\\n",
       "0                                                 NaN   \n",
       "1                                                 NaN   \n",
       "2                                                 NaN   \n",
       "3                                                 NaN   \n",
       "4                                                 NaN   \n",
       "...                                               ...   \n",
       "137765                                            NaN   \n",
       "137766                                            NaN   \n",
       "137767                                            NaN   \n",
       "137768                                            NaN   \n",
       "137769                                            NaN   \n",
       "\n",
       "        right_gaze_origin_in_user_coordinate_system_2  \\\n",
       "0                                                 NaN   \n",
       "1                                                 NaN   \n",
       "2                                                 NaN   \n",
       "3                                                 NaN   \n",
       "4                                                 NaN   \n",
       "...                                               ...   \n",
       "137765                                            NaN   \n",
       "137766                                            NaN   \n",
       "137767                                            NaN   \n",
       "137768                                            NaN   \n",
       "137769                                            NaN   \n",
       "\n",
       "        left_gaze_origin_in_trackbox_coordinate_system_0  ...  \\\n",
       "0                                                    NaN  ...   \n",
       "1                                                    NaN  ...   \n",
       "2                                                    NaN  ...   \n",
       "3                                                    NaN  ...   \n",
       "4                                                    NaN  ...   \n",
       "...                                                  ...  ...   \n",
       "137765                                               NaN  ...   \n",
       "137766                                               NaN  ...   \n",
       "137767                                               NaN  ...   \n",
       "137768                                               NaN  ...   \n",
       "137769                                               NaN  ...   \n",
       "\n",
       "        left_gaze_point_on_display_area_0  left_gaze_point_on_display_area_1  \\\n",
       "0                                     NaN                                NaN   \n",
       "1                                     NaN                                NaN   \n",
       "2                                     NaN                                NaN   \n",
       "3                                     NaN                                NaN   \n",
       "4                                     NaN                                NaN   \n",
       "...                                   ...                                ...   \n",
       "137765                                NaN                                NaN   \n",
       "137766                                NaN                                NaN   \n",
       "137767                                NaN                                NaN   \n",
       "137768                                NaN                                NaN   \n",
       "137769                                NaN                                NaN   \n",
       "\n",
       "        right_gaze_point_on_display_area_0  \\\n",
       "0                                      NaN   \n",
       "1                                      NaN   \n",
       "2                                      NaN   \n",
       "3                                      NaN   \n",
       "4                                      NaN   \n",
       "...                                    ...   \n",
       "137765                                 NaN   \n",
       "137766                                 NaN   \n",
       "137767                                 NaN   \n",
       "137768                                 NaN   \n",
       "137769                                 NaN   \n",
       "\n",
       "        right_gaze_point_on_display_area_1  left_pupil_validity  \\\n",
       "0                                      NaN                  0.0   \n",
       "1                                      NaN                  0.0   \n",
       "2                                      NaN                  0.0   \n",
       "3                                      NaN                  0.0   \n",
       "4                                      NaN                  0.0   \n",
       "...                                    ...                  ...   \n",
       "137765                                 NaN                  0.0   \n",
       "137766                                 NaN                  0.0   \n",
       "137767                                 NaN                  0.0   \n",
       "137768                                 NaN                  0.0   \n",
       "137769                                 NaN                  0.0   \n",
       "\n",
       "        right_pupil_validity  left_pupil_diameter  right_pupil_diameter  \\\n",
       "0                        0.0                  NaN                   NaN   \n",
       "1                        0.0                  NaN                   NaN   \n",
       "2                        0.0                  NaN                   NaN   \n",
       "3                        0.0                  NaN                   NaN   \n",
       "4                        0.0                  NaN                   NaN   \n",
       "...                      ...                  ...                   ...   \n",
       "137765                   0.0                  NaN                   NaN   \n",
       "137766                   0.0                  NaN                   NaN   \n",
       "137767                   0.0                  NaN                   NaN   \n",
       "137768                   0.0                  NaN                   NaN   \n",
       "137769                   0.0                  NaN                   NaN   \n",
       "\n",
       "        lsl_time_stamp      time  \n",
       "0        652805.459065  0.000000  \n",
       "1        652805.467398  0.000008  \n",
       "2        652805.475732  0.000017  \n",
       "3        652805.484066  0.000025  \n",
       "4        652805.492399  0.000033  \n",
       "...                ...       ...  \n",
       "137765   655585.084729  2.779626  \n",
       "137766   655585.093062  2.779634  \n",
       "137767   655585.101396  2.779642  \n",
       "137768   655585.109730  2.779651  \n",
       "137769   655585.118063  2.779659  \n",
       "\n",
       "[137770 rows x 33 columns]"
      ]
     },
     "execution_count": 43,
     "metadata": {},
     "output_type": "execute_result"
    }
   ],
   "source": [
    "ET = data[streams_collected.index('Tobii')]\n",
    "et_dat = ET['time_series']\n",
    "# Get the column names\n",
    "column_labels = [ET['info']['desc'][0]['channels'][0]['channel'][i]['label'][0] for i in range(len(ET['info']['desc'][0]['channels'][0]['channel']))]\n",
    "\n",
    "et_df = pd.DataFrame(data=et_dat, columns=column_labels)\n",
    "et_df['lsl_time_stamp'] = ET['time_stamps']\n",
    "et_df['time'] = (ET['time_stamps'] - ET['time_stamps'][0])/1000\n",
    "et_df"
   ]
  },
  {
   "cell_type": "code",
   "execution_count": 57,
   "metadata": {},
   "outputs": [
    {
     "data": {
      "text/plain": [
       "137769"
      ]
     },
     "execution_count": 57,
     "metadata": {},
     "output_type": "execute_result"
    }
   ],
   "source": [
    "#nsamp\n",
    "int(ET['footer']['info']['sample_count'][0])\n"
   ]
  },
  {
   "cell_type": "code",
   "execution_count": 58,
   "metadata": {},
   "outputs": [
    {
     "data": {
      "text/plain": [
       "2779.6589983566664"
      ]
     },
     "execution_count": 58,
     "metadata": {},
     "output_type": "execute_result"
    }
   ],
   "source": [
    "et_df['lsl_time_stamp'].iloc[-1] - et_df['lsl_time_stamp'].iloc[0]"
   ]
  },
  {
   "cell_type": "code",
   "execution_count": 55,
   "metadata": {},
   "outputs": [
    {
     "data": {
      "text/plain": [
       "119.99583772142171"
      ]
     },
     "execution_count": 55,
     "metadata": {},
     "output_type": "execute_result"
    }
   ],
   "source": [
    "# srate\n",
    "ET['info']['effective_srate']\n"
   ]
  },
  {
   "cell_type": "code",
   "execution_count": 49,
   "metadata": {},
   "outputs": [
    {
     "data": {
      "text/plain": [
       "2.7796589983566666"
      ]
     },
     "execution_count": 49,
     "metadata": {},
     "output_type": "execute_result"
    }
   ],
   "source": [
    "et_df['time'].iloc[-1]"
   ]
  },
  {
   "cell_type": "code",
   "execution_count": 51,
   "metadata": {},
   "outputs": [
    {
     "data": {
      "text/plain": [
       "49.56363355413365"
      ]
     },
     "execution_count": 51,
     "metadata": {},
     "output_type": "execute_result"
    }
   ],
   "source": [
    "et_resting = get_event_data('RestingState', et_df, stim_df)\n",
    "time = et_df['lsl_time_stamp'].iloc[-1] - et_df['lsl_time_stamp'].iloc[0]\n",
    "\n",
    "nsamp = len(et_df)\n",
    "\n",
    "nsamp/time"
   ]
  },
  {
   "cell_type": "code",
   "execution_count": 6,
   "metadata": {},
   "outputs": [
    {
     "data": {
      "text/html": [
       "<div>\n",
       "<style scoped>\n",
       "    .dataframe tbody tr th:only-of-type {\n",
       "        vertical-align: middle;\n",
       "    }\n",
       "\n",
       "    .dataframe tbody tr th {\n",
       "        vertical-align: top;\n",
       "    }\n",
       "\n",
       "    .dataframe thead th {\n",
       "        text-align: right;\n",
       "    }\n",
       "</style>\n",
       "<table border=\"1\" class=\"dataframe\">\n",
       "  <thead>\n",
       "    <tr style=\"text-align: right;\">\n",
       "      <th></th>\n",
       "      <th>variable</th>\n",
       "      <th>percent_valid</th>\n",
       "    </tr>\n",
       "  </thead>\n",
       "  <tbody>\n",
       "    <tr>\n",
       "      <th>0</th>\n",
       "      <td>left_gaze_origin_validity</td>\n",
       "      <td>0.4191</td>\n",
       "    </tr>\n",
       "    <tr>\n",
       "      <th>1</th>\n",
       "      <td>right_gaze_origin_validity</td>\n",
       "      <td>0.4458</td>\n",
       "    </tr>\n",
       "    <tr>\n",
       "      <th>2</th>\n",
       "      <td>left_gaze_point_validity</td>\n",
       "      <td>0.4098</td>\n",
       "    </tr>\n",
       "    <tr>\n",
       "      <th>3</th>\n",
       "      <td>right_gaze_point_validity</td>\n",
       "      <td>0.4441</td>\n",
       "    </tr>\n",
       "    <tr>\n",
       "      <th>4</th>\n",
       "      <td>left_pupil_validity</td>\n",
       "      <td>0.4098</td>\n",
       "    </tr>\n",
       "    <tr>\n",
       "      <th>5</th>\n",
       "      <td>right_pupil_validity</td>\n",
       "      <td>0.4441</td>\n",
       "    </tr>\n",
       "  </tbody>\n",
       "</table>\n",
       "</div>"
      ],
      "text/plain": [
       "                     variable percent_valid\n",
       "0   left_gaze_origin_validity        0.4191\n",
       "1  right_gaze_origin_validity        0.4458\n",
       "2    left_gaze_point_validity        0.4098\n",
       "3   right_gaze_point_validity        0.4441\n",
       "4         left_pupil_validity        0.4098\n",
       "5        right_pupil_validity        0.4441"
      ]
     },
     "execution_count": 6,
     "metadata": {},
     "output_type": "execute_result"
    }
   ],
   "source": [
    "# get percent valid items from validity columns\n",
    "val_cols = et_df.filter(like = 'validity').columns\n",
    "val_df = pd.DataFrame(columns = ['variable', 'percent_valid'])\n",
    "val_df['variable'] = val_cols\n",
    "\n",
    "for i, var in enumerate(val_cols):\n",
    "    val_df.loc[i, 'percent_valid'] = round(np.mean(et_df[var]), 4)\n",
    "\n",
    "val_df"
   ]
  },
  {
   "cell_type": "code",
   "execution_count": 7,
   "metadata": {},
   "outputs": [
    {
     "data": {
      "text/html": [
       "<div>\n",
       "<style scoped>\n",
       "    .dataframe tbody tr th:only-of-type {\n",
       "        vertical-align: middle;\n",
       "    }\n",
       "\n",
       "    .dataframe tbody tr th {\n",
       "        vertical-align: top;\n",
       "    }\n",
       "\n",
       "    .dataframe thead th {\n",
       "        text-align: right;\n",
       "    }\n",
       "</style>\n",
       "<table border=\"1\" class=\"dataframe\">\n",
       "  <thead>\n",
       "    <tr style=\"text-align: right;\">\n",
       "      <th></th>\n",
       "      <th>variable</th>\n",
       "      <th>percent_valid</th>\n",
       "    </tr>\n",
       "  </thead>\n",
       "  <tbody>\n",
       "    <tr>\n",
       "      <th>0</th>\n",
       "      <td>left_gaze_origin_in_user_coordinate_system_0</td>\n",
       "      <td>0.4191</td>\n",
       "    </tr>\n",
       "    <tr>\n",
       "      <th>1</th>\n",
       "      <td>left_gaze_origin_in_user_coordinate_system_1</td>\n",
       "      <td>0.4191</td>\n",
       "    </tr>\n",
       "    <tr>\n",
       "      <th>2</th>\n",
       "      <td>left_gaze_origin_in_user_coordinate_system_2</td>\n",
       "      <td>0.4191</td>\n",
       "    </tr>\n",
       "    <tr>\n",
       "      <th>3</th>\n",
       "      <td>right_gaze_origin_in_user_coordinate_system_0</td>\n",
       "      <td>0.4458</td>\n",
       "    </tr>\n",
       "    <tr>\n",
       "      <th>4</th>\n",
       "      <td>right_gaze_origin_in_user_coordinate_system_1</td>\n",
       "      <td>0.4458</td>\n",
       "    </tr>\n",
       "    <tr>\n",
       "      <th>5</th>\n",
       "      <td>right_gaze_origin_in_user_coordinate_system_2</td>\n",
       "      <td>0.4458</td>\n",
       "    </tr>\n",
       "    <tr>\n",
       "      <th>6</th>\n",
       "      <td>left_gaze_origin_in_trackbox_coordinate_system_0</td>\n",
       "      <td>0.4191</td>\n",
       "    </tr>\n",
       "    <tr>\n",
       "      <th>7</th>\n",
       "      <td>left_gaze_origin_in_trackbox_coordinate_system_1</td>\n",
       "      <td>0.4191</td>\n",
       "    </tr>\n",
       "    <tr>\n",
       "      <th>8</th>\n",
       "      <td>left_gaze_origin_in_trackbox_coordinate_system_2</td>\n",
       "      <td>0.4191</td>\n",
       "    </tr>\n",
       "    <tr>\n",
       "      <th>9</th>\n",
       "      <td>right_gaze_origin_in_trackbox_coordinate_system_0</td>\n",
       "      <td>0.4458</td>\n",
       "    </tr>\n",
       "    <tr>\n",
       "      <th>10</th>\n",
       "      <td>right_gaze_origin_in_trackbox_coordinate_system_1</td>\n",
       "      <td>0.4458</td>\n",
       "    </tr>\n",
       "    <tr>\n",
       "      <th>11</th>\n",
       "      <td>right_gaze_origin_in_trackbox_coordinate_system_2</td>\n",
       "      <td>0.4458</td>\n",
       "    </tr>\n",
       "    <tr>\n",
       "      <th>12</th>\n",
       "      <td>left_gaze_point_in_user_coordinate_system_0</td>\n",
       "      <td>0.4098</td>\n",
       "    </tr>\n",
       "    <tr>\n",
       "      <th>13</th>\n",
       "      <td>left_gaze_point_in_user_coordinate_system_1</td>\n",
       "      <td>0.4098</td>\n",
       "    </tr>\n",
       "    <tr>\n",
       "      <th>14</th>\n",
       "      <td>left_gaze_point_in_user_coordinate_system_2</td>\n",
       "      <td>0.4098</td>\n",
       "    </tr>\n",
       "    <tr>\n",
       "      <th>15</th>\n",
       "      <td>right_gaze_point_in_user_coordinate_system_0</td>\n",
       "      <td>0.4441</td>\n",
       "    </tr>\n",
       "    <tr>\n",
       "      <th>16</th>\n",
       "      <td>right_gaze_point_in_user_coordinate_system_1</td>\n",
       "      <td>0.4441</td>\n",
       "    </tr>\n",
       "    <tr>\n",
       "      <th>17</th>\n",
       "      <td>right_gaze_point_in_user_coordinate_system_2</td>\n",
       "      <td>0.4441</td>\n",
       "    </tr>\n",
       "    <tr>\n",
       "      <th>18</th>\n",
       "      <td>left_gaze_point_on_display_area_0</td>\n",
       "      <td>0.4098</td>\n",
       "    </tr>\n",
       "    <tr>\n",
       "      <th>19</th>\n",
       "      <td>left_gaze_point_on_display_area_1</td>\n",
       "      <td>0.4098</td>\n",
       "    </tr>\n",
       "    <tr>\n",
       "      <th>20</th>\n",
       "      <td>right_gaze_point_on_display_area_0</td>\n",
       "      <td>0.4441</td>\n",
       "    </tr>\n",
       "    <tr>\n",
       "      <th>21</th>\n",
       "      <td>right_gaze_point_on_display_area_1</td>\n",
       "      <td>0.4441</td>\n",
       "    </tr>\n",
       "    <tr>\n",
       "      <th>22</th>\n",
       "      <td>left_pupil_diameter</td>\n",
       "      <td>0.4098</td>\n",
       "    </tr>\n",
       "    <tr>\n",
       "      <th>23</th>\n",
       "      <td>right_pupil_diameter</td>\n",
       "      <td>0.4441</td>\n",
       "    </tr>\n",
       "  </tbody>\n",
       "</table>\n",
       "</div>"
      ],
      "text/plain": [
       "                                             variable percent_valid\n",
       "0        left_gaze_origin_in_user_coordinate_system_0        0.4191\n",
       "1        left_gaze_origin_in_user_coordinate_system_1        0.4191\n",
       "2        left_gaze_origin_in_user_coordinate_system_2        0.4191\n",
       "3       right_gaze_origin_in_user_coordinate_system_0        0.4458\n",
       "4       right_gaze_origin_in_user_coordinate_system_1        0.4458\n",
       "5       right_gaze_origin_in_user_coordinate_system_2        0.4458\n",
       "6    left_gaze_origin_in_trackbox_coordinate_system_0        0.4191\n",
       "7    left_gaze_origin_in_trackbox_coordinate_system_1        0.4191\n",
       "8    left_gaze_origin_in_trackbox_coordinate_system_2        0.4191\n",
       "9   right_gaze_origin_in_trackbox_coordinate_system_0        0.4458\n",
       "10  right_gaze_origin_in_trackbox_coordinate_system_1        0.4458\n",
       "11  right_gaze_origin_in_trackbox_coordinate_system_2        0.4458\n",
       "12        left_gaze_point_in_user_coordinate_system_0        0.4098\n",
       "13        left_gaze_point_in_user_coordinate_system_1        0.4098\n",
       "14        left_gaze_point_in_user_coordinate_system_2        0.4098\n",
       "15       right_gaze_point_in_user_coordinate_system_0        0.4441\n",
       "16       right_gaze_point_in_user_coordinate_system_1        0.4441\n",
       "17       right_gaze_point_in_user_coordinate_system_2        0.4441\n",
       "18                  left_gaze_point_on_display_area_0        0.4098\n",
       "19                  left_gaze_point_on_display_area_1        0.4098\n",
       "20                 right_gaze_point_on_display_area_0        0.4441\n",
       "21                 right_gaze_point_on_display_area_1        0.4441\n",
       "22                                left_pupil_diameter        0.4098\n",
       "23                               right_pupil_diameter        0.4441"
      ]
     },
     "execution_count": 7,
     "metadata": {},
     "output_type": "execute_result"
    }
   ],
   "source": [
    "# percent valid for all data columns (excluding time + validity columns)\n",
    "\n",
    "# remove columns w validity or time data \n",
    "time_cols = et_df.filter(like = 'time').columns\n",
    "qc_cols = time_cols.append(val_cols)\n",
    "et_data_cols = et_df.columns.drop(qc_cols)\n",
    "\n",
    "# percent non-NaN for each variable\n",
    "et_qc = pd.DataFrame(columns= ['variable', 'percent_valid'])\n",
    "et_qc['variable'] = et_data_cols\n",
    "\n",
    "for i, var in enumerate(et_data_cols):\n",
    "    et_qc.loc[i, 'percent_valid'] = round((1 - et_df[var].isna().mean()), 4)\n",
    "\n",
    "et_qc"
   ]
  },
  {
   "cell_type": "markdown",
   "metadata": {},
   "source": [
    "## Comparing Percents between Validity, Coordinates, and Coordinate Systems"
   ]
  },
  {
   "cell_type": "code",
   "execution_count": 8,
   "metadata": {},
   "outputs": [
    {
     "name": "stdout",
     "output_type": "stream",
     "text": [
      "validity variables equal % of present data for each measure\n"
     ]
    }
   ],
   "source": [
    "# compare NaN percentage in each measure with validity \n",
    "\n",
    "# for each row of val_df\n",
    "flag = False\n",
    "for row in range(len(val_df)):\n",
    "    # assign percent_valid to a var \n",
    "    val_percent = val_df.loc[row, 'percent_valid']\n",
    "\n",
    "    # get name of 'variable' without _validity \n",
    "    searchable = val_df.loc[row, 'variable']\n",
    "    searchable = searchable.replace('_validity', '')\n",
    "\n",
    "    # find corresponding variable in et_qc\n",
    "    found = et_qc[et_qc['variable'].str.contains(searchable)]\n",
    "\n",
    "    # Check if floats are close enough to each other\n",
    "    delta = 0.0000001\n",
    "    for i in found.index:\n",
    "        etqc_percent = found.loc[i, 'percent_valid']\n",
    "        etqc_variable = found.loc[i, 'variable']\n",
    "        diff = etqc_percent - val_percent\n",
    "        \n",
    "        if abs(diff) > delta:\n",
    "            print(\"ERROR: {} and {} were different by a difference of {}.\".format(etqc_variable, searchable, diff))\n",
    "            flag = True\n",
    "if not flag:\n",
    "    print(\"validity variables equal % of present data for each measure\")\n",
    "\n"
   ]
  },
  {
   "cell_type": "code",
   "execution_count": 9,
   "metadata": {},
   "outputs": [
    {
     "name": "stdout",
     "output_type": "stream",
     "text": [
      "all coordinates have the same % validity within each measure (LR, gaze point/origin/diameter)\n"
     ]
    }
   ],
   "source": [
    "# compare coordinates (0,1,2)\n",
    "flag = False\n",
    "for i in range(1, len(et_qc)):\n",
    "    # get variables that end in numbers \n",
    "    root = re.sub(r\"_\\d+$\", \"\", et_qc.loc[i, 'variable'])\n",
    "    if root in et_qc.loc[i-1, 'variable']:\n",
    "        current_percent = et_qc.loc[i, 'percent_valid']\n",
    "        prev_percent = et_qc.loc[i-1, 'percent_valid']\n",
    "        if current_percent != prev_percent:\n",
    "            print(\"ERROR: {} does not equal {}!\".format(et_qc.loc[i-1, 'variable'], et_qc.loc[i, 'variable']))\n",
    "            flag = True\n",
    "if not flag:\n",
    "    print(\"all coordinates have the same % validity within each measure (LR, gaze point/origin/diameter)\")\n",
    "\n"
   ]
  },
  {
   "cell_type": "code",
   "execution_count": 10,
   "metadata": {},
   "outputs": [
    {
     "name": "stdout",
     "output_type": "stream",
     "text": [
      "% NaNs is the same between UCS and TBCS (gaze origin) and between UCS and display area (gaze point)\n"
     ]
    }
   ],
   "source": [
    "# compare coordinate systems \n",
    "\n",
    "flag = False\n",
    "for i in range(1, len(et_qc)):\n",
    "    root = et_qc.loc[i, 'variable'].split(\"_in\")[0]\n",
    "    root_percent = et_qc.loc[i, 'percent_valid']\n",
    "\n",
    "    matching = et_qc[et_qc['variable'].str.contains(root)]\n",
    "\n",
    "    for i in matching.index:\n",
    "            matching_percent = matching.loc[i, 'percent_valid']\n",
    "            matching_variable = matching.loc[i, 'variable']\n",
    "\n",
    "            if root_percent != matching_percent:\n",
    "                print(\"ERROR: {} and {} were different by a difference of {}.\".format(matching_variable, root, (root_percent-matching_percent)))\n",
    "                flag = True\n",
    "   \n",
    "if not flag:\n",
    "    print(\"% NaNs is the same between UCS and TBCS (gaze origin) and between UCS and display area (gaze point)\")\n",
    "\n"
   ]
  },
  {
   "cell_type": "markdown",
   "metadata": {},
   "source": [
    "## Compare valid data between left and right eyes"
   ]
  },
  {
   "cell_type": "code",
   "execution_count": 11,
   "metadata": {},
   "outputs": [
    {
     "data": {
      "text/html": [
       "<div>\n",
       "<style scoped>\n",
       "    .dataframe tbody tr th:only-of-type {\n",
       "        vertical-align: middle;\n",
       "    }\n",
       "\n",
       "    .dataframe tbody tr th {\n",
       "        vertical-align: top;\n",
       "    }\n",
       "\n",
       "    .dataframe thead th {\n",
       "        text-align: right;\n",
       "    }\n",
       "</style>\n",
       "<table border=\"1\" class=\"dataframe\">\n",
       "  <thead>\n",
       "    <tr style=\"text-align: right;\">\n",
       "      <th></th>\n",
       "      <th>eye</th>\n",
       "      <th>min</th>\n",
       "      <th>max</th>\n",
       "      <th>mean</th>\n",
       "    </tr>\n",
       "  </thead>\n",
       "  <tbody>\n",
       "    <tr>\n",
       "      <th>0</th>\n",
       "      <td>left</td>\n",
       "      <td>0.4098</td>\n",
       "      <td>0.4191</td>\n",
       "      <td>0.4144</td>\n",
       "    </tr>\n",
       "    <tr>\n",
       "      <th>1</th>\n",
       "      <td>right</td>\n",
       "      <td>0.4441</td>\n",
       "      <td>0.4458</td>\n",
       "      <td>0.4450</td>\n",
       "    </tr>\n",
       "  </tbody>\n",
       "</table>\n",
       "</div>"
      ],
      "text/plain": [
       "     eye     min     max    mean\n",
       "0   left  0.4098  0.4191  0.4144\n",
       "1  right  0.4441  0.4458  0.4450"
      ]
     },
     "execution_count": 11,
     "metadata": {},
     "output_type": "execute_result"
    }
   ],
   "source": [
    "left = et_qc[et_qc.variable.str.startswith('left')]\n",
    "right = et_qc[et_qc.variable.str.startswith('right')]\n",
    "\n",
    "RL_val = pd.DataFrame(columns = ['eye','min', 'max', 'mean'])\n",
    "\n",
    "for i, (df, RL) in enumerate([(left, 'left'), (right, 'right')]):\n",
    "    min1 = min(df['percent_valid'])\n",
    "    max1 = max(df['percent_valid'])\n",
    "    mean1 = round(np.mean(df['percent_valid']), 4)\n",
    "    RL_val.loc[i] = [RL, min1, max1, mean1]\n",
    "\n",
    "\n",
    "RL_val"
   ]
  },
  {
   "cell_type": "code",
   "execution_count": 12,
   "metadata": {},
   "outputs": [
    {
     "data": {
      "text/html": [
       "<div>\n",
       "<style scoped>\n",
       "    .dataframe tbody tr th:only-of-type {\n",
       "        vertical-align: middle;\n",
       "    }\n",
       "\n",
       "    .dataframe tbody tr th {\n",
       "        vertical-align: top;\n",
       "    }\n",
       "\n",
       "    .dataframe thead th {\n",
       "        text-align: right;\n",
       "    }\n",
       "</style>\n",
       "<table border=\"1\" class=\"dataframe\">\n",
       "  <thead>\n",
       "    <tr style=\"text-align: right;\">\n",
       "      <th></th>\n",
       "      <th>eye</th>\n",
       "      <th>min</th>\n",
       "      <th>max</th>\n",
       "      <th>mean</th>\n",
       "    </tr>\n",
       "  </thead>\n",
       "  <tbody>\n",
       "    <tr>\n",
       "      <th>0</th>\n",
       "      <td>left</td>\n",
       "      <td>0.4098</td>\n",
       "      <td>0.4191</td>\n",
       "      <td>0.4144</td>\n",
       "    </tr>\n",
       "    <tr>\n",
       "      <th>1</th>\n",
       "      <td>right</td>\n",
       "      <td>0.4441</td>\n",
       "      <td>0.4458</td>\n",
       "      <td>0.445</td>\n",
       "    </tr>\n",
       "    <tr>\n",
       "      <th>2</th>\n",
       "      <td></td>\n",
       "      <td></td>\n",
       "      <td></td>\n",
       "      <td></td>\n",
       "    </tr>\n",
       "    <tr>\n",
       "      <th>3</th>\n",
       "      <td>diff</td>\n",
       "      <td>0.0343</td>\n",
       "      <td>0.0267</td>\n",
       "      <td>0.0306</td>\n",
       "    </tr>\n",
       "  </tbody>\n",
       "</table>\n",
       "</div>"
      ],
      "text/plain": [
       "     eye     min     max    mean\n",
       "0   left  0.4098  0.4191  0.4144\n",
       "1  right  0.4441  0.4458   0.445\n",
       "2                               \n",
       "3   diff  0.0343  0.0267  0.0306"
      ]
     },
     "execution_count": 12,
     "metadata": {},
     "output_type": "execute_result"
    }
   ],
   "source": [
    "# find diff between RL \n",
    "RL_val.loc[2] = ['diff', RL_val['min'].diff()[1], RL_val['max'].diff()[1], RL_val['mean'].diff()[1]]\n",
    "\n",
    "# add blank row \n",
    "blank = pd.DataFrame([['', '', '', '']], columns = RL_val.columns)\n",
    "RL_val = pd.concat([RL_val.iloc[:2], blank, RL_val.iloc[2:]])\n",
    "RL_val.reset_index(drop=True, inplace=True)\n",
    "RL_val\n"
   ]
  },
  {
   "cell_type": "code",
   "execution_count": 13,
   "metadata": {},
   "outputs": [
    {
     "name": "stdout",
     "output_type": "stream",
     "text": [
      "mean validity for left eye is 41.44%.\n",
      "mean validity for right eye is 44.50%.\n",
      "the difference is 3.06%.\n"
     ]
    }
   ],
   "source": [
    "lmean = RL_val.loc[RL_val.eye =='left', 'mean'][0]\n",
    "rmean = RL_val.loc[RL_val.eye =='right', 'mean'][1]\n",
    "mean_diff = RL_val.loc[RL_val.eye =='diff', 'mean'][3]\n",
    "\n",
    "print('mean validity for left eye is {:.2%}.\\n\\\n",
    "mean validity for right eye is {:.2%}.\\n\\\n",
    "the difference is {:.2%}.'.format(lmean, rmean, abs(mean_diff)))"
   ]
  },
  {
   "cell_type": "markdown",
   "metadata": {},
   "source": [
    "## Gaze Point Min + Max"
   ]
  },
  {
   "cell_type": "code",
   "execution_count": 14,
   "metadata": {},
   "outputs": [],
   "source": [
    "minmax = {}\n",
    "for eye, e in zip(['left', 'right'], ['l', 'r']):\n",
    "    for disp in ['0', '1']:\n",
    "        minmax[f'min_{e}{disp}'] = round(np.nanmin(et_df['{}_gaze_point_on_display_area_{}'.format(eye, disp)]), 3)\n",
    "        minmax[f'max_{e}{disp}'] = round(np.nanmax(et_df['{}_gaze_point_on_display_area_{}'.format(eye, disp)]), 3)\n",
    "        \n",
    "        # globals()['min_'+e+disp] = round(np.nanmin(et_df['{}_gaze_point_on_display_area_{}'.format(eye, disp)]), 3)\n",
    "        # globals()['max_'+e+disp] = round(np.nanmax(et_df['{}_gaze_point_on_display_area_{}'.format(eye, disp)]), 3)\n"
   ]
  },
  {
   "cell_type": "code",
   "execution_count": 15,
   "metadata": {},
   "outputs": [
    {
     "name": "stdout",
     "output_type": "stream",
     "text": [
      "Left eye: \n",
      "      Display area 0 min: -1.575, max: 3.499\n",
      "      Display area 1 min: -0.73, max: 2.154\n",
      "      \n",
      "Right eye: \n",
      "      Display area 0 min: -2.383, max: 2.358\n",
      "      Display area 1 min: -0.885, max: 2.102\n"
     ]
    }
   ],
   "source": [
    "print(f\"Left eye: \\n\\\n",
    "      Display area 0 min: {minmax['min_l0']:.4}, max: {minmax['max_l0']:.4}\\n\\\n",
    "      Display area 1 min: {minmax['min_l1']:.4}, max: {minmax['max_l1']:.4}\\n\\\n",
    "      \\n\\\n",
    "Right eye: \\n\\\n",
    "      Display area 0 min: {minmax['min_r0']:.4}, max: {minmax['max_r0']:.4}\\n\\\n",
    "      Display area 1 min: {minmax['min_r1']:.4}, max: {minmax['max_r1']:.4}\")\n",
    "\n",
    "# left and right eye display area 0 min pretty different"
   ]
  },
  {
   "cell_type": "code",
   "execution_count": 16,
   "metadata": {},
   "outputs": [
    {
     "data": {
      "text/html": [
       "<div>\n",
       "<style scoped>\n",
       "    .dataframe tbody tr th:only-of-type {\n",
       "        vertical-align: middle;\n",
       "    }\n",
       "\n",
       "    .dataframe tbody tr th {\n",
       "        vertical-align: top;\n",
       "    }\n",
       "\n",
       "    .dataframe thead th {\n",
       "        text-align: right;\n",
       "    }\n",
       "</style>\n",
       "<table border=\"1\" class=\"dataframe\">\n",
       "  <thead>\n",
       "    <tr style=\"text-align: right;\">\n",
       "      <th></th>\n",
       "      <th>display area</th>\n",
       "      <th>min</th>\n",
       "      <th>max</th>\n",
       "    </tr>\n",
       "  </thead>\n",
       "  <tbody>\n",
       "    <tr>\n",
       "      <th>0</th>\n",
       "      <td>0</td>\n",
       "      <td>-1.575</td>\n",
       "      <td>3.499</td>\n",
       "    </tr>\n",
       "    <tr>\n",
       "      <th>1</th>\n",
       "      <td>1</td>\n",
       "      <td>-0.730</td>\n",
       "      <td>2.154</td>\n",
       "    </tr>\n",
       "  </tbody>\n",
       "</table>\n",
       "</div>"
      ],
      "text/plain": [
       "  display area    min    max\n",
       "0            0 -1.575  3.499\n",
       "1            1 -0.730  2.154"
      ]
     },
     "metadata": {},
     "output_type": "display_data"
    },
    {
     "data": {
      "text/html": [
       "<div>\n",
       "<style scoped>\n",
       "    .dataframe tbody tr th:only-of-type {\n",
       "        vertical-align: middle;\n",
       "    }\n",
       "\n",
       "    .dataframe tbody tr th {\n",
       "        vertical-align: top;\n",
       "    }\n",
       "\n",
       "    .dataframe thead th {\n",
       "        text-align: right;\n",
       "    }\n",
       "</style>\n",
       "<table border=\"1\" class=\"dataframe\">\n",
       "  <thead>\n",
       "    <tr style=\"text-align: right;\">\n",
       "      <th></th>\n",
       "      <th>display area</th>\n",
       "      <th>min</th>\n",
       "      <th>max</th>\n",
       "    </tr>\n",
       "  </thead>\n",
       "  <tbody>\n",
       "    <tr>\n",
       "      <th>0</th>\n",
       "      <td>0</td>\n",
       "      <td>-2.383</td>\n",
       "      <td>2.358</td>\n",
       "    </tr>\n",
       "    <tr>\n",
       "      <th>1</th>\n",
       "      <td>1</td>\n",
       "      <td>-0.885</td>\n",
       "      <td>2.102</td>\n",
       "    </tr>\n",
       "  </tbody>\n",
       "</table>\n",
       "</div>"
      ],
      "text/plain": [
       "  display area    min    max\n",
       "0            0 -2.383  2.358\n",
       "1            1 -0.885  2.102"
      ]
     },
     "metadata": {},
     "output_type": "display_data"
    }
   ],
   "source": [
    "left_display = pd.DataFrame(columns = ['display area', 'min', 'max'])\n",
    "right_display = pd.DataFrame(columns = ['display area', 'min', 'max'])\n",
    "\n",
    "left_display.loc[0] = ['0', minmax['min_l0'], minmax['max_l0']]\n",
    "left_display.loc[1] = ['1', minmax['min_l1'], minmax['max_l1']]\n",
    "\n",
    "right_display.loc[0] = ['0', minmax['min_r0'], minmax['max_r0']]\n",
    "right_display.loc[1] = ['1', minmax['min_r1'], minmax['max_r1']]\n",
    "\n",
    "display(left_display)\n",
    "display(right_display)"
   ]
  },
  {
   "cell_type": "code",
   "execution_count": 17,
   "metadata": {},
   "outputs": [
    {
     "name": "stdout",
     "output_type": "stream",
     "text": [
      "The difference between left and right is: \n",
      "      display area 0 min: 0.808, max: 1.14 \n",
      "      display area 1 min: 0.155, max: 0.052\n"
     ]
    }
   ],
   "source": [
    "print(f\"The difference between left and right is: \\n\\\n",
    "      display area 0 min: {minmax['min_l0']-minmax['min_r0']:.3}, max: {minmax['max_l0']-minmax['max_r0']:.3} \\n\\\n",
    "      display area 1 min: {minmax['min_l1']-minmax['min_r1']:.3}, max: {minmax['max_l1']-minmax['max_r1']:.3}\")"
   ]
  },
  {
   "cell_type": "code",
   "execution_count": 27,
   "metadata": {},
   "outputs": [
    {
     "data": {
      "text/plain": [
       "-0.2515065"
      ]
     },
     "execution_count": 27,
     "metadata": {},
     "output_type": "execute_result"
    }
   ],
   "source": [
    "et_df.left_gaze_point_on_display_area_1[44]"
   ]
  },
  {
   "cell_type": "code",
   "execution_count": 28,
   "metadata": {},
   "outputs": [
    {
     "data": {
      "text/plain": [
       "(-3.0, 3.0)"
      ]
     },
     "execution_count": 28,
     "metadata": {},
     "output_type": "execute_result"
    },
    {
     "data": {
      "image/png": "[encoded data removed]",
      "text/plain": [
       "<Figure size 640x480 with 1 Axes>"
      ]
     },
     "metadata": {},
     "output_type": "display_data"
    }
   ],
   "source": [
    "plt.scatter(et_df.left_gaze_point_on_display_area_0[44], et_df.left_gaze_point_on_display_area_1[44], color = 'red')\n",
    "plt.scatter(et_df.right_gaze_point_on_display_area_0[44], et_df.right_gaze_point_on_display_area_1[44], color = 'blue')\n",
    "plt.xlim([-3,3])\n",
    "plt.ylim([-3,3])"
   ]
  },
  {
   "cell_type": "code",
   "execution_count": 33,
   "metadata": {},
   "outputs": [
    {
     "data": {
      "text/plain": [
       "0         False\n",
       "1         False\n",
       "2         False\n",
       "3         False\n",
       "4         False\n",
       "          ...  \n",
       "137765    False\n",
       "137766    False\n",
       "137767    False\n",
       "137768    False\n",
       "137769    False\n",
       "Name: left_gaze_point_on_display_area_0, Length: 137770, dtype: bool"
      ]
     },
     "execution_count": 33,
     "metadata": {},
     "output_type": "execute_result"
    }
   ],
   "source": [
    "~np.isnan(et_df.left_gaze_point_on_display_area_0)"
   ]
  },
  {
   "cell_type": "code",
   "execution_count": 36,
   "metadata": {},
   "outputs": [],
   "source": [
    "et_nums = et_df[~np.isnan(et_df.left_gaze_point_on_display_area_0) &\n",
    "        ~np.isnan(et_df.left_gaze_point_on_display_area_1) &\n",
    "        ~np.isnan(et_df.right_gaze_point_on_display_area_0) &\n",
    "        ~np.isnan(et_df.right_gaze_point_on_display_area_1)]"
   ]
  },
  {
   "cell_type": "code",
   "execution_count": 38,
   "metadata": {},
   "outputs": [
    {
     "ename": "NameError",
     "evalue": "name 'ax' is not defined",
     "output_type": "error",
     "traceback": [
      "\u001b[0;31m---------------------------------------------------------------------------\u001b[0m",
      "\u001b[0;31mNameError\u001b[0m                                 Traceback (most recent call last)",
      "Cell \u001b[0;32mIn[38], line 8\u001b[0m\n\u001b[1;32m      5\u001b[0m dists \u001b[38;5;241m=\u001b[39m np\u001b[38;5;241m.\u001b[39msqrt((x2 \u001b[38;5;241m-\u001b[39m x1)\u001b[38;5;241m*\u001b[39m\u001b[38;5;241m*\u001b[39m\u001b[38;5;241m2\u001b[39m \u001b[38;5;241m+\u001b[39m (y2 \u001b[38;5;241m-\u001b[39m y1)\u001b[38;5;241m*\u001b[39m\u001b[38;5;241m*\u001b[39m\u001b[38;5;241m2\u001b[39m)\n\u001b[1;32m      7\u001b[0m plt\u001b[38;5;241m.\u001b[39mhist(dists, bins \u001b[38;5;241m=\u001b[39m\u001b[38;5;241m75\u001b[39m, alpha \u001b[38;5;241m=\u001b[39m \u001b[38;5;241m0.5\u001b[39m)\n\u001b[0;32m----> 8\u001b[0m \u001b[43max\u001b[49m\u001b[38;5;241m.\u001b[39mset_title(\u001b[38;5;124mf\u001b[39m\u001b[38;5;124m'\u001b[39m\u001b[38;5;124mDistribution of Distances Between \u001b[39m\u001b[38;5;130;01m\\n\u001b[39;00m\u001b[38;5;124mLeft and Right Gaze Points for Subject \u001b[39m\u001b[38;5;132;01m{\u001b[39;00msub_name\u001b[38;5;132;01m}\u001b[39;00m\u001b[38;5;124m'\u001b[39m)\n\u001b[1;32m      9\u001b[0m ax\u001b[38;5;241m.\u001b[39mset_xlabel(\u001b[38;5;124m'\u001b[39m\u001b[38;5;124mDistance between L + R Gaze Points\u001b[39m\u001b[38;5;124m'\u001b[39m)\n\u001b[1;32m     10\u001b[0m ax\u001b[38;5;241m.\u001b[39mset_ylabel(\u001b[38;5;124m'\u001b[39m\u001b[38;5;124mCount\u001b[39m\u001b[38;5;124m'\u001b[39m)\n",
      "\u001b[0;31mNameError\u001b[0m: name 'ax' is not defined"
     ]
    },
    {
     "data": {
      "image/png": "[encoded data removed]",
      "text/plain": [
       "<Figure size 640x480 with 1 Axes>"
      ]
     },
     "metadata": {},
     "output_type": "display_data"
    }
   ],
   "source": [
    "x1 = et_nums.right_gaze_point_on_display_area_0\n",
    "x2 = et_nums.left_gaze_point_on_display_area_0\n",
    "y1 = et_nums.right_gaze_point_on_display_area_1\n",
    "y2 = et_nums.left_gaze_point_on_display_area_1\n",
    "dists = np.sqrt((x2 - x1)**2 + (y2 - y1)**2)\n",
    "\n",
    "plt.hist(dists, bins =75, alpha = 0.5)\n",
    "ax.set_title(f'Distribution of Distances Between \\nLeft and Right Gaze Points for Subject {sub_name}')\n",
    "ax.set_xlabel('Distance between L + R Gaze Points')\n",
    "ax.set_ylabel('Count')\n"
   ]
  },
  {
   "cell_type": "markdown",
   "metadata": {},
   "source": [
    "## Compare R vs L validity across participants"
   ]
  },
  {
   "cell_type": "code",
   "execution_count": 23,
   "metadata": {},
   "outputs": [],
   "source": [
    "def RL_percent(id):\n",
    "    # load data\n",
    "    num = [i for i, string in enumerate(sub_files) if id in string][0]\n",
    "    xdf_path = sub_files[num]     \n",
    "    data, header = pyxdf.load_xdf(xdf_path)\n",
    "    streams_collected = [stream['info']['name'][0] for stream in data]\n",
    "\n",
    "    # extract eye tracking data\n",
    "    ET = data[streams_collected.index('Tobii')]\n",
    "    et_dat = ET['time_series']\n",
    "    column_labels = [ET['info']['desc'][0]['channels'][0]['channel'][i]['label'][0] for i in range(len(ET['info']['desc'][0]['channels'][0]['channel']))]\n",
    "    et_df = pd.DataFrame(data=et_dat, columns=column_labels)\n",
    "\n",
    "    # get percent valid items from validity columns\n",
    "    val_cols = et_df.filter(like = 'validity').columns\n",
    "    val_df = pd.DataFrame(columns = ['variable', 'percent_valid'])\n",
    "    val_df['variable'] = val_cols\n",
    "    for i, var in enumerate(val_cols):\n",
    "        val_df.loc[i, 'percent_valid'] = round(np.mean(et_df[var]), 4)\n",
    "\n",
    "    # compare mean left and right validity\n",
    "    left_df = val_df[val_df.variable.str.startswith('left')]\n",
    "    right_df = val_df[val_df.variable.str.startswith('right')]   \n",
    "    lmean = round(np.mean(left_df['percent_valid']), 4)\n",
    "    rmean = round(np.mean(right_df['percent_valid']), 4)\n",
    "\n",
    "    # format in a df for vibes \n",
    "    RL_val = pd.DataFrame(columns = ['eye', 'mean'])\n",
    "    RL_val = RL_val.reindex([0,1]) # adds NaN rows w index 0 + 1\n",
    "    RL_val.loc[[0, 1]] = [['left', lmean], ['right', rmean]]\n",
    "\n",
    "    diff = rmean - lmean\n",
    "\n",
    "    print('mean validity for left eye is {:.2%}.\\n\\\n",
    "mean validity for right eye is {:.2%}.\\n\\\n",
    "the difference is {:.2%}.'.format(lmean, rmean, abs(diff)))\n",
    "    \n",
    "    if diff > 0:\n",
    "        print(\"right eye has higher validity than left.\")\n",
    "    else:\n",
    "        print(\"left eye has higher validity than right.\")\n",
    "\n",
    "    return RL_val\n"
   ]
  },
  {
   "cell_type": "code",
   "execution_count": 24,
   "metadata": {},
   "outputs": [
    {
     "ename": "KeyboardInterrupt",
     "evalue": "",
     "output_type": "error",
     "traceback": [
      "\u001b[0;31m---------------------------------------------------------------------------\u001b[0m",
      "\u001b[0;31mKeyboardInterrupt\u001b[0m                         Traceback (most recent call last)",
      "Cell \u001b[0;32mIn[24], line 1\u001b[0m\n\u001b[0;32m----> 1\u001b[0m \u001b[43mRL_percent\u001b[49m\u001b[43m(\u001b[49m\u001b[38;5;124;43m\"\u001b[39;49m\u001b[38;5;124;43mP5318014\u001b[39;49m\u001b[38;5;124;43m\"\u001b[39;49m\u001b[43m)\u001b[49m\n",
      "Cell \u001b[0;32mIn[23], line 5\u001b[0m, in \u001b[0;36mRL_percent\u001b[0;34m(id)\u001b[0m\n\u001b[1;32m      3\u001b[0m num \u001b[38;5;241m=\u001b[39m [i \u001b[38;5;28;01mfor\u001b[39;00m i, string \u001b[38;5;129;01min\u001b[39;00m \u001b[38;5;28menumerate\u001b[39m(sub_files) \u001b[38;5;28;01mif\u001b[39;00m \u001b[38;5;28mid\u001b[39m \u001b[38;5;129;01min\u001b[39;00m string][\u001b[38;5;241m0\u001b[39m]\n\u001b[1;32m      4\u001b[0m xdf_path \u001b[38;5;241m=\u001b[39m sub_files[num]     \n\u001b[0;32m----> 5\u001b[0m data, header \u001b[38;5;241m=\u001b[39m \u001b[43mpyxdf\u001b[49m\u001b[38;5;241;43m.\u001b[39;49m\u001b[43mload_xdf\u001b[49m\u001b[43m(\u001b[49m\u001b[43mxdf_path\u001b[49m\u001b[43m)\u001b[49m\n\u001b[1;32m      6\u001b[0m streams_collected \u001b[38;5;241m=\u001b[39m [stream[\u001b[38;5;124m'\u001b[39m\u001b[38;5;124minfo\u001b[39m\u001b[38;5;124m'\u001b[39m][\u001b[38;5;124m'\u001b[39m\u001b[38;5;124mname\u001b[39m\u001b[38;5;124m'\u001b[39m][\u001b[38;5;241m0\u001b[39m] \u001b[38;5;28;01mfor\u001b[39;00m stream \u001b[38;5;129;01min\u001b[39;00m data]\n\u001b[1;32m      8\u001b[0m \u001b[38;5;66;03m# extract eye tracking data\u001b[39;00m\n",
      "File \u001b[0;32m~/anaconda3/envs/cuny_env/lib/python3.12/site-packages/pyxdf/pyxdf.py:306\u001b[0m, in \u001b[0;36mload_xdf\u001b[0;34m(filename, select_streams, on_chunk, synchronize_clocks, handle_clock_resets, dejitter_timestamps, jitter_break_threshold_seconds, jitter_break_threshold_samples, clock_reset_threshold_seconds, clock_reset_threshold_stds, clock_reset_threshold_offset_seconds, clock_reset_threshold_offset_stds, winsor_threshold, verbose)\u001b[0m\n\u001b[1;32m    302\u001b[0m \u001b[38;5;28;01melif\u001b[39;00m tag \u001b[38;5;241m==\u001b[39m \u001b[38;5;241m3\u001b[39m:\n\u001b[1;32m    303\u001b[0m     \u001b[38;5;66;03m# read [Samples] chunk...\u001b[39;00m\n\u001b[1;32m    304\u001b[0m     \u001b[38;5;66;03m# noinspection PyBroadException\u001b[39;00m\n\u001b[1;32m    305\u001b[0m     \u001b[38;5;28;01mtry\u001b[39;00m:\n\u001b[0;32m--> 306\u001b[0m         nsamples, stamps, values \u001b[38;5;241m=\u001b[39m \u001b[43m_read_chunk3\u001b[49m\u001b[43m(\u001b[49m\u001b[43mf\u001b[49m\u001b[43m,\u001b[49m\u001b[43m \u001b[49m\u001b[43mtemp\u001b[49m\u001b[43m[\u001b[49m\u001b[43mStreamId\u001b[49m\u001b[43m]\u001b[49m\u001b[43m)\u001b[49m\n\u001b[1;32m    307\u001b[0m         logger\u001b[38;5;241m.\u001b[39mdebug(\u001b[38;5;124m\"\u001b[39m\u001b[38;5;124m  reading [\u001b[39m\u001b[38;5;132;01m%s\u001b[39;00m\u001b[38;5;124m,\u001b[39m\u001b[38;5;132;01m%s\u001b[39;00m\u001b[38;5;124m]\u001b[39m\u001b[38;5;124m\"\u001b[39m \u001b[38;5;241m%\u001b[39m (temp[StreamId]\u001b[38;5;241m.\u001b[39mnchns, nsamples))\n\u001b[1;32m    308\u001b[0m         \u001b[38;5;66;03m# optionally send through the on_chunk function\u001b[39;00m\n",
      "File \u001b[0;32m~/anaconda3/envs/cuny_env/lib/python3.12/site-packages/pyxdf/pyxdf.py:471\u001b[0m, in \u001b[0;36m_read_chunk3\u001b[0;34m(f, s)\u001b[0m\n\u001b[1;32m    468\u001b[0m         f\u001b[38;5;241m.\u001b[39mreadinto(raw)\n\u001b[1;32m    469\u001b[0m         \u001b[38;5;66;03m# no fromfile(), see\u001b[39;00m\n\u001b[1;32m    470\u001b[0m         \u001b[38;5;66;03m# https://github.com/numpy/numpy/issues/13319\u001b[39;00m\n\u001b[0;32m--> 471\u001b[0m         values[k, :] \u001b[38;5;241m=\u001b[39m \u001b[43mnp\u001b[49m\u001b[38;5;241;43m.\u001b[39;49m\u001b[43mfrombuffer\u001b[49m\u001b[43m(\u001b[49m\n\u001b[1;32m    472\u001b[0m \u001b[43m            \u001b[49m\u001b[43mraw\u001b[49m\u001b[43m,\u001b[49m\u001b[43m \u001b[49m\u001b[43mdtype\u001b[49m\u001b[38;5;241;43m=\u001b[39;49m\u001b[43ms\u001b[49m\u001b[38;5;241;43m.\u001b[39;49m\u001b[43mdtype\u001b[49m\u001b[38;5;241;43m.\u001b[39;49m\u001b[43mnewbyteorder\u001b[49m\u001b[43m(\u001b[49m\u001b[38;5;124;43m\"\u001b[39;49m\u001b[38;5;124;43m<\u001b[39;49m\u001b[38;5;124;43m\"\u001b[39;49m\u001b[43m)\u001b[49m\u001b[43m,\u001b[49m\u001b[43m \u001b[49m\u001b[43mcount\u001b[49m\u001b[38;5;241;43m=\u001b[39;49m\u001b[43ms\u001b[49m\u001b[38;5;241;43m.\u001b[39;49m\u001b[43mnchns\u001b[49m\n\u001b[1;32m    473\u001b[0m \u001b[43m        \u001b[49m\u001b[43m)\u001b[49m\n\u001b[1;32m    474\u001b[0m \u001b[38;5;28;01mreturn\u001b[39;00m nsamples, stamps, values\n",
      "\u001b[0;31mKeyboardInterrupt\u001b[0m: "
     ]
    }
   ],
   "source": [
    "RL_percent(\"P5318014\")"
   ]
  },
  {
   "cell_type": "code",
   "execution_count": 21,
   "metadata": {},
   "outputs": [
    {
     "name": "stdout",
     "output_type": "stream",
     "text": [
      "mean validity for left eye is 41.29%.\n",
      "mean validity for right eye is 44.47%.\n",
      "the difference is 3.18%.\n",
      "right eye has higher validity than left.\n"
     ]
    },
    {
     "data": {
      "text/html": [
       "<div>\n",
       "<style scoped>\n",
       "    .dataframe tbody tr th:only-of-type {\n",
       "        vertical-align: middle;\n",
       "    }\n",
       "\n",
       "    .dataframe tbody tr th {\n",
       "        vertical-align: top;\n",
       "    }\n",
       "\n",
       "    .dataframe thead th {\n",
       "        text-align: right;\n",
       "    }\n",
       "</style>\n",
       "<table border=\"1\" class=\"dataframe\">\n",
       "  <thead>\n",
       "    <tr style=\"text-align: right;\">\n",
       "      <th></th>\n",
       "      <th>eye</th>\n",
       "      <th>mean</th>\n",
       "    </tr>\n",
       "  </thead>\n",
       "  <tbody>\n",
       "    <tr>\n",
       "      <th>0</th>\n",
       "      <td>left</td>\n",
       "      <td>0.4129</td>\n",
       "    </tr>\n",
       "    <tr>\n",
       "      <th>1</th>\n",
       "      <td>right</td>\n",
       "      <td>0.4447</td>\n",
       "    </tr>\n",
       "  </tbody>\n",
       "</table>\n",
       "</div>"
      ],
      "text/plain": [
       "     eye    mean\n",
       "0   left  0.4129\n",
       "1  right  0.4447"
      ]
     },
     "execution_count": 21,
     "metadata": {},
     "output_type": "execute_result"
    }
   ],
   "source": [
    "RL_percent(\"5182010\")"
   ]
  },
  {
   "cell_type": "code",
   "execution_count": 22,
   "metadata": {},
   "outputs": [
    {
     "name": "stdout",
     "output_type": "stream",
     "text": [
      "mean validity for left eye is 83.59%.\n",
      "mean validity for right eye is 80.36%.\n",
      "the difference is 3.23%.\n",
      "left eye has higher validity than right.\n"
     ]
    },
    {
     "data": {
      "text/html": [
       "<div>\n",
       "<style scoped>\n",
       "    .dataframe tbody tr th:only-of-type {\n",
       "        vertical-align: middle;\n",
       "    }\n",
       "\n",
       "    .dataframe tbody tr th {\n",
       "        vertical-align: top;\n",
       "    }\n",
       "\n",
       "    .dataframe thead th {\n",
       "        text-align: right;\n",
       "    }\n",
       "</style>\n",
       "<table border=\"1\" class=\"dataframe\">\n",
       "  <thead>\n",
       "    <tr style=\"text-align: right;\">\n",
       "      <th></th>\n",
       "      <th>eye</th>\n",
       "      <th>mean</th>\n",
       "    </tr>\n",
       "  </thead>\n",
       "  <tbody>\n",
       "    <tr>\n",
       "      <th>0</th>\n",
       "      <td>left</td>\n",
       "      <td>0.8359</td>\n",
       "    </tr>\n",
       "    <tr>\n",
       "      <th>1</th>\n",
       "      <td>right</td>\n",
       "      <td>0.8036</td>\n",
       "    </tr>\n",
       "  </tbody>\n",
       "</table>\n",
       "</div>"
      ],
      "text/plain": [
       "     eye    mean\n",
       "0   left  0.8359\n",
       "1  right  0.8036"
      ]
     },
     "execution_count": 22,
     "metadata": {},
     "output_type": "execute_result"
    }
   ],
   "source": [
    "RL_percent(\"P5548165\")"
   ]
  },
  {
   "cell_type": "markdown",
   "metadata": {},
   "source": [
    "## Compare display area min + max across participants"
   ]
  },
  {
   "cell_type": "code",
   "execution_count": 23,
   "metadata": {},
   "outputs": [],
   "source": [
    "def display_minmax(id):\n",
    "    # load data\n",
    "    num = [i for i, string in enumerate(sub_files) if id in string][0]\n",
    "    xdf_path = sub_files[num]     \n",
    "    data, header = pyxdf.load_xdf(xdf_path)\n",
    "    streams_collected = [stream['info']['name'][0] for stream in data]\n",
    "\n",
    "    # extract eye tracking data\n",
    "    ET = data[streams_collected.index('Tobii')]\n",
    "    et_dat = ET['time_series']\n",
    "    column_labels = [ET['info']['desc'][0]['channels'][0]['channel'][i]['label'][0] for i in range(len(ET['info']['desc'][0]['channels'][0]['channel']))]\n",
    "    et_df = pd.DataFrame(data=et_dat, columns=column_labels)\n",
    "\n",
    "    # get \n",
    "    minmax = {}\n",
    "    for eye, e in zip(['left', 'right'], ['l', 'r']):\n",
    "        for disp in ['0', '1']:\n",
    "            minmax[f'min_{e}{disp}'] = round(np.nanmin(et_df['{}_gaze_point_on_display_area_{}'.format(eye, disp)]), 3)\n",
    "            minmax[f'max_{e}{disp}'] = round(np.nanmax(et_df['{}_gaze_point_on_display_area_{}'.format(eye, disp)]), 3)\n",
    "\n",
    "    left_display = pd.DataFrame(columns = ['display area', 'min', 'max'])\n",
    "    right_display = pd.DataFrame(columns = ['display area', 'min', 'max'])\n",
    "\n",
    "    left_display.loc[0] = ['0', minmax['min_l0'], minmax['max_l0']]\n",
    "    left_display.loc[1] = ['1', minmax['min_l1'], minmax['max_l1']]\n",
    "    right_display.loc[0] = ['0', minmax['min_r0'], minmax['max_r0']]\n",
    "    right_display.loc[1] = ['1', minmax['min_r1'], minmax['max_r1']]\n",
    "\n",
    "    print(\"left:\")\n",
    "    display(left_display)\n",
    "    print(\"\\nright:\")\n",
    "    display(right_display)\n",
    "\n",
    "    print(f\"The difference between left and right is: \\n\\\n",
    "      display area 0 min: {minmax['min_l0']-minmax['min_r0']:.3}, max: {minmax['max_l0']-minmax['max_r0']:.3} \\n\\\n",
    "      display area 1 min: {minmax['min_l1']-minmax['min_r1']:.3}, max: {minmax['max_l1']-minmax['max_r1']:.3}\")\n",
    "\n",
    "\n",
    "\n"
   ]
  },
  {
   "cell_type": "code",
   "execution_count": 24,
   "metadata": {},
   "outputs": [
    {
     "name": "stdout",
     "output_type": "stream",
     "text": [
      "left:\n"
     ]
    },
    {
     "data": {
      "text/html": [
       "<div>\n",
       "<style scoped>\n",
       "    .dataframe tbody tr th:only-of-type {\n",
       "        vertical-align: middle;\n",
       "    }\n",
       "\n",
       "    .dataframe tbody tr th {\n",
       "        vertical-align: top;\n",
       "    }\n",
       "\n",
       "    .dataframe thead th {\n",
       "        text-align: right;\n",
       "    }\n",
       "</style>\n",
       "<table border=\"1\" class=\"dataframe\">\n",
       "  <thead>\n",
       "    <tr style=\"text-align: right;\">\n",
       "      <th></th>\n",
       "      <th>display area</th>\n",
       "      <th>min</th>\n",
       "      <th>max</th>\n",
       "    </tr>\n",
       "  </thead>\n",
       "  <tbody>\n",
       "    <tr>\n",
       "      <th>0</th>\n",
       "      <td>0</td>\n",
       "      <td>-1.154</td>\n",
       "      <td>2.133</td>\n",
       "    </tr>\n",
       "    <tr>\n",
       "      <th>1</th>\n",
       "      <td>1</td>\n",
       "      <td>-0.675</td>\n",
       "      <td>1.785</td>\n",
       "    </tr>\n",
       "  </tbody>\n",
       "</table>\n",
       "</div>"
      ],
      "text/plain": [
       "  display area    min    max\n",
       "0            0 -1.154  2.133\n",
       "1            1 -0.675  1.785"
      ]
     },
     "metadata": {},
     "output_type": "display_data"
    },
    {
     "name": "stdout",
     "output_type": "stream",
     "text": [
      "\n",
      "right:\n"
     ]
    },
    {
     "data": {
      "text/html": [
       "<div>\n",
       "<style scoped>\n",
       "    .dataframe tbody tr th:only-of-type {\n",
       "        vertical-align: middle;\n",
       "    }\n",
       "\n",
       "    .dataframe tbody tr th {\n",
       "        vertical-align: top;\n",
       "    }\n",
       "\n",
       "    .dataframe thead th {\n",
       "        text-align: right;\n",
       "    }\n",
       "</style>\n",
       "<table border=\"1\" class=\"dataframe\">\n",
       "  <thead>\n",
       "    <tr style=\"text-align: right;\">\n",
       "      <th></th>\n",
       "      <th>display area</th>\n",
       "      <th>min</th>\n",
       "      <th>max</th>\n",
       "    </tr>\n",
       "  </thead>\n",
       "  <tbody>\n",
       "    <tr>\n",
       "      <th>0</th>\n",
       "      <td>0</td>\n",
       "      <td>-1.615</td>\n",
       "      <td>2.027</td>\n",
       "    </tr>\n",
       "    <tr>\n",
       "      <th>1</th>\n",
       "      <td>1</td>\n",
       "      <td>-0.663</td>\n",
       "      <td>1.760</td>\n",
       "    </tr>\n",
       "  </tbody>\n",
       "</table>\n",
       "</div>"
      ],
      "text/plain": [
       "  display area    min    max\n",
       "0            0 -1.615  2.027\n",
       "1            1 -0.663  1.760"
      ]
     },
     "metadata": {},
     "output_type": "display_data"
    },
    {
     "name": "stdout",
     "output_type": "stream",
     "text": [
      "The difference between left and right is: \n",
      "      display area 0 min: 0.461, max: 0.106 \n",
      "      display area 1 min: -0.012, max: 0.025\n"
     ]
    }
   ],
   "source": [
    "display_minmax(\"P5318014\")"
   ]
  },
  {
   "cell_type": "code",
   "execution_count": 25,
   "metadata": {},
   "outputs": [
    {
     "name": "stdout",
     "output_type": "stream",
     "text": [
      "left:\n"
     ]
    },
    {
     "data": {
      "text/html": [
       "<div>\n",
       "<style scoped>\n",
       "    .dataframe tbody tr th:only-of-type {\n",
       "        vertical-align: middle;\n",
       "    }\n",
       "\n",
       "    .dataframe tbody tr th {\n",
       "        vertical-align: top;\n",
       "    }\n",
       "\n",
       "    .dataframe thead th {\n",
       "        text-align: right;\n",
       "    }\n",
       "</style>\n",
       "<table border=\"1\" class=\"dataframe\">\n",
       "  <thead>\n",
       "    <tr style=\"text-align: right;\">\n",
       "      <th></th>\n",
       "      <th>display area</th>\n",
       "      <th>min</th>\n",
       "      <th>max</th>\n",
       "    </tr>\n",
       "  </thead>\n",
       "  <tbody>\n",
       "    <tr>\n",
       "      <th>0</th>\n",
       "      <td>0</td>\n",
       "      <td>-1.137</td>\n",
       "      <td>2.029</td>\n",
       "    </tr>\n",
       "    <tr>\n",
       "      <th>1</th>\n",
       "      <td>1</td>\n",
       "      <td>-0.786</td>\n",
       "      <td>1.473</td>\n",
       "    </tr>\n",
       "  </tbody>\n",
       "</table>\n",
       "</div>"
      ],
      "text/plain": [
       "  display area    min    max\n",
       "0            0 -1.137  2.029\n",
       "1            1 -0.786  1.473"
      ]
     },
     "metadata": {},
     "output_type": "display_data"
    },
    {
     "name": "stdout",
     "output_type": "stream",
     "text": [
      "\n",
      "right:\n"
     ]
    },
    {
     "data": {
      "text/html": [
       "<div>\n",
       "<style scoped>\n",
       "    .dataframe tbody tr th:only-of-type {\n",
       "        vertical-align: middle;\n",
       "    }\n",
       "\n",
       "    .dataframe tbody tr th {\n",
       "        vertical-align: top;\n",
       "    }\n",
       "\n",
       "    .dataframe thead th {\n",
       "        text-align: right;\n",
       "    }\n",
       "</style>\n",
       "<table border=\"1\" class=\"dataframe\">\n",
       "  <thead>\n",
       "    <tr style=\"text-align: right;\">\n",
       "      <th></th>\n",
       "      <th>display area</th>\n",
       "      <th>min</th>\n",
       "      <th>max</th>\n",
       "    </tr>\n",
       "  </thead>\n",
       "  <tbody>\n",
       "    <tr>\n",
       "      <th>0</th>\n",
       "      <td>0</td>\n",
       "      <td>-1.338</td>\n",
       "      <td>1.621</td>\n",
       "    </tr>\n",
       "    <tr>\n",
       "      <th>1</th>\n",
       "      <td>1</td>\n",
       "      <td>-0.678</td>\n",
       "      <td>1.445</td>\n",
       "    </tr>\n",
       "  </tbody>\n",
       "</table>\n",
       "</div>"
      ],
      "text/plain": [
       "  display area    min    max\n",
       "0            0 -1.338  1.621\n",
       "1            1 -0.678  1.445"
      ]
     },
     "metadata": {},
     "output_type": "display_data"
    },
    {
     "name": "stdout",
     "output_type": "stream",
     "text": [
      "The difference between left and right is: \n",
      "      display area 0 min: 0.201, max: 0.408 \n",
      "      display area 1 min: -0.108, max: 0.028\n"
     ]
    }
   ],
   "source": [
    "display_minmax(\"P5548165\")"
   ]
  },
  {
   "cell_type": "code",
   "execution_count": 26,
   "metadata": {},
   "outputs": [
    {
     "name": "stdout",
     "output_type": "stream",
     "text": [
      "left:\n"
     ]
    },
    {
     "data": {
      "text/html": [
       "<div>\n",
       "<style scoped>\n",
       "    .dataframe tbody tr th:only-of-type {\n",
       "        vertical-align: middle;\n",
       "    }\n",
       "\n",
       "    .dataframe tbody tr th {\n",
       "        vertical-align: top;\n",
       "    }\n",
       "\n",
       "    .dataframe thead th {\n",
       "        text-align: right;\n",
       "    }\n",
       "</style>\n",
       "<table border=\"1\" class=\"dataframe\">\n",
       "  <thead>\n",
       "    <tr style=\"text-align: right;\">\n",
       "      <th></th>\n",
       "      <th>display area</th>\n",
       "      <th>min</th>\n",
       "      <th>max</th>\n",
       "    </tr>\n",
       "  </thead>\n",
       "  <tbody>\n",
       "    <tr>\n",
       "      <th>0</th>\n",
       "      <td>0</td>\n",
       "      <td>-1.575</td>\n",
       "      <td>3.499</td>\n",
       "    </tr>\n",
       "    <tr>\n",
       "      <th>1</th>\n",
       "      <td>1</td>\n",
       "      <td>-0.730</td>\n",
       "      <td>2.154</td>\n",
       "    </tr>\n",
       "  </tbody>\n",
       "</table>\n",
       "</div>"
      ],
      "text/plain": [
       "  display area    min    max\n",
       "0            0 -1.575  3.499\n",
       "1            1 -0.730  2.154"
      ]
     },
     "metadata": {},
     "output_type": "display_data"
    },
    {
     "name": "stdout",
     "output_type": "stream",
     "text": [
      "\n",
      "right:\n"
     ]
    },
    {
     "data": {
      "text/html": [
       "<div>\n",
       "<style scoped>\n",
       "    .dataframe tbody tr th:only-of-type {\n",
       "        vertical-align: middle;\n",
       "    }\n",
       "\n",
       "    .dataframe tbody tr th {\n",
       "        vertical-align: top;\n",
       "    }\n",
       "\n",
       "    .dataframe thead th {\n",
       "        text-align: right;\n",
       "    }\n",
       "</style>\n",
       "<table border=\"1\" class=\"dataframe\">\n",
       "  <thead>\n",
       "    <tr style=\"text-align: right;\">\n",
       "      <th></th>\n",
       "      <th>display area</th>\n",
       "      <th>min</th>\n",
       "      <th>max</th>\n",
       "    </tr>\n",
       "  </thead>\n",
       "  <tbody>\n",
       "    <tr>\n",
       "      <th>0</th>\n",
       "      <td>0</td>\n",
       "      <td>-2.383</td>\n",
       "      <td>2.358</td>\n",
       "    </tr>\n",
       "    <tr>\n",
       "      <th>1</th>\n",
       "      <td>1</td>\n",
       "      <td>-0.885</td>\n",
       "      <td>2.102</td>\n",
       "    </tr>\n",
       "  </tbody>\n",
       "</table>\n",
       "</div>"
      ],
      "text/plain": [
       "  display area    min    max\n",
       "0            0 -2.383  2.358\n",
       "1            1 -0.885  2.102"
      ]
     },
     "metadata": {},
     "output_type": "display_data"
    },
    {
     "name": "stdout",
     "output_type": "stream",
     "text": [
      "The difference between left and right is: \n",
      "      display area 0 min: 0.808, max: 1.14 \n",
      "      display area 1 min: 0.155, max: 0.052\n"
     ]
    }
   ],
   "source": [
    "display_minmax(\"5182010\")"
   ]
  },
  {
   "cell_type": "markdown",
   "metadata": {},
   "source": [
    "## Visualizing NaNs"
   ]
  },
  {
   "cell_type": "code",
   "execution_count": 27,
   "metadata": {},
   "outputs": [
    {
     "data": {
      "text/html": [
       "<div>\n",
       "<style scoped>\n",
       "    .dataframe tbody tr th:only-of-type {\n",
       "        vertical-align: middle;\n",
       "    }\n",
       "\n",
       "    .dataframe tbody tr th {\n",
       "        vertical-align: top;\n",
       "    }\n",
       "\n",
       "    .dataframe thead th {\n",
       "        text-align: right;\n",
       "    }\n",
       "</style>\n",
       "<table border=\"1\" class=\"dataframe\">\n",
       "  <thead>\n",
       "    <tr style=\"text-align: right;\">\n",
       "      <th></th>\n",
       "      <th>left_pupil_validity</th>\n",
       "      <th>right_pupil_validity</th>\n",
       "    </tr>\n",
       "  </thead>\n",
       "  <tbody>\n",
       "    <tr>\n",
       "      <th>0</th>\n",
       "      <td>0.0</td>\n",
       "      <td>0.0</td>\n",
       "    </tr>\n",
       "    <tr>\n",
       "      <th>1</th>\n",
       "      <td>0.0</td>\n",
       "      <td>0.0</td>\n",
       "    </tr>\n",
       "    <tr>\n",
       "      <th>2</th>\n",
       "      <td>0.0</td>\n",
       "      <td>0.0</td>\n",
       "    </tr>\n",
       "    <tr>\n",
       "      <th>3</th>\n",
       "      <td>0.0</td>\n",
       "      <td>0.0</td>\n",
       "    </tr>\n",
       "    <tr>\n",
       "      <th>4</th>\n",
       "      <td>0.0</td>\n",
       "      <td>0.0</td>\n",
       "    </tr>\n",
       "    <tr>\n",
       "      <th>...</th>\n",
       "      <td>...</td>\n",
       "      <td>...</td>\n",
       "    </tr>\n",
       "    <tr>\n",
       "      <th>137765</th>\n",
       "      <td>0.0</td>\n",
       "      <td>0.0</td>\n",
       "    </tr>\n",
       "    <tr>\n",
       "      <th>137766</th>\n",
       "      <td>0.0</td>\n",
       "      <td>0.0</td>\n",
       "    </tr>\n",
       "    <tr>\n",
       "      <th>137767</th>\n",
       "      <td>0.0</td>\n",
       "      <td>0.0</td>\n",
       "    </tr>\n",
       "    <tr>\n",
       "      <th>137768</th>\n",
       "      <td>0.0</td>\n",
       "      <td>0.0</td>\n",
       "    </tr>\n",
       "    <tr>\n",
       "      <th>137769</th>\n",
       "      <td>0.0</td>\n",
       "      <td>0.0</td>\n",
       "    </tr>\n",
       "  </tbody>\n",
       "</table>\n",
       "<p>137770 rows × 2 columns</p>\n",
       "</div>"
      ],
      "text/plain": [
       "        left_pupil_validity  right_pupil_validity\n",
       "0                       0.0                   0.0\n",
       "1                       0.0                   0.0\n",
       "2                       0.0                   0.0\n",
       "3                       0.0                   0.0\n",
       "4                       0.0                   0.0\n",
       "...                     ...                   ...\n",
       "137765                  0.0                   0.0\n",
       "137766                  0.0                   0.0\n",
       "137767                  0.0                   0.0\n",
       "137768                  0.0                   0.0\n",
       "137769                  0.0                   0.0\n",
       "\n",
       "[137770 rows x 2 columns]"
      ]
     },
     "execution_count": 27,
     "metadata": {},
     "output_type": "execute_result"
    }
   ],
   "source": [
    "vis_df = et_df[['left_pupil_validity', 'right_pupil_validity']]\n",
    "vis_df"
   ]
  },
  {
   "cell_type": "code",
   "execution_count": 28,
   "metadata": {},
   "outputs": [],
   "source": [
    "# plt.figure(figsize=(8, 6))\n",
    "\n",
    "# # Iterate through the DataFrame and plot red or green dots\n",
    "# for i, column in enumerate(vis_df):\n",
    "#     for j in range(len(vis_df)):\n",
    "#         if vis_df[column].iloc[j] == 1:\n",
    "#             plt.scatter(i, j, color='green', label='1' if i == 0 and j == 0 else \"\", s=100)\n",
    "#         elif vis_df[column].iloc[j] == 0:\n",
    "#             plt.scatter(i, j, color='red', label='0' if i == 0 and j == 0 else \"\", s=100)\n",
    "\n",
    "# plt.show()\n",
    "\n"
   ]
  }
 ],
 "metadata": {
  "kernelspec": {
   "display_name": "cuny_env",
   "language": "python",
   "name": "python3"
  },
  "language_info": {
   "codemirror_mode": {
    "name": "ipython",
    "version": 3
   },
   "file_extension": ".py",
   "mimetype": "text/x-python",
   "name": "python",
   "nbconvert_exporter": "python",
   "pygments_lexer": "ipython3",
   "version": "3.12.7"
  }
 },
 "nbformat": 4,
 "nbformat_minor": 2
}
