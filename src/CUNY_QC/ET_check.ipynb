{
 "cells": [
  {
   "cell_type": "markdown",
   "metadata": {},
   "source": [
    "# Imports"
   ]
  },
  {
   "cell_type": "code",
   "execution_count": 5,
   "metadata": {},
   "outputs": [],
   "source": [
    "import pyxdf\n",
    "import pandas as pd\n",
    "import numpy as np\n",
    "import sounddevice as sd\n",
    "from glob import glob\n",
    "from tqdm import tqdm\n",
    "import datetime\n",
    "import re\n",
    "import matplotlib.pyplot as plt"
   ]
  },
  {
   "cell_type": "markdown",
   "metadata": {},
   "source": [
    "# Load Data"
   ]
  },
  {
   "cell_type": "code",
   "execution_count": 6,
   "metadata": {},
   "outputs": [
    {
     "data": {
      "text/plain": [
       "['../../../Data/sub-P5318014/sub-P5318014_ses-S001_task-CUNY_run-001_mobi.xdf',\n",
       " '../../../Data/sub-P5942694/sub-P5942694_ses-S001_task-CUNY_run-001_mobi.xdf',\n",
       " '../../../Data/sub-5182010/sub-P5182010_ses-S001_task-CUNY_run-001_mobi.xdf',\n",
       " '../../../Data/sub-P5287460/sub-P5287460_ses-S001_task-CUNY_run-001_mobi.xdf',\n",
       " '../../../Data/sub-P5447527/sub-P5447527_ses-S001_task-CUNY_run-001_mobi.xdf',\n",
       " '../../../Data/sub-5958030/sub-P5958030_ses-S001_task-CUNY_run-001_mobi.xdf',\n",
       " '../../../Data/sub-P5899288/sub-P5899288_ses-S001_task-CUNY_run-001_mobi.xdf',\n",
       " '../../../Data/sub-P5813427/sub-P5813427_ses-S001_task-CUNY_run-001_mobi.xdf',\n",
       " '../../../Data/sub-P5070899/sub-P5070899_ses-S001_task-CUNY_run-001_mobi.xdf',\n",
       " '../../../Data/sub-P5548165/sub-P5548165_ses-S001_task-CUNY_run-001_MOBI.xdf']"
      ]
     },
     "execution_count": 6,
     "metadata": {},
     "output_type": "execute_result"
    }
   ],
   "source": [
    "sub_files = glob('../../../Data/*/*.xdf')\n",
    "sub_files"
   ]
  },
  {
   "cell_type": "code",
   "execution_count": null,
   "metadata": {},
   "outputs": [
    {
     "data": {
      "text/plain": [
       "['Stimuli_Markers', 'Tobii']"
      ]
     },
     "execution_count": 7,
     "metadata": {},
     "output_type": "execute_result"
    }
   ],
   "source": [
    "sub_number = 1\n",
    "xdf_path = sub_files[sub_number]\n",
    "data, header = pyxdf.load_xdf(xdf_path, select_streams=[{'name':'Tobii'}, {'type': 'Markers'}])\n",
    "streams_collected = [stream['info']['name'][0] for stream in data]\n",
    "\n",
    "\n",
    "'''\n",
    "HELPERS\n",
    "'''\n",
    "def get_event_data(event, df, stim_df):\n",
    "    return df.loc[(df.lsl_time_stamp >= stim_df.loc[stim_df.event == 'Onset_'+event, 'lsl_time_stamp'].values[0]) & \n",
    "                  (df.lsl_time_stamp <= stim_df.loc[stim_df.event == 'Offset_'+event, 'lsl_time_stamp'].values[0])]\n",
    "\n",
    "def get_secs_between_triggers(trigger1, trigger2, stim_df):\n",
    "    return stim_df.loc[stim_df.trigger == trigger1, 'time'].values[0] - stim_df.loc[stim_df.trigger == trigger2, 'time'].values[0]\n",
    "\n",
    "                  \n",
    "streams_collected"
   ]
  },
  {
   "cell_type": "markdown",
   "metadata": {},
   "source": [
    "# Stimulus"
   ]
  },
  {
   "cell_type": "code",
   "execution_count": 8,
   "metadata": {},
   "outputs": [
    {
     "data": {
      "application/vnd.microsoft.datawrangler.viewer.v0+json": {
       "columns": [
        {
         "name": "index",
         "rawType": "int64",
         "type": "integer"
        },
        {
         "name": "trigger",
         "rawType": "float32",
         "type": "float"
        },
        {
         "name": "event",
         "rawType": "object",
         "type": "string"
        },
        {
         "name": "lsl_time_stamp",
         "rawType": "float64",
         "type": "float"
        },
        {
         "name": "time",
         "rawType": "float64",
         "type": "float"
        }
       ],
       "conversionMethod": "pd.DataFrame",
       "ref": "fb8b19c4-5085-41a4-b541-eeeb341246cd",
       "rows": [
        [
         "0",
         "200.0",
         "Onset_Experiment",
         "400235.00751050515",
         "0.0"
        ],
        [
         "1",
         "1734384300.0",
         "psychopy_time_stamp",
         "400235.0075249049",
         "1.4399760402739048e-08"
        ],
        [
         "2",
         "10.0",
         "Onset_RestingState",
         "400256.0427754497",
         "0.02103526494454127"
        ],
        [
         "3",
         "1734384300.0",
         "psychopy_time_stamp",
         "400256.04278494953",
         "0.021035274444380775"
        ],
        [
         "4",
         "11.0",
         "Offset_RestingState",
         "400556.0427910938",
         "0.32103528058866504"
        ],
        [
         "5",
         "1734384600.0",
         "psychopy_time_stamp",
         "400556.04280149355",
         "0.321035290988395"
        ],
        [
         "6",
         "500.0",
         "Onset_StoryListening",
         "400556.0428244936",
         "0.3210353139884537"
        ],
        [
         "7",
         "1734384600.0",
         "psychopy_time_stamp",
         "400556.0428254934",
         "0.3210353149882285"
        ],
        [
         "8",
         "100.0",
         "Onset_10second_rest",
         "400583.343052124",
         "0.3483355416188715"
        ],
        [
         "9",
         "1734384600.0",
         "psychopy_time_stamp",
         "400583.343061924",
         "0.3483355514188297"
        ],
        [
         "10",
         "101.0",
         "Offset_10second_rest",
         "400593.342633151",
         "0.3583351226458326"
        ],
        [
         "11",
         "1734384600.0",
         "psychopy_time_stamp",
         "400593.34264145093",
         "0.3583351309457794"
        ],
        [
         "12",
         "40.0",
         "Onset_DanceContest",
         "400593.58552015945",
         "0.35857800965430214"
        ],
        [
         "13",
         "1734384600.0",
         "psychopy_time_stamp",
         "400593.5855294594",
         "0.35857801895425656"
        ],
        [
         "14",
         "41.0",
         "Offset_DanceContest",
         "400720.67733914626",
         "0.48566982864111197"
        ],
        [
         "15",
         "1734384800.0",
         "psychopy_time_stamp",
         "400720.67735014623",
         "0.4856698396410793"
        ],
        [
         "16",
         "300.0",
         "Onset_subjectInput",
         "400736.97725217126",
         "0.5019697416661074"
        ],
        [
         "17",
         "1734384800.0",
         "psychopy_time_stamp",
         "400736.9772624712",
         "0.5019697519660694"
        ],
        [
         "18",
         "301.0",
         "Offset_subjectInput",
         "400752.37767747906",
         "0.5173701669739094"
        ],
        [
         "19",
         "4.0",
         "Bx_input",
         "400752.377687279",
         "0.5173701767738675"
        ],
        [
         "20",
         "1734384800.0",
         "psychopy_time_stamp",
         "400752.377688279",
         "0.5173701777738752"
        ],
        [
         "21",
         "300.0",
         "Onset_subjectInput",
         "400752.3902414122",
         "0.5173827309070621"
        ],
        [
         "22",
         "1734384800.0",
         "psychopy_time_stamp",
         "400752.3902499123",
         "0.5173827394071268"
        ],
        [
         "23",
         "301.0",
         "Offset_subjectInput",
         "400774.477310864",
         "0.539469800358871"
        ],
        [
         "24",
         "7.0",
         "Bx_input",
         "400774.47732026374",
         "0.5394698097585934"
        ],
        [
         "25",
         "1734384800.0",
         "psychopy_time_stamp",
         "400774.47732146375",
         "0.5394698109586025"
        ],
        [
         "26",
         "300.0",
         "Onset_subjectInput",
         "400774.49424167373",
         "0.5394867311685811"
        ],
        [
         "27",
         "1734384800.0",
         "psychopy_time_stamp",
         "400774.4942493739",
         "0.5394867388687562"
        ],
        [
         "28",
         "301.0",
         "Offset_subjectInput",
         "400778.79371751123",
         "0.54378620700608"
        ],
        [
         "29",
         "7.0",
         "Bx_input",
         "400778.7937263113",
         "0.543786215806147"
        ],
        [
         "30",
         "1734384800.0",
         "psychopy_time_stamp",
         "400778.7937290112",
         "0.5437862185060512"
        ],
        [
         "31",
         "300.0",
         "Onset_subjectInput",
         "400778.8325086051",
         "0.543824998099939"
        ],
        [
         "32",
         "1734384800.0",
         "psychopy_time_stamp",
         "400778.83251740504",
         "0.5438250068998896"
        ],
        [
         "33",
         "301.0",
         "Offset_subjectInput",
         "400785.9939719237",
         "0.5509864614185644"
        ],
        [
         "34",
         "4.0",
         "Bx_input",
         "400785.9939813238",
         "0.550986470818636"
        ],
        [
         "35",
         "1734384800.0",
         "psychopy_time_stamp",
         "400785.9939839238",
         "0.5509864734186558"
        ],
        [
         "36",
         "300.0",
         "Onset_subjectInput",
         "400786.0222559733",
         "0.5510147454681573"
        ],
        [
         "37",
         "1734384800.0",
         "psychopy_time_stamp",
         "400786.02226447326",
         "0.5510147539681056"
        ],
        [
         "38",
         "301.0",
         "Offset_subjectInput",
         "400793.86200368544",
         "0.5588544931802899"
        ],
        [
         "39",
         "3.0",
         "Bx_input",
         "400793.8620124853",
         "0.5588545019801241"
        ],
        [
         "40",
         "1734384900.0",
         "psychopy_time_stamp",
         "400793.8620136853",
         "0.5588545031801332"
        ],
        [
         "41",
         "300.0",
         "Onset_subjectInput",
         "400793.8772160044",
         "0.5588697054992663"
        ],
        [
         "42",
         "1734384900.0",
         "psychopy_time_stamp",
         "400793.87722350436",
         "0.558869712999207"
        ],
        [
         "43",
         "301.0",
         "Offset_subjectInput",
         "400800.66251012357",
         "0.5656549996184185"
        ],
        [
         "44",
         "4.0",
         "Bx_input",
         "400800.6625194235",
         "0.565655008918373"
        ],
        [
         "45",
         "1734384900.0",
         "psychopy_time_stamp",
         "400800.66252282355",
         "0.5656550123183988"
        ],
        [
         "46",
         "100.0",
         "Onset_10second_rest",
         "400808.95968840306",
         "0.5739521778979106"
        ],
        [
         "47",
         "1734384900.0",
         "psychopy_time_stamp",
         "400808.95969840314",
         "0.5739521878979867"
        ],
        [
         "48",
         "101.0",
         "Offset_10second_rest",
         "400818.959472329",
         "0.5839519618238556"
        ],
        [
         "49",
         "1734384900.0",
         "psychopy_time_stamp",
         "400818.95948202896",
         "0.583951971523813"
        ]
       ],
       "shape": {
        "columns": 4,
        "rows": 261
       }
      },
      "text/html": [
       "<div>\n",
       "<style scoped>\n",
       "    .dataframe tbody tr th:only-of-type {\n",
       "        vertical-align: middle;\n",
       "    }\n",
       "\n",
       "    .dataframe tbody tr th {\n",
       "        vertical-align: top;\n",
       "    }\n",
       "\n",
       "    .dataframe thead th {\n",
       "        text-align: right;\n",
       "    }\n",
       "</style>\n",
       "<table border=\"1\" class=\"dataframe\">\n",
       "  <thead>\n",
       "    <tr style=\"text-align: right;\">\n",
       "      <th></th>\n",
       "      <th>trigger</th>\n",
       "      <th>event</th>\n",
       "      <th>lsl_time_stamp</th>\n",
       "      <th>time</th>\n",
       "    </tr>\n",
       "  </thead>\n",
       "  <tbody>\n",
       "    <tr>\n",
       "      <th>0</th>\n",
       "      <td>2.000000e+02</td>\n",
       "      <td>Onset_Experiment</td>\n",
       "      <td>400235.007511</td>\n",
       "      <td>0.000000e+00</td>\n",
       "    </tr>\n",
       "    <tr>\n",
       "      <th>1</th>\n",
       "      <td>1.734384e+09</td>\n",
       "      <td>psychopy_time_stamp</td>\n",
       "      <td>400235.007525</td>\n",
       "      <td>1.439976e-08</td>\n",
       "    </tr>\n",
       "    <tr>\n",
       "      <th>2</th>\n",
       "      <td>1.000000e+01</td>\n",
       "      <td>Onset_RestingState</td>\n",
       "      <td>400256.042775</td>\n",
       "      <td>2.103526e-02</td>\n",
       "    </tr>\n",
       "    <tr>\n",
       "      <th>3</th>\n",
       "      <td>1.734384e+09</td>\n",
       "      <td>psychopy_time_stamp</td>\n",
       "      <td>400256.042785</td>\n",
       "      <td>2.103527e-02</td>\n",
       "    </tr>\n",
       "    <tr>\n",
       "      <th>4</th>\n",
       "      <td>1.100000e+01</td>\n",
       "      <td>Offset_RestingState</td>\n",
       "      <td>400556.042791</td>\n",
       "      <td>3.210353e-01</td>\n",
       "    </tr>\n",
       "    <tr>\n",
       "      <th>...</th>\n",
       "      <td>...</td>\n",
       "      <td>...</td>\n",
       "      <td>...</td>\n",
       "      <td>...</td>\n",
       "    </tr>\n",
       "    <tr>\n",
       "      <th>256</th>\n",
       "      <td>1.734387e+09</td>\n",
       "      <td>psychopy_time_stamp</td>\n",
       "      <td>402853.174749</td>\n",
       "      <td>2.618167e+00</td>\n",
       "    </tr>\n",
       "    <tr>\n",
       "      <th>257</th>\n",
       "      <td>2.010000e+02</td>\n",
       "      <td>Offset_Experiment</td>\n",
       "      <td>402858.180502</td>\n",
       "      <td>2.623173e+00</td>\n",
       "    </tr>\n",
       "    <tr>\n",
       "      <th>258</th>\n",
       "      <td>1.734387e+09</td>\n",
       "      <td>psychopy_time_stamp</td>\n",
       "      <td>402858.180511</td>\n",
       "      <td>2.623173e+00</td>\n",
       "    </tr>\n",
       "    <tr>\n",
       "      <th>259</th>\n",
       "      <td>4.000000e+00</td>\n",
       "      <td>Bx_input</td>\n",
       "      <td>402858.180585</td>\n",
       "      <td>2.623173e+00</td>\n",
       "    </tr>\n",
       "    <tr>\n",
       "      <th>260</th>\n",
       "      <td>1.734387e+09</td>\n",
       "      <td>psychopy_time_stamp</td>\n",
       "      <td>402858.180588</td>\n",
       "      <td>2.623173e+00</td>\n",
       "    </tr>\n",
       "  </tbody>\n",
       "</table>\n",
       "<p>261 rows × 4 columns</p>\n",
       "</div>"
      ],
      "text/plain": [
       "          trigger                event  lsl_time_stamp          time\n",
       "0    2.000000e+02     Onset_Experiment   400235.007511  0.000000e+00\n",
       "1    1.734384e+09  psychopy_time_stamp   400235.007525  1.439976e-08\n",
       "2    1.000000e+01   Onset_RestingState   400256.042775  2.103526e-02\n",
       "3    1.734384e+09  psychopy_time_stamp   400256.042785  2.103527e-02\n",
       "4    1.100000e+01  Offset_RestingState   400556.042791  3.210353e-01\n",
       "..            ...                  ...             ...           ...\n",
       "256  1.734387e+09  psychopy_time_stamp   402853.174749  2.618167e+00\n",
       "257  2.010000e+02    Offset_Experiment   402858.180502  2.623173e+00\n",
       "258  1.734387e+09  psychopy_time_stamp   402858.180511  2.623173e+00\n",
       "259  4.000000e+00             Bx_input   402858.180585  2.623173e+00\n",
       "260  1.734387e+09  psychopy_time_stamp   402858.180588  2.623173e+00\n",
       "\n",
       "[261 rows x 4 columns]"
      ]
     },
     "execution_count": 8,
     "metadata": {},
     "output_type": "execute_result"
    }
   ],
   "source": [
    "stim_dat = data[streams_collected.index('Stimuli_Markers')]\n",
    "stim_df = pd.DataFrame(stim_dat['time_series'])\n",
    "stim_df.rename(columns={0: 'trigger'}, inplace=True)\n",
    "events = {\n",
    "    200: 'Onset_Experiment',\n",
    "    10: 'Onset_RestingState',\n",
    "    11: 'Offset_RestingState',\n",
    "    500: 'Onset_StoryListening',\n",
    "    501: 'Offset_StoryListening',\n",
    "    100: 'Onset_10second_rest',\n",
    "    101: 'Offset_10second_rest', \n",
    "    20: 'Onset_CampFriend',\n",
    "    21: 'Offset_CampFriend',\n",
    "    30: 'Onset_FrogDissection',\n",
    "    31: 'Offset_FrogDissection',\n",
    "    40: 'Onset_DanceContest',\n",
    "    41: 'Offset_DanceContest',\n",
    "    50: 'Onset_ZoomClass',\n",
    "    51: 'Offset_ZoomClass',\n",
    "    60: 'Onset_Tornado',\n",
    "    61: 'Offset_Tornado',\n",
    "    70: 'Onset_BirthdayParty',\n",
    "    71: 'Offset_BirthdayParty',\n",
    "    300: 'Onset_subjectInput',\n",
    "    301: 'Offset_subjectInput',\n",
    "    302: 'Onset_FavoriteStory',\n",
    "    303: 'Offset_FavoriteStory',\n",
    "    304: 'Onset_WorstStory',\n",
    "    305: 'Offset_WorstStory',\n",
    "    400: 'Onset_impedanceCheck',\n",
    "    401: 'Offset_impedanceCheck',\n",
    "    80: 'Onset_SocialTask',\n",
    "    81: 'Offset_SocialTask',\n",
    "    201: 'Offset_Experiment',\n",
    "}\n",
    "\n",
    "story_onsets = [20, 30, 40, 50, 60, 70]\n",
    "\n",
    "# relabel the event if the trigger is in the events dictionary, else if \n",
    "stim_df['event'] = stim_df['trigger'].apply(lambda x: events[x] if x in events.keys() else 'Bx_input')\n",
    "\n",
    "# relabel the event as a psychopy timestamp if the trigger is greater than 5 digits\n",
    "stim_df.loc[stim_df.trigger.astype(str).str.len() > 5, 'event'] = 'psychopy_time_stamp'\n",
    "stim_df['lsl_time_stamp'] = stim_dat['time_stamps']\n",
    "stim_df['time'] = (stim_dat['time_stamps'] - stim_dat['time_stamps'][0])/1000\n",
    "stim_df"
   ]
  },
  {
   "cell_type": "markdown",
   "metadata": {},
   "source": [
    "# Eye Tracking Data"
   ]
  },
  {
   "cell_type": "code",
   "execution_count": 9,
   "metadata": {},
   "outputs": [
    {
     "data": {
      "application/vnd.microsoft.datawrangler.viewer.v0+json": {
       "columns": [
        {
         "name": "index",
         "rawType": "int64",
         "type": "integer"
        },
        {
         "name": "device_time_stamp",
         "rawType": "float32",
         "type": "float"
        },
        {
         "name": "left_gaze_origin_validity",
         "rawType": "float32",
         "type": "float"
        },
        {
         "name": "right_gaze_origin_validity",
         "rawType": "float32",
         "type": "float"
        },
        {
         "name": "left_gaze_origin_in_user_coordinate_system_0",
         "rawType": "float32",
         "type": "float"
        },
        {
         "name": "left_gaze_origin_in_user_coordinate_system_1",
         "rawType": "float32",
         "type": "float"
        },
        {
         "name": "left_gaze_origin_in_user_coordinate_system_2",
         "rawType": "float32",
         "type": "float"
        },
        {
         "name": "right_gaze_origin_in_user_coordinate_system_0",
         "rawType": "float32",
         "type": "float"
        },
        {
         "name": "right_gaze_origin_in_user_coordinate_system_1",
         "rawType": "float32",
         "type": "float"
        },
        {
         "name": "right_gaze_origin_in_user_coordinate_system_2",
         "rawType": "float32",
         "type": "float"
        },
        {
         "name": "left_gaze_origin_in_trackbox_coordinate_system_0",
         "rawType": "float32",
         "type": "float"
        },
        {
         "name": "left_gaze_origin_in_trackbox_coordinate_system_1",
         "rawType": "float32",
         "type": "float"
        },
        {
         "name": "left_gaze_origin_in_trackbox_coordinate_system_2",
         "rawType": "float32",
         "type": "float"
        },
        {
         "name": "right_gaze_origin_in_trackbox_coordinate_system_0",
         "rawType": "float32",
         "type": "float"
        },
        {
         "name": "right_gaze_origin_in_trackbox_coordinate_system_1",
         "rawType": "float32",
         "type": "float"
        },
        {
         "name": "right_gaze_origin_in_trackbox_coordinate_system_2",
         "rawType": "float32",
         "type": "float"
        },
        {
         "name": "left_gaze_point_validity",
         "rawType": "float32",
         "type": "float"
        },
        {
         "name": "right_gaze_point_validity",
         "rawType": "float32",
         "type": "float"
        },
        {
         "name": "left_gaze_point_in_user_coordinate_system_0",
         "rawType": "float32",
         "type": "float"
        },
        {
         "name": "left_gaze_point_in_user_coordinate_system_1",
         "rawType": "float32",
         "type": "float"
        },
        {
         "name": "left_gaze_point_in_user_coordinate_system_2",
         "rawType": "float32",
         "type": "float"
        },
        {
         "name": "right_gaze_point_in_user_coordinate_system_0",
         "rawType": "float32",
         "type": "float"
        },
        {
         "name": "right_gaze_point_in_user_coordinate_system_1",
         "rawType": "float32",
         "type": "float"
        },
        {
         "name": "right_gaze_point_in_user_coordinate_system_2",
         "rawType": "float32",
         "type": "float"
        },
        {
         "name": "left_gaze_point_on_display_area_0",
         "rawType": "float32",
         "type": "float"
        },
        {
         "name": "left_gaze_point_on_display_area_1",
         "rawType": "float32",
         "type": "float"
        },
        {
         "name": "right_gaze_point_on_display_area_0",
         "rawType": "float32",
         "type": "float"
        },
        {
         "name": "right_gaze_point_on_display_area_1",
         "rawType": "float32",
         "type": "float"
        },
        {
         "name": "left_pupil_validity",
         "rawType": "float32",
         "type": "float"
        },
        {
         "name": "right_pupil_validity",
         "rawType": "float32",
         "type": "float"
        },
        {
         "name": "left_pupil_diameter",
         "rawType": "float32",
         "type": "float"
        },
        {
         "name": "right_pupil_diameter",
         "rawType": "float32",
         "type": "float"
        },
        {
         "name": "lsl_time_stamp",
         "rawType": "float64",
         "type": "float"
        },
        {
         "name": "time",
         "rawType": "float64",
         "type": "float"
        }
       ],
       "conversionMethod": "pd.DataFrame",
       "ref": "53f72e78-43db-40d5-8f6b-921e94bbcf87",
       "rows": [
        [
         "0",
         "1389010900000.0",
         "0.0",
         "0.0",
         null,
         null,
         null,
         null,
         null,
         null,
         null,
         null,
         null,
         null,
         null,
         null,
         "0.0",
         "0.0",
         null,
         null,
         null,
         null,
         null,
         null,
         null,
         null,
         null,
         null,
         "0.0",
         "0.0",
         null,
         null,
         "400235.3161093175",
         "0.0"
        ],
        [
         "1",
         "1389010900000.0",
         "0.0",
         "0.0",
         null,
         null,
         null,
         null,
         null,
         null,
         null,
         null,
         null,
         null,
         null,
         null,
         "0.0",
         "0.0",
         null,
         null,
         null,
         null,
         null,
         null,
         null,
         null,
         null,
         null,
         "0.0",
         "0.0",
         null,
         null,
         "400235.3244429349",
         "8.333617413882166e-06"
        ],
        [
         "2",
         "1389010900000.0",
         "0.0",
         "0.0",
         null,
         null,
         null,
         null,
         null,
         null,
         null,
         null,
         null,
         null,
         null,
         null,
         "0.0",
         "0.0",
         null,
         null,
         null,
         null,
         null,
         null,
         null,
         null,
         null,
         null,
         "0.0",
         "0.0",
         null,
         null,
         "400235.3327765523",
         "1.6667234827764332e-05"
        ],
        [
         "3",
         "1389010900000.0",
         "0.0",
         "0.0",
         null,
         null,
         null,
         null,
         null,
         null,
         null,
         null,
         null,
         null,
         null,
         null,
         "0.0",
         "0.0",
         null,
         null,
         null,
         null,
         null,
         null,
         null,
         null,
         null,
         null,
         "0.0",
         "0.0",
         null,
         null,
         "400235.3411101697",
         "2.5000852241646498e-05"
        ],
        [
         "4",
         "1389010900000.0",
         "0.0",
         "0.0",
         null,
         null,
         null,
         null,
         null,
         null,
         null,
         null,
         null,
         null,
         null,
         null,
         "0.0",
         "0.0",
         null,
         null,
         null,
         null,
         null,
         null,
         null,
         null,
         null,
         null,
         "0.0",
         "0.0",
         null,
         null,
         "400235.3494437871",
         "3.3334469655528663e-05"
        ],
        [
         "5",
         "1389010900000.0",
         "0.0",
         "0.0",
         null,
         null,
         null,
         null,
         null,
         null,
         null,
         null,
         null,
         null,
         null,
         null,
         "0.0",
         "0.0",
         null,
         null,
         null,
         null,
         null,
         null,
         null,
         null,
         null,
         null,
         "0.0",
         "0.0",
         null,
         null,
         "400235.3577774045",
         "4.166808701120317e-05"
        ],
        [
         "6",
         "1389010900000.0",
         "0.0",
         "0.0",
         null,
         null,
         null,
         null,
         null,
         null,
         null,
         null,
         null,
         null,
         null,
         null,
         "0.0",
         "0.0",
         null,
         null,
         null,
         null,
         null,
         null,
         null,
         null,
         null,
         null,
         "0.0",
         "0.0",
         null,
         null,
         "400235.3661110219",
         "5.000170442508534e-05"
        ],
        [
         "7",
         "1389010900000.0",
         "0.0",
         "0.0",
         null,
         null,
         null,
         null,
         null,
         null,
         null,
         null,
         null,
         null,
         null,
         null,
         "0.0",
         "0.0",
         null,
         null,
         null,
         null,
         null,
         null,
         null,
         null,
         null,
         null,
         "0.0",
         "0.0",
         null,
         null,
         "400235.3744446393",
         "5.83353218389675e-05"
        ],
        [
         "8",
         "1389010900000.0",
         "0.0",
         "0.0",
         null,
         null,
         null,
         null,
         null,
         null,
         null,
         null,
         null,
         null,
         null,
         null,
         "0.0",
         "0.0",
         null,
         null,
         null,
         null,
         null,
         null,
         null,
         null,
         null,
         null,
         "0.0",
         "0.0",
         null,
         null,
         "400235.3827782567",
         "6.666893925284967e-05"
        ],
        [
         "9",
         "1389011000000.0",
         "0.0",
         "0.0",
         null,
         null,
         null,
         null,
         null,
         null,
         null,
         null,
         null,
         null,
         null,
         null,
         "0.0",
         "0.0",
         null,
         null,
         null,
         null,
         null,
         null,
         null,
         null,
         null,
         null,
         "0.0",
         "0.0",
         null,
         null,
         "400235.39111187414",
         "7.500255666673183e-05"
        ],
        [
         "10",
         "1389011000000.0",
         "0.0",
         "0.0",
         null,
         null,
         null,
         null,
         null,
         null,
         null,
         null,
         null,
         null,
         null,
         null,
         "0.0",
         "0.0",
         null,
         null,
         null,
         null,
         null,
         null,
         null,
         null,
         null,
         null,
         "0.0",
         "0.0",
         null,
         null,
         "400235.39944549155",
         "8.3336174080614e-05"
        ],
        [
         "11",
         "1389011000000.0",
         "0.0",
         "0.0",
         null,
         null,
         null,
         null,
         null,
         null,
         null,
         null,
         null,
         null,
         null,
         null,
         "0.0",
         "0.0",
         null,
         null,
         null,
         null,
         null,
         null,
         null,
         null,
         null,
         null,
         "0.0",
         "0.0",
         null,
         null,
         "400235.40777910897",
         "9.166979149449617e-05"
        ],
        [
         "12",
         "1389011000000.0",
         "0.0",
         "0.0",
         null,
         null,
         null,
         null,
         null,
         null,
         null,
         null,
         null,
         null,
         null,
         null,
         "0.0",
         "0.0",
         null,
         null,
         null,
         null,
         null,
         null,
         null,
         null,
         null,
         null,
         "0.0",
         "0.0",
         null,
         null,
         "400235.4161127264",
         "0.00010000340890837833"
        ],
        [
         "13",
         "1389011000000.0",
         "1.0",
         "0.0",
         "-69.99176",
         "-59.091263",
         "657.74866",
         null,
         null,
         null,
         "0.6409526",
         "0.6258719",
         "0.4785087",
         null,
         null,
         null,
         "1.0",
         "0.0",
         "-39.159737",
         "-9.223154",
         "-13.998693",
         null,
         null,
         null,
         "0.42558137",
         "1.0647488",
         null,
         null,
         "1.0",
         "0.0",
         "2.486679",
         null,
         "400235.4244463438",
         "0.0001083370263222605"
        ],
        [
         "14",
         "1389011000000.0",
         "0.0",
         "0.0",
         null,
         null,
         null,
         null,
         null,
         null,
         null,
         null,
         null,
         null,
         null,
         null,
         "0.0",
         "0.0",
         null,
         null,
         null,
         null,
         null,
         null,
         null,
         null,
         null,
         null,
         "0.0",
         "0.0",
         null,
         null,
         "400235.43277996115",
         "0.000116670643677935"
        ],
        [
         "15",
         "1389011000000.0",
         "0.0",
         "0.0",
         null,
         null,
         null,
         null,
         null,
         null,
         null,
         null,
         null,
         null,
         null,
         null,
         "0.0",
         "0.0",
         null,
         null,
         null,
         null,
         null,
         null,
         null,
         null,
         null,
         null,
         "0.0",
         "0.0",
         null,
         null,
         "400235.44111357856",
         "0.00012500426109181718"
        ],
        [
         "16",
         "1389011000000.0",
         "0.0",
         "0.0",
         null,
         null,
         null,
         null,
         null,
         null,
         null,
         null,
         null,
         null,
         null,
         null,
         "0.0",
         "0.0",
         null,
         null,
         null,
         null,
         null,
         null,
         null,
         null,
         null,
         null,
         "0.0",
         "0.0",
         null,
         null,
         "400235.449447196",
         "0.00013333787850569934"
        ],
        [
         "17",
         "1389011000000.0",
         "0.0",
         "1.0",
         null,
         null,
         null,
         "-10.204567",
         "-62.663795",
         "655.4353",
         null,
         null,
         null,
         "0.5187919",
         "0.6331276",
         "0.46628392",
         "0.0",
         "1.0",
         null,
         null,
         null,
         "-54.898354",
         "74.37087",
         "16.427",
         null,
         null,
         "0.39452067",
         "0.7526356",
         "0.0",
         "1.0",
         null,
         "3.677475",
         "400235.4577808134",
         "0.0001416714959195815"
        ],
        [
         "18",
         "1389011000000.0",
         "1.0",
         "1.0",
         "-70.66182",
         "-59.28277",
         "657.5307",
         "-10.32108",
         "-62.6743",
         "655.6209",
         "0.64236504",
         "0.62630343",
         "0.47822198",
         "0.5190248",
         "0.6331202",
         "0.4666919",
         "1.0",
         "1.0",
         "-49.93238",
         "110.40304",
         "29.541653",
         "-43.873394",
         "90.36551",
         "22.24857",
         "0.4043212",
         "0.61810315",
         "0.41627884",
         "0.69291687",
         "1.0",
         "1.0",
         "3.8617096",
         "3.787094",
         "400235.4661144308",
         "0.00015000511333346366"
        ],
        [
         "19",
         "1389011000000.0",
         "1.0",
         "1.0",
         "-70.81259",
         "-59.29637",
         "657.6443",
         "-10.448896",
         "-62.643776",
         "655.4628",
         "0.6426529",
         "0.62631536",
         "0.47850356",
         "0.51929337",
         "0.6330839",
         "0.4663484",
         "1.0",
         "1.0",
         "-45.535534",
         "117.60098",
         "32.161522",
         "-55.240868",
         "87.228775",
         "21.106857",
         "0.41299853",
         "0.59122837",
         "0.3938447",
         "0.70462847",
         "1.0",
         "1.0",
         "3.881546",
         "3.750473",
         "400235.4744480482",
         "0.00015833873074734583"
        ],
        [
         "20",
         "1389011000000.0",
         "1.0",
         "1.0",
         "-70.942505",
         "-59.289513",
         "657.6035",
         "-10.578128",
         "-62.62796",
         "655.54095",
         "0.6429269",
         "0.62630844",
         "0.47844437",
         "0.51955616",
         "0.63303965",
         "0.46651945",
         "1.0",
         "1.0",
         "-46.735",
         "122.62521",
         "33.990166",
         "-40.23501",
         "97.460304",
         "24.83082",
         "0.41063136",
         "0.57246953",
         "0.42345932",
         "0.66642725",
         "1.0",
         "1.0",
         "3.933838",
         "3.8435516",
         "400235.48278166563",
         "0.000166672348161228"
        ],
        [
         "21",
         "1389011000000.0",
         "1.0",
         "1.0",
         "-71.06306",
         "-59.294518",
         "657.56525",
         "-10.696997",
         "-62.621773",
         "655.5602",
         "0.6431812",
         "0.6263253",
         "0.4783905",
         "0.5197999",
         "0.63302475",
         "0.46656415",
         "1.0",
         "1.0",
         "-53.62556",
         "120.212326",
         "33.111935",
         "-54.052944",
         "91.35079",
         "22.607183",
         "0.39703256",
         "0.5814785",
         "0.3961891",
         "0.68923813",
         "1.0",
         "1.0",
         "3.8994598",
         "3.8507233",
         "400235.49111528305",
         "0.00017500596557511018"
        ],
        [
         "22",
         "1389011000000.0",
         "1.0",
         "1.0",
         "-71.21704",
         "-59.323837",
         "657.7525",
         "-10.822319",
         "-62.610733",
         "655.44885",
         "0.6434616",
         "0.6263585",
         "0.47883433",
         "0.5200617",
         "0.63302094",
         "0.46632543",
         "1.0",
         "1.0",
         "-43.981606",
         "128.07162",
         "35.972504",
         "-39.83003",
         "111.39359",
         "29.9022",
         "0.41606525",
         "0.5521344",
         "0.42425856",
         "0.6144048",
         "1.0",
         "1.0",
         "3.9779358",
         "3.888733",
         "400235.49944890046",
         "0.00018333958298899234"
        ],
        [
         "23",
         "1389011000000.0",
         "1.0",
         "1.0",
         "-71.33517",
         "-59.360306",
         "657.75073",
         "-10.938384",
         "-62.63543",
         "655.6703",
         "0.6437038",
         "0.6264347",
         "0.47886366",
         "0.52029175",
         "0.633037",
         "0.4668137",
         "1.0",
         "1.0",
         "-47.932705",
         "131.86174",
         "37.35202",
         "-43.597115",
         "105.52928",
         "27.767714",
         "0.40826765",
         "0.5379833",
         "0.41682407",
         "0.63630027",
         "1.0",
         "1.0",
         "4.0059357",
         "3.8363647",
         "400235.5077825178",
         "0.00019167320034466683"
        ],
        [
         "24",
         "1389011100000.0",
         "1.0",
         "1.0",
         "-71.45016",
         "-59.406776",
         "657.71265",
         "-11.048392",
         "-62.623856",
         "655.53613",
         "0.64394635",
         "0.6265368",
         "0.4788155",
         "0.520523",
         "0.63303566",
         "0.466525",
         "1.0",
         "1.0",
         "-42.087616",
         "136.27841",
         "38.959488",
         "-40.23434",
         "105.60319",
         "27.794632",
         "0.4198031",
         "0.52149296",
         "0.42346063",
         "0.6360243",
         "1.0",
         "1.0",
         "3.9848328",
         "3.8553314",
         "400235.51611613523",
         "0.000200006817758549"
        ],
        [
         "25",
         "1389011100000.0",
         "1.0",
         "1.0",
         "-71.567795",
         "-59.43881",
         "657.78516",
         "-11.151029",
         "-62.624905",
         "655.6738",
         "0.64417356",
         "0.6265925",
         "0.47900417",
         "0.52072865",
         "0.63301635",
         "0.46682727",
         "1.0",
         "1.0",
         "-44.663826",
         "122.38898",
         "33.904182",
         "-48.13793",
         "106.21631",
         "28.017784",
         "0.41471887",
         "0.57335156",
         "0.40786257",
         "0.63373506",
         "1.0",
         "1.0",
         "3.9119873",
         "3.8887634",
         "400235.52444975264",
         "0.00020834043517243116"
        ],
        [
         "26",
         "1389011100000.0",
         "1.0",
         "0.0",
         "-71.67337",
         "-59.456215",
         "657.7381",
         null,
         null,
         null,
         "0.64439875",
         "0.62663627",
         "0.47893",
         null,
         null,
         null,
         "1.0",
         "0.0",
         "-44.658924",
         "124.93235",
         "34.829853",
         null,
         null,
         null,
         "0.41472855",
         "0.5638555",
         null,
         null,
         "1.0",
         "0.0",
         "3.9006195",
         null,
         "400235.53278337006",
         "0.00021667405258631335"
        ],
        [
         "27",
         "1389011100000.0",
         "1.0",
         "1.0",
         "-71.768326",
         "-59.467274",
         "657.7652",
         "-11.3488865",
         "-62.56371",
         "655.6309",
         "0.6445882",
         "0.6266556",
         "0.47901225",
         "0.52113724",
         "0.63289887",
         "0.46673107",
         "1.0",
         "1.0",
         "-46.058727",
         "129.10684",
         "36.349255",
         "-44.866985",
         "105.08152",
         "27.604801",
         "0.41196597",
         "0.5482693",
         "0.41431794",
         "0.63797194",
         "1.0",
         "1.0",
         "3.9298096",
         "3.8516388",
         "400235.5411169875",
         "0.0002250076700001955"
        ],
        [
         "28",
         "1389011100000.0",
         "1.0",
         "1.0",
         "-71.86847",
         "-59.48588",
         "657.7799",
         "-11.443512",
         "-62.54162",
         "655.7465",
         "0.6447906",
         "0.62669235",
         "0.47907025",
         "0.5213272",
         "0.63283557",
         "0.46698144",
         "1.0",
         "1.0",
         "-42.29819",
         "127.91873",
         "35.916862",
         "-43.484787",
         "103.02369",
         "26.855762",
         "0.41938752",
         "0.55270517",
         "0.41704574",
         "0.6456553",
         "1.0",
         "1.0",
         "3.875534",
         "3.8649292",
         "400235.5494506049",
         "0.00023334128741407767"
        ],
        [
         "29",
         "1389011100000.0",
         "1.0",
         "1.0",
         "-71.95575",
         "-59.50331",
         "657.785",
         "-11.527808",
         "-62.524246",
         "655.6838",
         "0.64496845",
         "0.62672806",
         "0.47910434",
         "0.521503",
         "0.63281053",
         "0.46684557",
         "1.0",
         "1.0",
         "-43.534454",
         "125.40312",
         "35.00123",
         "-44.81257",
         "98.44605",
         "25.18972",
         "0.41694772",
         "0.5620977",
         "0.4144253",
         "0.66274667",
         "1.0",
         "1.0",
         "3.8924255",
         "3.8358307",
         "400235.5577842223",
         "0.00024167490482795984"
        ],
        [
         "30",
         "1389011100000.0",
         "1.0",
         "1.0",
         "-72.04425",
         "-59.52249",
         "657.8031",
         "-11.615099",
         "-62.529446",
         "655.85895",
         "0.6451462",
         "0.62676543",
         "0.4791671",
         "0.52167535",
         "0.6327937",
         "0.46722943",
         "1.0",
         "1.0",
         "-42.483597",
         "120.65638",
         "33.273567",
         "-47.217842",
         "102.87331",
         "26.801039",
         "0.41902167",
         "0.5798206",
         "0.40967843",
         "0.64621675",
         "1.0",
         "1.0",
         "3.8215332",
         "3.9065552",
         "400235.5661178397",
         "0.000250008522241842"
        ],
        [
         "31",
         "1389011100000.0",
         "1.0",
         "1.0",
         "-72.1662",
         "-59.497177",
         "657.93463",
         "-11.754917",
         "-62.454964",
         "655.7599",
         "0.64537144",
         "0.6266944",
         "0.47947508",
         "0.52196693",
         "0.6326575",
         "0.46700746",
         "1.0",
         "1.0",
         "-48.04546",
         "130.06839",
         "36.699253",
         "-46.60284",
         "114.644035",
         "31.085188",
         "0.40804508",
         "0.5446791",
         "0.41089216",
         "0.60226876",
         "1.0",
         "1.0",
         "3.8547058",
         "3.8114014",
         "400235.5744514571",
         "0.00025834213965572416"
        ],
        [
         "32",
         "1389011100000.0",
         "1.0",
         "1.0",
         "-72.33443",
         "-59.374474",
         "658.21655",
         "-11.971059",
         "-62.310726",
         "655.6908",
         "0.6456635",
         "0.62640095",
         "0.48010266",
         "0.5224146",
         "0.6323734",
         "0.46684158",
         "1.0",
         "1.0",
         "-68.387856",
         "159.84337",
         "47.53646",
         "-66.82146",
         "155.9812",
         "46.130707",
         "0.3678986",
         "0.43350896",
         "0.37098998",
         "0.4479291",
         "1.0",
         "1.0",
         "3.9234924",
         "3.8849182",
         "400235.5827850745",
         "0.0002666757570113987"
        ],
        [
         "33",
         "1389011100000.0",
         "1.0",
         "1.0",
         "-72.49655",
         "-59.336655",
         "658.2791",
         "-12.186357",
         "-62.219856",
         "655.83777",
         "0.64598405",
         "0.62631506",
         "0.48026958",
         "0.5228513",
         "0.6321646",
         "0.46715328",
         "1.0",
         "1.0",
         "-84.48276",
         "182.13057",
         "55.648354",
         "-80.52753",
         "147.31116",
         "42.975067",
         "0.33613476",
         "0.35029578",
         "0.3439406",
         "0.48030025",
         "1.0",
         "1.0",
         "3.9176788",
         "3.9032135",
         "400235.5911186919",
         "0.0002750093744252808"
        ],
        [
         "34",
         "1389011100000.0",
         "1.0",
         "1.0",
         "-72.64092",
         "-59.303116",
         "658.4053",
         "-12.327336",
         "-62.14054",
         "655.9983",
         "0.64625597",
         "0.6262282",
         "0.48057026",
         "0.52313447",
         "0.63197684",
         "0.46749347",
         "1.0",
         "1.0",
         "-85.4999",
         "178.21213",
         "54.222137",
         "-86.12066",
         "146.57617",
         "42.707603",
         "0.33412746",
         "0.36492598",
         "0.3329023",
         "0.48304436",
         "1.0",
         "1.0",
         "3.8560638",
         "3.8290558",
         "400235.5994523093",
         "0.000283342991839163"
        ],
        [
         "35",
         "1389011100000.0",
         "1.0",
         "1.0",
         "-72.740074",
         "-59.307182",
         "658.5059",
         "-12.383169",
         "-62.08529",
         "655.87744",
         "0.64643985",
         "0.6262221",
         "0.4808111",
         "0.5232546",
         "0.63188285",
         "0.4672245",
         "1.0",
         "1.0",
         "-83.12279",
         "168.82141",
         "50.804184",
         "-78.9228",
         "143.20436",
         "41.480335",
         "0.3388187",
         "0.3999879",
         "0.34710756",
         "0.49563366",
         "1.0",
         "1.0",
         "3.851654",
         "3.843399",
         "400235.6077859267",
         "0.0002916766092530452"
        ],
        [
         "36",
         "1389011100000.0",
         "1.0",
         "1.0",
         "-72.78449",
         "-59.333336",
         "658.37335",
         "-12.426552",
         "-62.101982",
         "655.9229",
         "0.64655596",
         "0.6262961",
         "0.48054",
         "0.52334166",
         "0.6319103",
         "0.46732762",
         "1.0",
         "1.0",
         "-82.86741",
         "167.75632",
         "50.416515",
         "-82.071846",
         "144.01105",
         "41.773937",
         "0.33932272",
         "0.4039646",
         "0.3408928",
         "0.49262175",
         "1.0",
         "1.0",
         "3.77182",
         "3.8404083",
         "400235.61611954414",
         "0.00030001022666692733"
        ],
        [
         "37",
         "1389011100000.0",
         "1.0",
         "1.0",
         "-72.84614",
         "-59.35958",
         "658.4468",
         "-12.480767",
         "-62.148743",
         "656.0989",
         "0.646668",
         "0.62633944",
         "0.48071688",
         "0.5234452",
         "0.63197887",
         "0.46771905",
         "1.0",
         "1.0",
         "-88.0644",
         "168.96436",
         "50.856216",
         "-83.73885",
         "149.12267",
         "43.634438",
         "0.32906625",
         "0.39945412",
         "0.3376029",
         "0.47353664",
         "1.0",
         "1.0",
         "3.774765",
         "3.8140411",
         "400235.62445316155",
         "0.0003083438440808095"
        ],
        [
         "38",
         "1389011100000.0",
         "1.0",
         "1.0",
         "-72.90113",
         "-59.36463",
         "658.43317",
         "-12.528081",
         "-62.149094",
         "656.09705",
         "0.6467833",
         "0.6263523",
         "0.48070136",
         "0.5235424",
         "0.63198024",
         "0.4677169",
         "1.0",
         "1.0",
         "-85.86367",
         "160.3331",
         "47.714703",
         "-85.30388",
         "144.46767",
         "41.94013",
         "0.33340952",
         "0.4316805",
         "0.33451432",
         "0.49091694",
         "1.0",
         "1.0",
         "3.8171692",
         "3.8329315",
         "400235.63278677897",
         "0.00031667746149469165"
        ],
        [
         "39",
         "1389011100000.0",
         "1.0",
         "1.0",
         "-72.94597",
         "-59.36694",
         "658.4602",
         "-12.570372",
         "-62.12333",
         "656.08307",
         "0.6468699",
         "0.6263533",
         "0.48077062",
         "0.52363",
         "0.6319298",
         "0.467684",
         "1.0",
         "1.0",
         "-84.06109",
         "161.84415",
         "48.264713",
         "-83.854935",
         "145.76297",
         "42.411667",
         "0.33696696",
         "0.42603865",
         "0.3373738",
         "0.48608056",
         "1.0",
         "1.0",
         "3.806778",
         "3.8623352",
         "400235.6411203964",
         "0.00032501107890857384"
        ],
        [
         "40",
         "1389011300000.0",
         "1.0",
         "1.0",
         "-72.98587",
         "-59.36497",
         "658.4765",
         "-12.599913",
         "-62.077526",
         "656.0946",
         "0.6469485",
         "0.6263471",
         "0.48081478",
         "0.52369034",
         "0.63183403",
         "0.4677026",
         "1.0",
         "1.0",
         "-79.0902",
         "164.4559",
         "49.21529",
         "-85.22484",
         "142.88063",
         "41.362514",
         "0.34677717",
         "0.41628718",
         "0.33467028",
         "0.49684244",
         "1.0",
         "1.0",
         "3.7583466",
         "3.8414154",
         "400235.6494540138",
         "0.000333344696322456"
        ],
        [
         "41",
         "1389011300000.0",
         "1.0",
         "1.0",
         "-73.02533",
         "-59.34115",
         "658.55286",
         "-12.632639",
         "-62.028732",
         "656.15356",
         "0.6470149",
         "0.6262869",
         "0.4809849",
         "0.5237552",
         "0.6317245",
         "0.46782345",
         "1.0",
         "1.0",
         "-84.50165",
         "165.88593",
         "49.735836",
         "-84.39824",
         "146.18413",
         "42.56492",
         "0.33609748",
         "0.41094795",
         "0.3363016",
         "0.48450813",
         "1.0",
         "1.0",
         "3.7946014",
         "3.8333588",
         "400235.65778763115",
         "0.0003416783136781305"
        ],
        [
         "42",
         "1389011300000.0",
         "1.0",
         "1.0",
         "-73.069",
         "-59.290833",
         "658.75116",
         "-12.660656",
         "-61.964523",
         "656.2937",
         "0.64706665",
         "0.6261541",
         "0.4814148",
         "0.5238069",
         "0.6315704",
         "0.46811748",
         "1.0",
         "1.0",
         "-82.75163",
         "167.81792",
         "50.438927",
         "-83.98715",
         "150.63156",
         "44.183674",
         "0.3395512",
         "0.4037346",
         "0.3371129",
         "0.46790284",
         "1.0",
         "1.0",
         "3.795288",
         "3.8140106",
         "400235.66612124856",
         "0.0003500119310920127"
        ],
        [
         "43",
         "1389011300000.0",
         "1.0",
         "1.0",
         "-73.09128",
         "-59.216118",
         "658.771",
         "-12.687987",
         "-61.883797",
         "656.38904",
         "0.64710903",
         "0.62599796",
         "0.481451",
         "0.52385926",
         "0.6313895",
         "0.46831173",
         "1.0",
         "1.0",
         "-82.64845",
         "162.22014",
         "48.40145",
         "-86.50596",
         "147.57953",
         "43.072815",
         "0.33975485",
         "0.424635",
         "0.33214194",
         "0.47929817",
         "1.0",
         "1.0",
         "3.7982483",
         "3.8158875",
         "400235.674454866",
         "0.0003583455485058948"
        ],
        [
         "44",
         "1389011300000.0",
         "1.0",
         "1.0",
         "-73.109695",
         "-59.17136",
         "658.74304",
         "-12.704431",
         "-61.826088",
         "656.38837",
         "0.64715236",
         "0.62591046",
         "0.481388",
         "0.5238934",
         "0.6312712",
         "0.46830127",
         "1.0",
         "1.0",
         "-80.86793",
         "162.25061",
         "48.412613",
         "-89.20875",
         "142.27191",
         "41.140945",
         "0.3432688",
         "0.42452115",
         "0.3268079",
         "0.49911514",
         "1.0",
         "1.0",
         "3.759903",
         "3.8536072",
         "400235.6827884834",
         "0.000366679165919777"
        ],
        [
         "45",
         "1389011300000.0",
         "1.0",
         "1.0",
         "-73.12151",
         "-59.14024",
         "658.65454",
         "-12.718683",
         "-61.747818",
         "656.4707",
         "0.64719373",
         "0.6258599",
         "0.4811952",
         "0.52391946",
         "0.6310973",
         "0.46846712",
         "1.0",
         "1.0",
         "-81.14606",
         "164.84097",
         "49.355488",
         "-86.63589",
         "149.48225",
         "43.765266",
         "0.34271988",
         "0.4148494",
         "0.33188552",
         "0.47219408",
         "1.0",
         "1.0",
         "3.7787323",
         "3.800003",
         "400235.6911221008",
         "0.00037501278333365915"
        ],
        [
         "46",
         "1389011300000.0",
         "1.0",
         "1.0",
         "-73.13915",
         "-59.079517",
         "658.6492",
         "-12.739357",
         "-61.664013",
         "656.53064",
         "0.6472314",
         "0.6257362",
         "0.48117822",
         "0.5239597",
         "0.63091576",
         "0.46858388",
         "1.0",
         "1.0",
         "-86.55833",
         "167.70602",
         "50.39825",
         "-87.64276",
         "148.21336",
         "43.303444",
         "0.33203858",
         "0.40415236",
         "0.32989842",
         "0.47693172",
         "1.0",
         "1.0",
         "3.730072",
         "3.8349304",
         "400235.6994557182",
         "0.00038334640074754134"
        ],
        [
         "47",
         "1389011300000.0",
         "1.0",
         "1.0",
         "-73.172554",
         "-59.009773",
         "658.8141",
         "-12.752516",
         "-61.621307",
         "656.48193",
         "0.6472686",
         "0.62556857",
         "0.48153064",
         "0.523989",
         "0.6308358",
         "0.46847177",
         "1.0",
         "1.0",
         "-83.9089",
         "163.39522",
         "48.82922",
         "-87.60848",
         "147.0713",
         "42.88782",
         "0.3372673",
         "0.42024755",
         "0.32996607",
         "0.48119578",
         "1.0",
         "1.0",
         "3.7451935",
         "3.8279877",
         "400235.70778933563",
         "0.00039168001816142353"
        ],
        [
         "48",
         "1389011300000.0",
         "1.0",
         "1.0",
         "-73.19084",
         "-58.9668",
         "658.83496",
         "-12.774516",
         "-61.552727",
         "656.54004",
         "0.64730227",
         "0.62547743",
         "0.48157322",
         "0.52403194",
         "0.63068587",
         "0.4685872",
         "1.0",
         "1.0",
         "-81.13389",
         "161.2284",
         "48.04056",
         "-84.82941",
         "145.74258",
         "42.404194",
         "0.3427439",
         "0.42833775",
         "0.33545068",
         "0.48615676",
         "1.0",
         "1.0",
         "3.7443237",
         "3.8322601",
         "400235.71612295305",
         "0.00040001363557530566"
        ],
        [
         "49",
         "1389011300000.0",
         "1.0",
         "1.0",
         "-73.20889",
         "-58.950535",
         "658.81885",
         "-12.790764",
         "-61.49089",
         "656.5872",
         "0.6473425",
         "0.62544656",
         "0.48154017",
         "0.5240636",
         "0.63055146",
         "0.46867982",
         "1.0",
         "1.0",
         "-80.41385",
         "163.73174",
         "48.951694",
         "-85.722015",
         "145.43869",
         "42.29353",
         "0.3441649",
         "0.4189911",
         "0.33368906",
         "0.48729149",
         "1.0",
         "1.0",
         "3.7548676",
         "3.8143616",
         "400235.72445657046",
         "0.00040834725298918785"
        ]
       ],
       "shape": {
        "columns": 33,
        "rows": 322446
       }
      },
      "text/html": [
       "<div>\n",
       "<style scoped>\n",
       "    .dataframe tbody tr th:only-of-type {\n",
       "        vertical-align: middle;\n",
       "    }\n",
       "\n",
       "    .dataframe tbody tr th {\n",
       "        vertical-align: top;\n",
       "    }\n",
       "\n",
       "    .dataframe thead th {\n",
       "        text-align: right;\n",
       "    }\n",
       "</style>\n",
       "<table border=\"1\" class=\"dataframe\">\n",
       "  <thead>\n",
       "    <tr style=\"text-align: right;\">\n",
       "      <th></th>\n",
       "      <th>device_time_stamp</th>\n",
       "      <th>left_gaze_origin_validity</th>\n",
       "      <th>right_gaze_origin_validity</th>\n",
       "      <th>left_gaze_origin_in_user_coordinate_system_0</th>\n",
       "      <th>left_gaze_origin_in_user_coordinate_system_1</th>\n",
       "      <th>left_gaze_origin_in_user_coordinate_system_2</th>\n",
       "      <th>right_gaze_origin_in_user_coordinate_system_0</th>\n",
       "      <th>right_gaze_origin_in_user_coordinate_system_1</th>\n",
       "      <th>right_gaze_origin_in_user_coordinate_system_2</th>\n",
       "      <th>left_gaze_origin_in_trackbox_coordinate_system_0</th>\n",
       "      <th>...</th>\n",
       "      <th>left_gaze_point_on_display_area_0</th>\n",
       "      <th>left_gaze_point_on_display_area_1</th>\n",
       "      <th>right_gaze_point_on_display_area_0</th>\n",
       "      <th>right_gaze_point_on_display_area_1</th>\n",
       "      <th>left_pupil_validity</th>\n",
       "      <th>right_pupil_validity</th>\n",
       "      <th>left_pupil_diameter</th>\n",
       "      <th>right_pupil_diameter</th>\n",
       "      <th>lsl_time_stamp</th>\n",
       "      <th>time</th>\n",
       "    </tr>\n",
       "  </thead>\n",
       "  <tbody>\n",
       "    <tr>\n",
       "      <th>0</th>\n",
       "      <td>1.389011e+12</td>\n",
       "      <td>0.0</td>\n",
       "      <td>0.0</td>\n",
       "      <td>NaN</td>\n",
       "      <td>NaN</td>\n",
       "      <td>NaN</td>\n",
       "      <td>NaN</td>\n",
       "      <td>NaN</td>\n",
       "      <td>NaN</td>\n",
       "      <td>NaN</td>\n",
       "      <td>...</td>\n",
       "      <td>NaN</td>\n",
       "      <td>NaN</td>\n",
       "      <td>NaN</td>\n",
       "      <td>NaN</td>\n",
       "      <td>0.0</td>\n",
       "      <td>0.0</td>\n",
       "      <td>NaN</td>\n",
       "      <td>NaN</td>\n",
       "      <td>400235.316109</td>\n",
       "      <td>0.000000</td>\n",
       "    </tr>\n",
       "    <tr>\n",
       "      <th>1</th>\n",
       "      <td>1.389011e+12</td>\n",
       "      <td>0.0</td>\n",
       "      <td>0.0</td>\n",
       "      <td>NaN</td>\n",
       "      <td>NaN</td>\n",
       "      <td>NaN</td>\n",
       "      <td>NaN</td>\n",
       "      <td>NaN</td>\n",
       "      <td>NaN</td>\n",
       "      <td>NaN</td>\n",
       "      <td>...</td>\n",
       "      <td>NaN</td>\n",
       "      <td>NaN</td>\n",
       "      <td>NaN</td>\n",
       "      <td>NaN</td>\n",
       "      <td>0.0</td>\n",
       "      <td>0.0</td>\n",
       "      <td>NaN</td>\n",
       "      <td>NaN</td>\n",
       "      <td>400235.324443</td>\n",
       "      <td>0.000008</td>\n",
       "    </tr>\n",
       "    <tr>\n",
       "      <th>2</th>\n",
       "      <td>1.389011e+12</td>\n",
       "      <td>0.0</td>\n",
       "      <td>0.0</td>\n",
       "      <td>NaN</td>\n",
       "      <td>NaN</td>\n",
       "      <td>NaN</td>\n",
       "      <td>NaN</td>\n",
       "      <td>NaN</td>\n",
       "      <td>NaN</td>\n",
       "      <td>NaN</td>\n",
       "      <td>...</td>\n",
       "      <td>NaN</td>\n",
       "      <td>NaN</td>\n",
       "      <td>NaN</td>\n",
       "      <td>NaN</td>\n",
       "      <td>0.0</td>\n",
       "      <td>0.0</td>\n",
       "      <td>NaN</td>\n",
       "      <td>NaN</td>\n",
       "      <td>400235.332777</td>\n",
       "      <td>0.000017</td>\n",
       "    </tr>\n",
       "    <tr>\n",
       "      <th>3</th>\n",
       "      <td>1.389011e+12</td>\n",
       "      <td>0.0</td>\n",
       "      <td>0.0</td>\n",
       "      <td>NaN</td>\n",
       "      <td>NaN</td>\n",
       "      <td>NaN</td>\n",
       "      <td>NaN</td>\n",
       "      <td>NaN</td>\n",
       "      <td>NaN</td>\n",
       "      <td>NaN</td>\n",
       "      <td>...</td>\n",
       "      <td>NaN</td>\n",
       "      <td>NaN</td>\n",
       "      <td>NaN</td>\n",
       "      <td>NaN</td>\n",
       "      <td>0.0</td>\n",
       "      <td>0.0</td>\n",
       "      <td>NaN</td>\n",
       "      <td>NaN</td>\n",
       "      <td>400235.341110</td>\n",
       "      <td>0.000025</td>\n",
       "    </tr>\n",
       "    <tr>\n",
       "      <th>4</th>\n",
       "      <td>1.389011e+12</td>\n",
       "      <td>0.0</td>\n",
       "      <td>0.0</td>\n",
       "      <td>NaN</td>\n",
       "      <td>NaN</td>\n",
       "      <td>NaN</td>\n",
       "      <td>NaN</td>\n",
       "      <td>NaN</td>\n",
       "      <td>NaN</td>\n",
       "      <td>NaN</td>\n",
       "      <td>...</td>\n",
       "      <td>NaN</td>\n",
       "      <td>NaN</td>\n",
       "      <td>NaN</td>\n",
       "      <td>NaN</td>\n",
       "      <td>0.0</td>\n",
       "      <td>0.0</td>\n",
       "      <td>NaN</td>\n",
       "      <td>NaN</td>\n",
       "      <td>400235.349444</td>\n",
       "      <td>0.000033</td>\n",
       "    </tr>\n",
       "    <tr>\n",
       "      <th>...</th>\n",
       "      <td>...</td>\n",
       "      <td>...</td>\n",
       "      <td>...</td>\n",
       "      <td>...</td>\n",
       "      <td>...</td>\n",
       "      <td>...</td>\n",
       "      <td>...</td>\n",
       "      <td>...</td>\n",
       "      <td>...</td>\n",
       "      <td>...</td>\n",
       "      <td>...</td>\n",
       "      <td>...</td>\n",
       "      <td>...</td>\n",
       "      <td>...</td>\n",
       "      <td>...</td>\n",
       "      <td>...</td>\n",
       "      <td>...</td>\n",
       "      <td>...</td>\n",
       "      <td>...</td>\n",
       "      <td>...</td>\n",
       "      <td>...</td>\n",
       "    </tr>\n",
       "    <tr>\n",
       "      <th>322441</th>\n",
       "      <td>1.391698e+12</td>\n",
       "      <td>0.0</td>\n",
       "      <td>0.0</td>\n",
       "      <td>NaN</td>\n",
       "      <td>NaN</td>\n",
       "      <td>NaN</td>\n",
       "      <td>NaN</td>\n",
       "      <td>NaN</td>\n",
       "      <td>NaN</td>\n",
       "      <td>NaN</td>\n",
       "      <td>...</td>\n",
       "      <td>NaN</td>\n",
       "      <td>NaN</td>\n",
       "      <td>NaN</td>\n",
       "      <td>NaN</td>\n",
       "      <td>0.0</td>\n",
       "      <td>0.0</td>\n",
       "      <td>NaN</td>\n",
       "      <td>NaN</td>\n",
       "      <td>402922.416040</td>\n",
       "      <td>2.687100</td>\n",
       "    </tr>\n",
       "    <tr>\n",
       "      <th>322442</th>\n",
       "      <td>1.391698e+12</td>\n",
       "      <td>0.0</td>\n",
       "      <td>0.0</td>\n",
       "      <td>NaN</td>\n",
       "      <td>NaN</td>\n",
       "      <td>NaN</td>\n",
       "      <td>NaN</td>\n",
       "      <td>NaN</td>\n",
       "      <td>NaN</td>\n",
       "      <td>NaN</td>\n",
       "      <td>...</td>\n",
       "      <td>NaN</td>\n",
       "      <td>NaN</td>\n",
       "      <td>NaN</td>\n",
       "      <td>NaN</td>\n",
       "      <td>0.0</td>\n",
       "      <td>0.0</td>\n",
       "      <td>NaN</td>\n",
       "      <td>NaN</td>\n",
       "      <td>402922.424373</td>\n",
       "      <td>2.687108</td>\n",
       "    </tr>\n",
       "    <tr>\n",
       "      <th>322443</th>\n",
       "      <td>1.391698e+12</td>\n",
       "      <td>0.0</td>\n",
       "      <td>0.0</td>\n",
       "      <td>NaN</td>\n",
       "      <td>NaN</td>\n",
       "      <td>NaN</td>\n",
       "      <td>NaN</td>\n",
       "      <td>NaN</td>\n",
       "      <td>NaN</td>\n",
       "      <td>NaN</td>\n",
       "      <td>...</td>\n",
       "      <td>NaN</td>\n",
       "      <td>NaN</td>\n",
       "      <td>NaN</td>\n",
       "      <td>NaN</td>\n",
       "      <td>0.0</td>\n",
       "      <td>0.0</td>\n",
       "      <td>NaN</td>\n",
       "      <td>NaN</td>\n",
       "      <td>402922.432707</td>\n",
       "      <td>2.687117</td>\n",
       "    </tr>\n",
       "    <tr>\n",
       "      <th>322444</th>\n",
       "      <td>1.391698e+12</td>\n",
       "      <td>0.0</td>\n",
       "      <td>0.0</td>\n",
       "      <td>NaN</td>\n",
       "      <td>NaN</td>\n",
       "      <td>NaN</td>\n",
       "      <td>NaN</td>\n",
       "      <td>NaN</td>\n",
       "      <td>NaN</td>\n",
       "      <td>NaN</td>\n",
       "      <td>...</td>\n",
       "      <td>NaN</td>\n",
       "      <td>NaN</td>\n",
       "      <td>NaN</td>\n",
       "      <td>NaN</td>\n",
       "      <td>0.0</td>\n",
       "      <td>0.0</td>\n",
       "      <td>NaN</td>\n",
       "      <td>NaN</td>\n",
       "      <td>402922.441041</td>\n",
       "      <td>2.687125</td>\n",
       "    </tr>\n",
       "    <tr>\n",
       "      <th>322445</th>\n",
       "      <td>1.391698e+12</td>\n",
       "      <td>0.0</td>\n",
       "      <td>0.0</td>\n",
       "      <td>NaN</td>\n",
       "      <td>NaN</td>\n",
       "      <td>NaN</td>\n",
       "      <td>NaN</td>\n",
       "      <td>NaN</td>\n",
       "      <td>NaN</td>\n",
       "      <td>NaN</td>\n",
       "      <td>...</td>\n",
       "      <td>NaN</td>\n",
       "      <td>NaN</td>\n",
       "      <td>NaN</td>\n",
       "      <td>NaN</td>\n",
       "      <td>0.0</td>\n",
       "      <td>0.0</td>\n",
       "      <td>NaN</td>\n",
       "      <td>NaN</td>\n",
       "      <td>402922.449374</td>\n",
       "      <td>2.687133</td>\n",
       "    </tr>\n",
       "  </tbody>\n",
       "</table>\n",
       "<p>322446 rows × 33 columns</p>\n",
       "</div>"
      ],
      "text/plain": [
       "        device_time_stamp  left_gaze_origin_validity  \\\n",
       "0            1.389011e+12                        0.0   \n",
       "1            1.389011e+12                        0.0   \n",
       "2            1.389011e+12                        0.0   \n",
       "3            1.389011e+12                        0.0   \n",
       "4            1.389011e+12                        0.0   \n",
       "...                   ...                        ...   \n",
       "322441       1.391698e+12                        0.0   \n",
       "322442       1.391698e+12                        0.0   \n",
       "322443       1.391698e+12                        0.0   \n",
       "322444       1.391698e+12                        0.0   \n",
       "322445       1.391698e+12                        0.0   \n",
       "\n",
       "        right_gaze_origin_validity  \\\n",
       "0                              0.0   \n",
       "1                              0.0   \n",
       "2                              0.0   \n",
       "3                              0.0   \n",
       "4                              0.0   \n",
       "...                            ...   \n",
       "322441                         0.0   \n",
       "322442                         0.0   \n",
       "322443                         0.0   \n",
       "322444                         0.0   \n",
       "322445                         0.0   \n",
       "\n",
       "        left_gaze_origin_in_user_coordinate_system_0  \\\n",
       "0                                                NaN   \n",
       "1                                                NaN   \n",
       "2                                                NaN   \n",
       "3                                                NaN   \n",
       "4                                                NaN   \n",
       "...                                              ...   \n",
       "322441                                           NaN   \n",
       "322442                                           NaN   \n",
       "322443                                           NaN   \n",
       "322444                                           NaN   \n",
       "322445                                           NaN   \n",
       "\n",
       "        left_gaze_origin_in_user_coordinate_system_1  \\\n",
       "0                                                NaN   \n",
       "1                                                NaN   \n",
       "2                                                NaN   \n",
       "3                                                NaN   \n",
       "4                                                NaN   \n",
       "...                                              ...   \n",
       "322441                                           NaN   \n",
       "322442                                           NaN   \n",
       "322443                                           NaN   \n",
       "322444                                           NaN   \n",
       "322445                                           NaN   \n",
       "\n",
       "        left_gaze_origin_in_user_coordinate_system_2  \\\n",
       "0                                                NaN   \n",
       "1                                                NaN   \n",
       "2                                                NaN   \n",
       "3                                                NaN   \n",
       "4                                                NaN   \n",
       "...                                              ...   \n",
       "322441                                           NaN   \n",
       "322442                                           NaN   \n",
       "322443                                           NaN   \n",
       "322444                                           NaN   \n",
       "322445                                           NaN   \n",
       "\n",
       "        right_gaze_origin_in_user_coordinate_system_0  \\\n",
       "0                                                 NaN   \n",
       "1                                                 NaN   \n",
       "2                                                 NaN   \n",
       "3                                                 NaN   \n",
       "4                                                 NaN   \n",
       "...                                               ...   \n",
       "322441                                            NaN   \n",
       "322442                                            NaN   \n",
       "322443                                            NaN   \n",
       "322444                                            NaN   \n",
       "322445                                            NaN   \n",
       "\n",
       "        right_gaze_origin_in_user_coordinate_system_1  \\\n",
       "0                                                 NaN   \n",
       "1                                                 NaN   \n",
       "2                                                 NaN   \n",
       "3                                                 NaN   \n",
       "4                                                 NaN   \n",
       "...                                               ...   \n",
       "322441                                            NaN   \n",
       "322442                                            NaN   \n",
       "322443                                            NaN   \n",
       "322444                                            NaN   \n",
       "322445                                            NaN   \n",
       "\n",
       "        right_gaze_origin_in_user_coordinate_system_2  \\\n",
       "0                                                 NaN   \n",
       "1                                                 NaN   \n",
       "2                                                 NaN   \n",
       "3                                                 NaN   \n",
       "4                                                 NaN   \n",
       "...                                               ...   \n",
       "322441                                            NaN   \n",
       "322442                                            NaN   \n",
       "322443                                            NaN   \n",
       "322444                                            NaN   \n",
       "322445                                            NaN   \n",
       "\n",
       "        left_gaze_origin_in_trackbox_coordinate_system_0  ...  \\\n",
       "0                                                    NaN  ...   \n",
       "1                                                    NaN  ...   \n",
       "2                                                    NaN  ...   \n",
       "3                                                    NaN  ...   \n",
       "4                                                    NaN  ...   \n",
       "...                                                  ...  ...   \n",
       "322441                                               NaN  ...   \n",
       "322442                                               NaN  ...   \n",
       "322443                                               NaN  ...   \n",
       "322444                                               NaN  ...   \n",
       "322445                                               NaN  ...   \n",
       "\n",
       "        left_gaze_point_on_display_area_0  left_gaze_point_on_display_area_1  \\\n",
       "0                                     NaN                                NaN   \n",
       "1                                     NaN                                NaN   \n",
       "2                                     NaN                                NaN   \n",
       "3                                     NaN                                NaN   \n",
       "4                                     NaN                                NaN   \n",
       "...                                   ...                                ...   \n",
       "322441                                NaN                                NaN   \n",
       "322442                                NaN                                NaN   \n",
       "322443                                NaN                                NaN   \n",
       "322444                                NaN                                NaN   \n",
       "322445                                NaN                                NaN   \n",
       "\n",
       "        right_gaze_point_on_display_area_0  \\\n",
       "0                                      NaN   \n",
       "1                                      NaN   \n",
       "2                                      NaN   \n",
       "3                                      NaN   \n",
       "4                                      NaN   \n",
       "...                                    ...   \n",
       "322441                                 NaN   \n",
       "322442                                 NaN   \n",
       "322443                                 NaN   \n",
       "322444                                 NaN   \n",
       "322445                                 NaN   \n",
       "\n",
       "        right_gaze_point_on_display_area_1  left_pupil_validity  \\\n",
       "0                                      NaN                  0.0   \n",
       "1                                      NaN                  0.0   \n",
       "2                                      NaN                  0.0   \n",
       "3                                      NaN                  0.0   \n",
       "4                                      NaN                  0.0   \n",
       "...                                    ...                  ...   \n",
       "322441                                 NaN                  0.0   \n",
       "322442                                 NaN                  0.0   \n",
       "322443                                 NaN                  0.0   \n",
       "322444                                 NaN                  0.0   \n",
       "322445                                 NaN                  0.0   \n",
       "\n",
       "        right_pupil_validity  left_pupil_diameter  right_pupil_diameter  \\\n",
       "0                        0.0                  NaN                   NaN   \n",
       "1                        0.0                  NaN                   NaN   \n",
       "2                        0.0                  NaN                   NaN   \n",
       "3                        0.0                  NaN                   NaN   \n",
       "4                        0.0                  NaN                   NaN   \n",
       "...                      ...                  ...                   ...   \n",
       "322441                   0.0                  NaN                   NaN   \n",
       "322442                   0.0                  NaN                   NaN   \n",
       "322443                   0.0                  NaN                   NaN   \n",
       "322444                   0.0                  NaN                   NaN   \n",
       "322445                   0.0                  NaN                   NaN   \n",
       "\n",
       "        lsl_time_stamp      time  \n",
       "0        400235.316109  0.000000  \n",
       "1        400235.324443  0.000008  \n",
       "2        400235.332777  0.000017  \n",
       "3        400235.341110  0.000025  \n",
       "4        400235.349444  0.000033  \n",
       "...                ...       ...  \n",
       "322441   402922.416040  2.687100  \n",
       "322442   402922.424373  2.687108  \n",
       "322443   402922.432707  2.687117  \n",
       "322444   402922.441041  2.687125  \n",
       "322445   402922.449374  2.687133  \n",
       "\n",
       "[322446 rows x 33 columns]"
      ]
     },
     "execution_count": 9,
     "metadata": {},
     "output_type": "execute_result"
    }
   ],
   "source": [
    "ET = data[streams_collected.index('Tobii')]\n",
    "et_dat = ET['time_series']\n",
    "# Get the column names\n",
    "column_labels = [ET['info']['desc'][0]['channels'][0]['channel'][i]['label'][0] for i in range(len(ET['info']['desc'][0]['channels'][0]['channel']))]\n",
    "\n",
    "et_df = pd.DataFrame(data=et_dat, columns=column_labels)\n",
    "et_df['lsl_time_stamp'] = ET['time_stamps']\n",
    "et_df['time'] = (ET['time_stamps'] - ET['time_stamps'][0])/1000\n",
    "et_df"
   ]
  },
  {
   "cell_type": "code",
   "execution_count": 10,
   "metadata": {},
   "outputs": [
    {
     "data": {
      "text/plain": [
       "322445"
      ]
     },
     "execution_count": 10,
     "metadata": {},
     "output_type": "execute_result"
    }
   ],
   "source": [
    "#nsamp\n",
    "int(ET['footer']['info']['sample_count'][0])\n"
   ]
  },
  {
   "cell_type": "code",
   "execution_count": 11,
   "metadata": {},
   "outputs": [
    {
     "data": {
      "text/plain": [
       "2687.1332649255637"
      ]
     },
     "execution_count": 11,
     "metadata": {},
     "output_type": "execute_result"
    }
   ],
   "source": [
    "et_df['lsl_time_stamp'].iloc[-1] - et_df['lsl_time_stamp'].iloc[0]"
   ]
  },
  {
   "cell_type": "code",
   "execution_count": 12,
   "metadata": {},
   "outputs": [],
   "source": [
    "# srate\n",
    "srate = ET['info']['effective_srate']\n"
   ]
  },
  {
   "cell_type": "code",
   "execution_count": 13,
   "metadata": {},
   "outputs": [
    {
     "data": {
      "text/plain": [
       "2.687133264925564"
      ]
     },
     "execution_count": 13,
     "metadata": {},
     "output_type": "execute_result"
    }
   ],
   "source": [
    "et_df['time'].iloc[-1]"
   ]
  },
  {
   "cell_type": "code",
   "execution_count": 14,
   "metadata": {},
   "outputs": [
    {
     "data": {
      "text/plain": [
       "119.99628161684497"
      ]
     },
     "execution_count": 14,
     "metadata": {},
     "output_type": "execute_result"
    }
   ],
   "source": [
    "et_resting = get_event_data('RestingState', et_df, stim_df)\n",
    "time = et_df['lsl_time_stamp'].iloc[-1] - et_df['lsl_time_stamp'].iloc[0]\n",
    "\n",
    "nsamp = len(et_df)\n",
    "\n",
    "nsamp/time"
   ]
  },
  {
   "cell_type": "code",
   "execution_count": 15,
   "metadata": {},
   "outputs": [
    {
     "data": {
      "application/vnd.microsoft.datawrangler.viewer.v0+json": {
       "columns": [
        {
         "name": "index",
         "rawType": "int64",
         "type": "integer"
        },
        {
         "name": "variable",
         "rawType": "object",
         "type": "string"
        },
        {
         "name": "percent_valid",
         "rawType": "object",
         "type": "unknown"
        }
       ],
       "conversionMethod": "pd.DataFrame",
       "ref": "4da64aff-543c-45fc-9348-cd4cff11f2c5",
       "rows": [
        [
         "0",
         "left_gaze_origin_validity",
         "0.3827"
        ],
        [
         "1",
         "right_gaze_origin_validity",
         "0.3657"
        ],
        [
         "2",
         "left_gaze_point_validity",
         "0.3818"
        ],
        [
         "3",
         "right_gaze_point_validity",
         "0.3649"
        ],
        [
         "4",
         "left_pupil_validity",
         "0.3818"
        ],
        [
         "5",
         "right_pupil_validity",
         "0.3649"
        ]
       ],
       "shape": {
        "columns": 2,
        "rows": 6
       }
      },
      "text/html": [
       "<div>\n",
       "<style scoped>\n",
       "    .dataframe tbody tr th:only-of-type {\n",
       "        vertical-align: middle;\n",
       "    }\n",
       "\n",
       "    .dataframe tbody tr th {\n",
       "        vertical-align: top;\n",
       "    }\n",
       "\n",
       "    .dataframe thead th {\n",
       "        text-align: right;\n",
       "    }\n",
       "</style>\n",
       "<table border=\"1\" class=\"dataframe\">\n",
       "  <thead>\n",
       "    <tr style=\"text-align: right;\">\n",
       "      <th></th>\n",
       "      <th>variable</th>\n",
       "      <th>percent_valid</th>\n",
       "    </tr>\n",
       "  </thead>\n",
       "  <tbody>\n",
       "    <tr>\n",
       "      <th>0</th>\n",
       "      <td>left_gaze_origin_validity</td>\n",
       "      <td>0.3827</td>\n",
       "    </tr>\n",
       "    <tr>\n",
       "      <th>1</th>\n",
       "      <td>right_gaze_origin_validity</td>\n",
       "      <td>0.3657</td>\n",
       "    </tr>\n",
       "    <tr>\n",
       "      <th>2</th>\n",
       "      <td>left_gaze_point_validity</td>\n",
       "      <td>0.3818</td>\n",
       "    </tr>\n",
       "    <tr>\n",
       "      <th>3</th>\n",
       "      <td>right_gaze_point_validity</td>\n",
       "      <td>0.3649</td>\n",
       "    </tr>\n",
       "    <tr>\n",
       "      <th>4</th>\n",
       "      <td>left_pupil_validity</td>\n",
       "      <td>0.3818</td>\n",
       "    </tr>\n",
       "    <tr>\n",
       "      <th>5</th>\n",
       "      <td>right_pupil_validity</td>\n",
       "      <td>0.3649</td>\n",
       "    </tr>\n",
       "  </tbody>\n",
       "</table>\n",
       "</div>"
      ],
      "text/plain": [
       "                     variable percent_valid\n",
       "0   left_gaze_origin_validity        0.3827\n",
       "1  right_gaze_origin_validity        0.3657\n",
       "2    left_gaze_point_validity        0.3818\n",
       "3   right_gaze_point_validity        0.3649\n",
       "4         left_pupil_validity        0.3818\n",
       "5        right_pupil_validity        0.3649"
      ]
     },
     "execution_count": 15,
     "metadata": {},
     "output_type": "execute_result"
    }
   ],
   "source": [
    "# get percent valid items from validity columns\n",
    "val_cols = et_df.filter(like = 'validity').columns\n",
    "val_df = pd.DataFrame(columns = ['variable', 'percent_valid'])\n",
    "val_df['variable'] = val_cols\n",
    "\n",
    "for i, var in enumerate(val_cols):\n",
    "    val_df.loc[i, 'percent_valid'] = round(np.mean(et_df[var]), 4)\n",
    "\n",
    "val_df"
   ]
  },
  {
   "cell_type": "code",
   "execution_count": 16,
   "metadata": {},
   "outputs": [
    {
     "data": {
      "application/vnd.microsoft.datawrangler.viewer.v0+json": {
       "columns": [
        {
         "name": "index",
         "rawType": "int64",
         "type": "integer"
        },
        {
         "name": "variable",
         "rawType": "object",
         "type": "string"
        },
        {
         "name": "percent_valid",
         "rawType": "object",
         "type": "unknown"
        }
       ],
       "conversionMethod": "pd.DataFrame",
       "ref": "5432e040-04f3-4dad-8d73-4dbc75315918",
       "rows": [
        [
         "0",
         "left_gaze_origin_in_user_coordinate_system_0",
         "0.3827"
        ],
        [
         "1",
         "left_gaze_origin_in_user_coordinate_system_1",
         "0.3827"
        ],
        [
         "2",
         "left_gaze_origin_in_user_coordinate_system_2",
         "0.3827"
        ],
        [
         "3",
         "right_gaze_origin_in_user_coordinate_system_0",
         "0.3657"
        ],
        [
         "4",
         "right_gaze_origin_in_user_coordinate_system_1",
         "0.3657"
        ],
        [
         "5",
         "right_gaze_origin_in_user_coordinate_system_2",
         "0.3657"
        ],
        [
         "6",
         "left_gaze_origin_in_trackbox_coordinate_system_0",
         "0.3827"
        ],
        [
         "7",
         "left_gaze_origin_in_trackbox_coordinate_system_1",
         "0.3827"
        ],
        [
         "8",
         "left_gaze_origin_in_trackbox_coordinate_system_2",
         "0.3827"
        ],
        [
         "9",
         "right_gaze_origin_in_trackbox_coordinate_system_0",
         "0.3657"
        ],
        [
         "10",
         "right_gaze_origin_in_trackbox_coordinate_system_1",
         "0.3657"
        ],
        [
         "11",
         "right_gaze_origin_in_trackbox_coordinate_system_2",
         "0.3657"
        ],
        [
         "12",
         "left_gaze_point_in_user_coordinate_system_0",
         "0.3818"
        ],
        [
         "13",
         "left_gaze_point_in_user_coordinate_system_1",
         "0.3818"
        ],
        [
         "14",
         "left_gaze_point_in_user_coordinate_system_2",
         "0.3818"
        ],
        [
         "15",
         "right_gaze_point_in_user_coordinate_system_0",
         "0.3649"
        ],
        [
         "16",
         "right_gaze_point_in_user_coordinate_system_1",
         "0.3649"
        ],
        [
         "17",
         "right_gaze_point_in_user_coordinate_system_2",
         "0.3649"
        ],
        [
         "18",
         "left_gaze_point_on_display_area_0",
         "0.3818"
        ],
        [
         "19",
         "left_gaze_point_on_display_area_1",
         "0.3818"
        ],
        [
         "20",
         "right_gaze_point_on_display_area_0",
         "0.3649"
        ],
        [
         "21",
         "right_gaze_point_on_display_area_1",
         "0.3649"
        ],
        [
         "22",
         "left_pupil_diameter",
         "0.3818"
        ],
        [
         "23",
         "right_pupil_diameter",
         "0.3649"
        ]
       ],
       "shape": {
        "columns": 2,
        "rows": 24
       }
      },
      "text/html": [
       "<div>\n",
       "<style scoped>\n",
       "    .dataframe tbody tr th:only-of-type {\n",
       "        vertical-align: middle;\n",
       "    }\n",
       "\n",
       "    .dataframe tbody tr th {\n",
       "        vertical-align: top;\n",
       "    }\n",
       "\n",
       "    .dataframe thead th {\n",
       "        text-align: right;\n",
       "    }\n",
       "</style>\n",
       "<table border=\"1\" class=\"dataframe\">\n",
       "  <thead>\n",
       "    <tr style=\"text-align: right;\">\n",
       "      <th></th>\n",
       "      <th>variable</th>\n",
       "      <th>percent_valid</th>\n",
       "    </tr>\n",
       "  </thead>\n",
       "  <tbody>\n",
       "    <tr>\n",
       "      <th>0</th>\n",
       "      <td>left_gaze_origin_in_user_coordinate_system_0</td>\n",
       "      <td>0.3827</td>\n",
       "    </tr>\n",
       "    <tr>\n",
       "      <th>1</th>\n",
       "      <td>left_gaze_origin_in_user_coordinate_system_1</td>\n",
       "      <td>0.3827</td>\n",
       "    </tr>\n",
       "    <tr>\n",
       "      <th>2</th>\n",
       "      <td>left_gaze_origin_in_user_coordinate_system_2</td>\n",
       "      <td>0.3827</td>\n",
       "    </tr>\n",
       "    <tr>\n",
       "      <th>3</th>\n",
       "      <td>right_gaze_origin_in_user_coordinate_system_0</td>\n",
       "      <td>0.3657</td>\n",
       "    </tr>\n",
       "    <tr>\n",
       "      <th>4</th>\n",
       "      <td>right_gaze_origin_in_user_coordinate_system_1</td>\n",
       "      <td>0.3657</td>\n",
       "    </tr>\n",
       "    <tr>\n",
       "      <th>5</th>\n",
       "      <td>right_gaze_origin_in_user_coordinate_system_2</td>\n",
       "      <td>0.3657</td>\n",
       "    </tr>\n",
       "    <tr>\n",
       "      <th>6</th>\n",
       "      <td>left_gaze_origin_in_trackbox_coordinate_system_0</td>\n",
       "      <td>0.3827</td>\n",
       "    </tr>\n",
       "    <tr>\n",
       "      <th>7</th>\n",
       "      <td>left_gaze_origin_in_trackbox_coordinate_system_1</td>\n",
       "      <td>0.3827</td>\n",
       "    </tr>\n",
       "    <tr>\n",
       "      <th>8</th>\n",
       "      <td>left_gaze_origin_in_trackbox_coordinate_system_2</td>\n",
       "      <td>0.3827</td>\n",
       "    </tr>\n",
       "    <tr>\n",
       "      <th>9</th>\n",
       "      <td>right_gaze_origin_in_trackbox_coordinate_system_0</td>\n",
       "      <td>0.3657</td>\n",
       "    </tr>\n",
       "    <tr>\n",
       "      <th>10</th>\n",
       "      <td>right_gaze_origin_in_trackbox_coordinate_system_1</td>\n",
       "      <td>0.3657</td>\n",
       "    </tr>\n",
       "    <tr>\n",
       "      <th>11</th>\n",
       "      <td>right_gaze_origin_in_trackbox_coordinate_system_2</td>\n",
       "      <td>0.3657</td>\n",
       "    </tr>\n",
       "    <tr>\n",
       "      <th>12</th>\n",
       "      <td>left_gaze_point_in_user_coordinate_system_0</td>\n",
       "      <td>0.3818</td>\n",
       "    </tr>\n",
       "    <tr>\n",
       "      <th>13</th>\n",
       "      <td>left_gaze_point_in_user_coordinate_system_1</td>\n",
       "      <td>0.3818</td>\n",
       "    </tr>\n",
       "    <tr>\n",
       "      <th>14</th>\n",
       "      <td>left_gaze_point_in_user_coordinate_system_2</td>\n",
       "      <td>0.3818</td>\n",
       "    </tr>\n",
       "    <tr>\n",
       "      <th>15</th>\n",
       "      <td>right_gaze_point_in_user_coordinate_system_0</td>\n",
       "      <td>0.3649</td>\n",
       "    </tr>\n",
       "    <tr>\n",
       "      <th>16</th>\n",
       "      <td>right_gaze_point_in_user_coordinate_system_1</td>\n",
       "      <td>0.3649</td>\n",
       "    </tr>\n",
       "    <tr>\n",
       "      <th>17</th>\n",
       "      <td>right_gaze_point_in_user_coordinate_system_2</td>\n",
       "      <td>0.3649</td>\n",
       "    </tr>\n",
       "    <tr>\n",
       "      <th>18</th>\n",
       "      <td>left_gaze_point_on_display_area_0</td>\n",
       "      <td>0.3818</td>\n",
       "    </tr>\n",
       "    <tr>\n",
       "      <th>19</th>\n",
       "      <td>left_gaze_point_on_display_area_1</td>\n",
       "      <td>0.3818</td>\n",
       "    </tr>\n",
       "    <tr>\n",
       "      <th>20</th>\n",
       "      <td>right_gaze_point_on_display_area_0</td>\n",
       "      <td>0.3649</td>\n",
       "    </tr>\n",
       "    <tr>\n",
       "      <th>21</th>\n",
       "      <td>right_gaze_point_on_display_area_1</td>\n",
       "      <td>0.3649</td>\n",
       "    </tr>\n",
       "    <tr>\n",
       "      <th>22</th>\n",
       "      <td>left_pupil_diameter</td>\n",
       "      <td>0.3818</td>\n",
       "    </tr>\n",
       "    <tr>\n",
       "      <th>23</th>\n",
       "      <td>right_pupil_diameter</td>\n",
       "      <td>0.3649</td>\n",
       "    </tr>\n",
       "  </tbody>\n",
       "</table>\n",
       "</div>"
      ],
      "text/plain": [
       "                                             variable percent_valid\n",
       "0        left_gaze_origin_in_user_coordinate_system_0        0.3827\n",
       "1        left_gaze_origin_in_user_coordinate_system_1        0.3827\n",
       "2        left_gaze_origin_in_user_coordinate_system_2        0.3827\n",
       "3       right_gaze_origin_in_user_coordinate_system_0        0.3657\n",
       "4       right_gaze_origin_in_user_coordinate_system_1        0.3657\n",
       "5       right_gaze_origin_in_user_coordinate_system_2        0.3657\n",
       "6    left_gaze_origin_in_trackbox_coordinate_system_0        0.3827\n",
       "7    left_gaze_origin_in_trackbox_coordinate_system_1        0.3827\n",
       "8    left_gaze_origin_in_trackbox_coordinate_system_2        0.3827\n",
       "9   right_gaze_origin_in_trackbox_coordinate_system_0        0.3657\n",
       "10  right_gaze_origin_in_trackbox_coordinate_system_1        0.3657\n",
       "11  right_gaze_origin_in_trackbox_coordinate_system_2        0.3657\n",
       "12        left_gaze_point_in_user_coordinate_system_0        0.3818\n",
       "13        left_gaze_point_in_user_coordinate_system_1        0.3818\n",
       "14        left_gaze_point_in_user_coordinate_system_2        0.3818\n",
       "15       right_gaze_point_in_user_coordinate_system_0        0.3649\n",
       "16       right_gaze_point_in_user_coordinate_system_1        0.3649\n",
       "17       right_gaze_point_in_user_coordinate_system_2        0.3649\n",
       "18                  left_gaze_point_on_display_area_0        0.3818\n",
       "19                  left_gaze_point_on_display_area_1        0.3818\n",
       "20                 right_gaze_point_on_display_area_0        0.3649\n",
       "21                 right_gaze_point_on_display_area_1        0.3649\n",
       "22                                left_pupil_diameter        0.3818\n",
       "23                               right_pupil_diameter        0.3649"
      ]
     },
     "execution_count": 16,
     "metadata": {},
     "output_type": "execute_result"
    }
   ],
   "source": [
    "# percent valid for all data columns (excluding time + validity columns)\n",
    "\n",
    "# remove columns w validity or time data \n",
    "time_cols = et_df.filter(like = 'time').columns\n",
    "qc_cols = time_cols.append(val_cols)\n",
    "et_data_cols = et_df.columns.drop(qc_cols)\n",
    "\n",
    "# percent non-NaN for each variable\n",
    "et_qc = pd.DataFrame(columns= ['variable', 'percent_valid'])\n",
    "et_qc['variable'] = et_data_cols\n",
    "\n",
    "for i, var in enumerate(et_data_cols):\n",
    "    et_qc.loc[i, 'percent_valid'] = round((1 - et_df[var].isna().mean()), 4)\n",
    "\n",
    "et_qc"
   ]
  },
  {
   "cell_type": "markdown",
   "metadata": {},
   "source": [
    "## Comparing Percents between Validity, Coordinates, and Coordinate Systems"
   ]
  },
  {
   "cell_type": "code",
   "execution_count": 17,
   "metadata": {},
   "outputs": [
    {
     "name": "stdout",
     "output_type": "stream",
     "text": [
      "validity variables equal % of present data for each measure\n"
     ]
    }
   ],
   "source": [
    "# compare NaN percentage in each measure with validity \n",
    "\n",
    "# for each row of val_df\n",
    "flag = False\n",
    "for row in range(len(val_df)):\n",
    "    # assign percent_valid to a var \n",
    "    val_percent = val_df.loc[row, 'percent_valid']\n",
    "\n",
    "    # get name of 'variable' without _validity \n",
    "    searchable = val_df.loc[row, 'variable']\n",
    "    searchable = searchable.replace('_validity', '')\n",
    "\n",
    "    # find corresponding variable in et_qc\n",
    "    found = et_qc[et_qc['variable'].str.contains(searchable)]\n",
    "\n",
    "    # Check if floats are close enough to each other\n",
    "    delta = 0.0000001\n",
    "    for i in found.index:\n",
    "        etqc_percent = found.loc[i, 'percent_valid']\n",
    "        etqc_variable = found.loc[i, 'variable']\n",
    "        diff = etqc_percent - val_percent\n",
    "        \n",
    "        if abs(diff) > delta:\n",
    "            print(\"ERROR: {} and {} were different by a difference of {}.\".format(etqc_variable, searchable, diff))\n",
    "            flag = True\n",
    "if not flag:\n",
    "    print(\"validity variables equal % of present data for each measure\")\n",
    "\n"
   ]
  },
  {
   "cell_type": "code",
   "execution_count": 18,
   "metadata": {},
   "outputs": [
    {
     "name": "stdout",
     "output_type": "stream",
     "text": [
      "all coordinates have the same % validity within each measure (LR, gaze point/origin/diameter)\n"
     ]
    }
   ],
   "source": [
    "# compare coordinates (0,1,2)\n",
    "flag = False\n",
    "for i in range(1, len(et_qc)):\n",
    "    # get variables that end in numbers \n",
    "    root = re.sub(r\"_\\d+$\", \"\", et_qc.loc[i, 'variable'])\n",
    "    if root in et_qc.loc[i-1, 'variable']:\n",
    "        current_percent = et_qc.loc[i, 'percent_valid']\n",
    "        prev_percent = et_qc.loc[i-1, 'percent_valid']\n",
    "        if current_percent != prev_percent:\n",
    "            print(\"ERROR: {} does not equal {}!\".format(et_qc.loc[i-1, 'variable'], et_qc.loc[i, 'variable']))\n",
    "            flag = True\n",
    "if not flag:\n",
    "    print(\"all coordinates have the same % validity within each measure (LR, gaze point/origin/diameter)\")\n",
    "\n"
   ]
  },
  {
   "cell_type": "code",
   "execution_count": 19,
   "metadata": {},
   "outputs": [
    {
     "name": "stdout",
     "output_type": "stream",
     "text": [
      "% NaNs is the same between UCS and TBCS (gaze origin) and between UCS and display area (gaze point)\n"
     ]
    }
   ],
   "source": [
    "# compare coordinate systems \n",
    "\n",
    "flag = False\n",
    "for i in range(1, len(et_qc)):\n",
    "    root = et_qc.loc[i, 'variable'].split(\"_in\")[0]\n",
    "    root_percent = et_qc.loc[i, 'percent_valid']\n",
    "\n",
    "    matching = et_qc[et_qc['variable'].str.contains(root)]\n",
    "\n",
    "    for i in matching.index:\n",
    "            matching_percent = matching.loc[i, 'percent_valid']\n",
    "            matching_variable = matching.loc[i, 'variable']\n",
    "\n",
    "            if root_percent != matching_percent:\n",
    "                print(\"ERROR: {} and {} were different by a difference of {}.\".format(matching_variable, root, (root_percent-matching_percent)))\n",
    "                flag = True\n",
    "   \n",
    "if not flag:\n",
    "    print(\"% NaNs is the same between UCS and TBCS (gaze origin) and between UCS and display area (gaze point)\")\n",
    "\n"
   ]
  },
  {
   "cell_type": "markdown",
   "metadata": {},
   "source": [
    "## Compare valid data between left and right eyes"
   ]
  },
  {
   "cell_type": "code",
   "execution_count": 20,
   "metadata": {},
   "outputs": [
    {
     "data": {
      "application/vnd.microsoft.datawrangler.viewer.v0+json": {
       "columns": [
        {
         "name": "index",
         "rawType": "int64",
         "type": "integer"
        },
        {
         "name": "eye",
         "rawType": "object",
         "type": "string"
        },
        {
         "name": "min",
         "rawType": "float64",
         "type": "float"
        },
        {
         "name": "max",
         "rawType": "float64",
         "type": "float"
        },
        {
         "name": "mean",
         "rawType": "float64",
         "type": "float"
        }
       ],
       "conversionMethod": "pd.DataFrame",
       "ref": "1f5b3f83-2296-4578-b00a-b63e394b0839",
       "rows": [
        [
         "0",
         "left",
         "0.3818",
         "0.3827",
         "0.3823"
        ],
        [
         "1",
         "right",
         "0.3649",
         "0.3657",
         "0.3653"
        ]
       ],
       "shape": {
        "columns": 4,
        "rows": 2
       }
      },
      "text/html": [
       "<div>\n",
       "<style scoped>\n",
       "    .dataframe tbody tr th:only-of-type {\n",
       "        vertical-align: middle;\n",
       "    }\n",
       "\n",
       "    .dataframe tbody tr th {\n",
       "        vertical-align: top;\n",
       "    }\n",
       "\n",
       "    .dataframe thead th {\n",
       "        text-align: right;\n",
       "    }\n",
       "</style>\n",
       "<table border=\"1\" class=\"dataframe\">\n",
       "  <thead>\n",
       "    <tr style=\"text-align: right;\">\n",
       "      <th></th>\n",
       "      <th>eye</th>\n",
       "      <th>min</th>\n",
       "      <th>max</th>\n",
       "      <th>mean</th>\n",
       "    </tr>\n",
       "  </thead>\n",
       "  <tbody>\n",
       "    <tr>\n",
       "      <th>0</th>\n",
       "      <td>left</td>\n",
       "      <td>0.3818</td>\n",
       "      <td>0.3827</td>\n",
       "      <td>0.3823</td>\n",
       "    </tr>\n",
       "    <tr>\n",
       "      <th>1</th>\n",
       "      <td>right</td>\n",
       "      <td>0.3649</td>\n",
       "      <td>0.3657</td>\n",
       "      <td>0.3653</td>\n",
       "    </tr>\n",
       "  </tbody>\n",
       "</table>\n",
       "</div>"
      ],
      "text/plain": [
       "     eye     min     max    mean\n",
       "0   left  0.3818  0.3827  0.3823\n",
       "1  right  0.3649  0.3657  0.3653"
      ]
     },
     "execution_count": 20,
     "metadata": {},
     "output_type": "execute_result"
    }
   ],
   "source": [
    "left = et_qc[et_qc.variable.str.startswith('left')]\n",
    "right = et_qc[et_qc.variable.str.startswith('right')]\n",
    "\n",
    "RL_val = pd.DataFrame(columns = ['eye','min', 'max', 'mean'])\n",
    "\n",
    "for i, (df, RL) in enumerate([(left, 'left'), (right, 'right')]):\n",
    "    min1 = min(df['percent_valid'])\n",
    "    max1 = max(df['percent_valid'])\n",
    "    mean1 = round(np.mean(df['percent_valid']), 4)\n",
    "    RL_val.loc[i] = [RL, min1, max1, mean1]\n",
    "\n",
    "\n",
    "RL_val"
   ]
  },
  {
   "cell_type": "code",
   "execution_count": 21,
   "metadata": {},
   "outputs": [
    {
     "data": {
      "application/vnd.microsoft.datawrangler.viewer.v0+json": {
       "columns": [
        {
         "name": "index",
         "rawType": "int64",
         "type": "integer"
        },
        {
         "name": "eye",
         "rawType": "object",
         "type": "string"
        },
        {
         "name": "min",
         "rawType": "object",
         "type": "unknown"
        },
        {
         "name": "max",
         "rawType": "object",
         "type": "unknown"
        },
        {
         "name": "mean",
         "rawType": "object",
         "type": "unknown"
        }
       ],
       "conversionMethod": "pd.DataFrame",
       "ref": "e73e3856-1aac-4528-801f-6d1446698525",
       "rows": [
        [
         "0",
         "left",
         "0.3818",
         "0.3827",
         "0.3823"
        ],
        [
         "1",
         "right",
         "0.3649",
         "0.3657",
         "0.3653"
        ],
        [
         "2",
         "",
         "",
         "",
         ""
        ],
        [
         "3",
         "diff",
         "-0.01689999999999997",
         "-0.01699999999999996",
         "-0.01699999999999996"
        ]
       ],
       "shape": {
        "columns": 4,
        "rows": 4
       }
      },
      "text/html": [
       "<div>\n",
       "<style scoped>\n",
       "    .dataframe tbody tr th:only-of-type {\n",
       "        vertical-align: middle;\n",
       "    }\n",
       "\n",
       "    .dataframe tbody tr th {\n",
       "        vertical-align: top;\n",
       "    }\n",
       "\n",
       "    .dataframe thead th {\n",
       "        text-align: right;\n",
       "    }\n",
       "</style>\n",
       "<table border=\"1\" class=\"dataframe\">\n",
       "  <thead>\n",
       "    <tr style=\"text-align: right;\">\n",
       "      <th></th>\n",
       "      <th>eye</th>\n",
       "      <th>min</th>\n",
       "      <th>max</th>\n",
       "      <th>mean</th>\n",
       "    </tr>\n",
       "  </thead>\n",
       "  <tbody>\n",
       "    <tr>\n",
       "      <th>0</th>\n",
       "      <td>left</td>\n",
       "      <td>0.3818</td>\n",
       "      <td>0.3827</td>\n",
       "      <td>0.3823</td>\n",
       "    </tr>\n",
       "    <tr>\n",
       "      <th>1</th>\n",
       "      <td>right</td>\n",
       "      <td>0.3649</td>\n",
       "      <td>0.3657</td>\n",
       "      <td>0.3653</td>\n",
       "    </tr>\n",
       "    <tr>\n",
       "      <th>2</th>\n",
       "      <td></td>\n",
       "      <td></td>\n",
       "      <td></td>\n",
       "      <td></td>\n",
       "    </tr>\n",
       "    <tr>\n",
       "      <th>3</th>\n",
       "      <td>diff</td>\n",
       "      <td>-0.0169</td>\n",
       "      <td>-0.017</td>\n",
       "      <td>-0.017</td>\n",
       "    </tr>\n",
       "  </tbody>\n",
       "</table>\n",
       "</div>"
      ],
      "text/plain": [
       "     eye     min     max    mean\n",
       "0   left  0.3818  0.3827  0.3823\n",
       "1  right  0.3649  0.3657  0.3653\n",
       "2                               \n",
       "3   diff -0.0169  -0.017  -0.017"
      ]
     },
     "execution_count": 21,
     "metadata": {},
     "output_type": "execute_result"
    }
   ],
   "source": [
    "# find diff between RL \n",
    "RL_val.loc[2] = ['diff', RL_val['min'].diff()[1], RL_val['max'].diff()[1], RL_val['mean'].diff()[1]]\n",
    "\n",
    "# add blank row \n",
    "blank = pd.DataFrame([['', '', '', '']], columns = RL_val.columns)\n",
    "RL_val = pd.concat([RL_val.iloc[:2], blank, RL_val.iloc[2:]])\n",
    "RL_val.reset_index(drop=True, inplace=True)\n",
    "RL_val\n"
   ]
  },
  {
   "cell_type": "code",
   "execution_count": 22,
   "metadata": {},
   "outputs": [
    {
     "name": "stdout",
     "output_type": "stream",
     "text": [
      "mean validity for left eye is 38.23%.\n",
      "mean validity for right eye is 36.53%.\n",
      "the difference is 1.70%.\n"
     ]
    }
   ],
   "source": [
    "lmean = RL_val.loc[RL_val.eye =='left', 'mean'][0]\n",
    "rmean = RL_val.loc[RL_val.eye =='right', 'mean'][1]\n",
    "mean_diff = RL_val.loc[RL_val.eye =='diff', 'mean'][3]\n",
    "\n",
    "print('mean validity for left eye is {:.2%}.\\n\\\n",
    "mean validity for right eye is {:.2%}.\\n\\\n",
    "the difference is {:.2%}.'.format(lmean, rmean, abs(mean_diff)))"
   ]
  },
  {
   "cell_type": "markdown",
   "metadata": {},
   "source": [
    "## Gaze Point"
   ]
  },
  {
   "cell_type": "markdown",
   "metadata": {},
   "source": [
    "### Min + Max"
   ]
  },
  {
   "cell_type": "code",
   "execution_count": 23,
   "metadata": {},
   "outputs": [],
   "source": [
    "minmax = {}\n",
    "for eye, e in zip(['left', 'right'], ['l', 'r']):\n",
    "    for disp in ['0', '1']:\n",
    "        minmax[f'min_{e}{disp}'] = round(np.nanmin(et_df['{}_gaze_point_on_display_area_{}'.format(eye, disp)]), 3)\n",
    "        minmax[f'max_{e}{disp}'] = round(np.nanmax(et_df['{}_gaze_point_on_display_area_{}'.format(eye, disp)]), 3)\n",
    "        \n",
    "        # globals()['min_'+e+disp] = round(np.nanmin(et_df['{}_gaze_point_on_display_area_{}'.format(eye, disp)]), 3)\n",
    "        # globals()['max_'+e+disp] = round(np.nanmax(et_df['{}_gaze_point_on_display_area_{}'.format(eye, disp)]), 3)\n"
   ]
  },
  {
   "cell_type": "code",
   "execution_count": 24,
   "metadata": {},
   "outputs": [
    {
     "name": "stdout",
     "output_type": "stream",
     "text": [
      "Left eye: \n",
      "      Display area 0 min: -0.224, max: 2.525\n",
      "      Display area 1 min: -1.104, max: 1.506\n",
      "      \n",
      "Right eye: \n",
      "      Display area 0 min: -0.279, max: 2.245\n",
      "      Display area 1 min: -0.835, max: 1.598\n"
     ]
    }
   ],
   "source": [
    "print(f\"Left eye: \\n\\\n",
    "      Display area 0 min: {minmax['min_l0']:.4}, max: {minmax['max_l0']:.4}\\n\\\n",
    "      Display area 1 min: {minmax['min_l1']:.4}, max: {minmax['max_l1']:.4}\\n\\\n",
    "      \\n\\\n",
    "Right eye: \\n\\\n",
    "      Display area 0 min: {minmax['min_r0']:.4}, max: {minmax['max_r0']:.4}\\n\\\n",
    "      Display area 1 min: {minmax['min_r1']:.4}, max: {minmax['max_r1']:.4}\")\n",
    "\n",
    "# left and right eye display area 0 min pretty different"
   ]
  },
  {
   "cell_type": "code",
   "execution_count": 25,
   "metadata": {},
   "outputs": [
    {
     "data": {
      "application/vnd.microsoft.datawrangler.viewer.v0+json": {
       "columns": [
        {
         "name": "index",
         "rawType": "int64",
         "type": "integer"
        },
        {
         "name": "display area",
         "rawType": "object",
         "type": "string"
        },
        {
         "name": "min",
         "rawType": "float32",
         "type": "float"
        },
        {
         "name": "max",
         "rawType": "float32",
         "type": "float"
        }
       ],
       "conversionMethod": "pd.DataFrame",
       "ref": "995dfce7-e77e-4141-8b8d-cd169eca2c53",
       "rows": [
        [
         "0",
         "0",
         "-0.224",
         "2.525"
        ],
        [
         "1",
         "1",
         "-1.104",
         "1.506"
        ]
       ],
       "shape": {
        "columns": 3,
        "rows": 2
       }
      },
      "text/html": [
       "<div>\n",
       "<style scoped>\n",
       "    .dataframe tbody tr th:only-of-type {\n",
       "        vertical-align: middle;\n",
       "    }\n",
       "\n",
       "    .dataframe tbody tr th {\n",
       "        vertical-align: top;\n",
       "    }\n",
       "\n",
       "    .dataframe thead th {\n",
       "        text-align: right;\n",
       "    }\n",
       "</style>\n",
       "<table border=\"1\" class=\"dataframe\">\n",
       "  <thead>\n",
       "    <tr style=\"text-align: right;\">\n",
       "      <th></th>\n",
       "      <th>display area</th>\n",
       "      <th>min</th>\n",
       "      <th>max</th>\n",
       "    </tr>\n",
       "  </thead>\n",
       "  <tbody>\n",
       "    <tr>\n",
       "      <th>0</th>\n",
       "      <td>0</td>\n",
       "      <td>-0.224</td>\n",
       "      <td>2.525</td>\n",
       "    </tr>\n",
       "    <tr>\n",
       "      <th>1</th>\n",
       "      <td>1</td>\n",
       "      <td>-1.104</td>\n",
       "      <td>1.506</td>\n",
       "    </tr>\n",
       "  </tbody>\n",
       "</table>\n",
       "</div>"
      ],
      "text/plain": [
       "  display area    min    max\n",
       "0            0 -0.224  2.525\n",
       "1            1 -1.104  1.506"
      ]
     },
     "metadata": {},
     "output_type": "display_data"
    },
    {
     "data": {
      "application/vnd.microsoft.datawrangler.viewer.v0+json": {
       "columns": [
        {
         "name": "index",
         "rawType": "int64",
         "type": "integer"
        },
        {
         "name": "display area",
         "rawType": "object",
         "type": "string"
        },
        {
         "name": "min",
         "rawType": "float32",
         "type": "float"
        },
        {
         "name": "max",
         "rawType": "float32",
         "type": "float"
        }
       ],
       "conversionMethod": "pd.DataFrame",
       "ref": "14b29a79-a1e4-4c04-93ff-16d4347b8e1f",
       "rows": [
        [
         "0",
         "0",
         "-0.279",
         "2.245"
        ],
        [
         "1",
         "1",
         "-0.835",
         "1.598"
        ]
       ],
       "shape": {
        "columns": 3,
        "rows": 2
       }
      },
      "text/html": [
       "<div>\n",
       "<style scoped>\n",
       "    .dataframe tbody tr th:only-of-type {\n",
       "        vertical-align: middle;\n",
       "    }\n",
       "\n",
       "    .dataframe tbody tr th {\n",
       "        vertical-align: top;\n",
       "    }\n",
       "\n",
       "    .dataframe thead th {\n",
       "        text-align: right;\n",
       "    }\n",
       "</style>\n",
       "<table border=\"1\" class=\"dataframe\">\n",
       "  <thead>\n",
       "    <tr style=\"text-align: right;\">\n",
       "      <th></th>\n",
       "      <th>display area</th>\n",
       "      <th>min</th>\n",
       "      <th>max</th>\n",
       "    </tr>\n",
       "  </thead>\n",
       "  <tbody>\n",
       "    <tr>\n",
       "      <th>0</th>\n",
       "      <td>0</td>\n",
       "      <td>-0.279</td>\n",
       "      <td>2.245</td>\n",
       "    </tr>\n",
       "    <tr>\n",
       "      <th>1</th>\n",
       "      <td>1</td>\n",
       "      <td>-0.835</td>\n",
       "      <td>1.598</td>\n",
       "    </tr>\n",
       "  </tbody>\n",
       "</table>\n",
       "</div>"
      ],
      "text/plain": [
       "  display area    min    max\n",
       "0            0 -0.279  2.245\n",
       "1            1 -0.835  1.598"
      ]
     },
     "metadata": {},
     "output_type": "display_data"
    }
   ],
   "source": [
    "left_display = pd.DataFrame(columns = ['display area', 'min', 'max'])\n",
    "right_display = pd.DataFrame(columns = ['display area', 'min', 'max'])\n",
    "\n",
    "left_display.loc[0] = ['0', minmax['min_l0'], minmax['max_l0']]\n",
    "left_display.loc[1] = ['1', minmax['min_l1'], minmax['max_l1']]\n",
    "\n",
    "right_display.loc[0] = ['0', minmax['min_r0'], minmax['max_r0']]\n",
    "right_display.loc[1] = ['1', minmax['min_r1'], minmax['max_r1']]\n",
    "\n",
    "display(left_display)\n",
    "display(right_display)"
   ]
  },
  {
   "cell_type": "code",
   "execution_count": 26,
   "metadata": {},
   "outputs": [
    {
     "name": "stdout",
     "output_type": "stream",
     "text": [
      "The difference between left and right is: \n",
      "      display area 0 min: 0.055, max: 0.28 \n",
      "      display area 1 min: -0.269, max: -0.092\n"
     ]
    }
   ],
   "source": [
    "print(f\"The difference between left and right is: \\n\\\n",
    "      display area 0 min: {minmax['min_l0']-minmax['min_r0']:.3}, max: {minmax['max_l0']-minmax['max_r0']:.3} \\n\\\n",
    "      display area 1 min: {minmax['min_l1']-minmax['min_r1']:.3}, max: {minmax['max_l1']-minmax['max_r1']:.3}\")"
   ]
  },
  {
   "cell_type": "code",
   "execution_count": 27,
   "metadata": {},
   "outputs": [
    {
     "data": {
      "text/plain": [
       "(-3.0, 3.0)"
      ]
     },
     "execution_count": 27,
     "metadata": {},
     "output_type": "execute_result"
    },
    {
     "data": {
      "image/png": "[encoded data removed]",
      "text/plain": [
       "<Figure size 640x480 with 1 Axes>"
      ]
     },
     "metadata": {},
     "output_type": "display_data"
    }
   ],
   "source": [
    "# plot L + R gaze points\n",
    "plt.scatter(et_df.left_gaze_point_on_display_area_0[44], et_df.left_gaze_point_on_display_area_1[44], color = 'red')\n",
    "plt.scatter(et_df.right_gaze_point_on_display_area_0[44], et_df.right_gaze_point_on_display_area_1[44], color = 'blue')\n",
    "plt.xlim([-3,3])\n",
    "plt.ylim([-3,3])"
   ]
  },
  {
   "cell_type": "markdown",
   "metadata": {},
   "source": [
    "### Distance between gaze points"
   ]
  },
  {
   "cell_type": "code",
   "execution_count": 28,
   "metadata": {},
   "outputs": [],
   "source": [
    "# remove NaNs\n",
    "et_nums = et_df[~np.isnan(et_df.left_gaze_point_on_display_area_0) &\n",
    "        ~np.isnan(et_df.left_gaze_point_on_display_area_1) &\n",
    "        ~np.isnan(et_df.right_gaze_point_on_display_area_0) &\n",
    "        ~np.isnan(et_df.right_gaze_point_on_display_area_1)]"
   ]
  },
  {
   "cell_type": "code",
   "execution_count": 32,
   "metadata": {},
   "outputs": [],
   "source": [
    "sub_number = 1"
   ]
  },
  {
   "cell_type": "code",
   "execution_count": 35,
   "metadata": {},
   "outputs": [
    {
     "data": {
      "text/plain": [
       "'P5942694'"
      ]
     },
     "execution_count": 35,
     "metadata": {},
     "output_type": "execute_result"
    }
   ],
   "source": [
    "# xdf_path.split('/')[sub_number].split('-')\n",
    "sub_files[sub_number].split('/')[4].split('-')[1]\n"
   ]
  },
  {
   "cell_type": "code",
   "execution_count": 36,
   "metadata": {},
   "outputs": [
    {
     "data": {
      "image/png": "[encoded data removed]",
      "text/plain": [
       "<Figure size 640x480 with 1 Axes>"
      ]
     },
     "metadata": {},
     "output_type": "display_data"
    }
   ],
   "source": [
    "# distribution of distance between gaze points\n",
    "x1 = et_nums.right_gaze_point_on_display_area_0\n",
    "x2 = et_nums.left_gaze_point_on_display_area_0\n",
    "y1 = et_nums.right_gaze_point_on_display_area_1\n",
    "y2 = et_nums.left_gaze_point_on_display_area_1\n",
    "dists = np.sqrt((x2 - x1)**2 + (y2 - y1)**2)\n",
    "\n",
    "sub_name = sub_files[sub_number].split('/')[4].split('-')[1]\n",
    "\n",
    "plt.hist(dists, bins =75, alpha = 0.5)\n",
    "plt.title(f'Distribution of Distances Between \\nLeft and Right Gaze Point for Subject {sub_name}')\n",
    "plt.xlabel('Distance between L + R Gaze Points')\n",
    "plt.ylabel('Count')\n",
    "plt.show()\n"
   ]
  },
  {
   "cell_type": "code",
   "execution_count": 60,
   "metadata": {},
   "outputs": [
    {
     "name": "stdout",
     "output_type": "stream",
     "text": [
      "0.11% of Subject P5942694's data (including NaNs) has gaze points differences of over 0.2 mm(?)\n"
     ]
    }
   ],
   "source": [
    "# percent of distances over 0.2, including NaNs\n",
    "percent_over02 = round(sum(dists >= 0.2)/len(et_df) * 100, 2)\n",
    "\n",
    "# if percent_over02 > 5:\n",
    "print(f\"{percent_over02}% of Subject {sub_name}'s data (including NaNs) has gaze points differences of over 0.2 mm(?)\")"
   ]
  },
  {
   "cell_type": "code",
   "execution_count": 62,
   "metadata": {},
   "outputs": [
    {
     "name": "stdout",
     "output_type": "stream",
     "text": [
      "0.33% of Subject P5942694's data (excluding NaNs) has gaze points differences of over 0.2 mm(?)\n"
     ]
    }
   ],
   "source": [
    "# percent of non NaN distances over 0.2\n",
    "percent_over02_noNaN = round(sum(dists >= 0.2)/len(dists) * 100, 2)\n",
    "\n",
    "# if percent_over02_noNaN > 5:\n",
    "print(f\"{percent_over02_noNaN}% of Subject {sub_name}'s data (excluding NaNs) has gaze points differences of over 0.2 mm(?)\")"
   ]
  },
  {
   "cell_type": "markdown",
   "metadata": {},
   "source": [
    "### Plot Distances over Time"
   ]
  },
  {
   "cell_type": "code",
   "execution_count": 38,
   "metadata": {},
   "outputs": [
    {
     "data": {
      "text/plain": [
       "0        NaN\n",
       "1        NaN\n",
       "2        NaN\n",
       "3        NaN\n",
       "4        NaN\n",
       "          ..\n",
       "322441   NaN\n",
       "322442   NaN\n",
       "322443   NaN\n",
       "322444   NaN\n",
       "322445   NaN\n",
       "Length: 322446, dtype: float32"
      ]
     },
     "execution_count": 38,
     "metadata": {},
     "output_type": "execute_result"
    }
   ],
   "source": [
    "# calculate distances including NaNs\n",
    "x1 = et_df.right_gaze_point_on_display_area_0\n",
    "x2 = et_df.left_gaze_point_on_display_area_0\n",
    "y1 = et_df.right_gaze_point_on_display_area_1\n",
    "y2 = et_df.left_gaze_point_on_display_area_1\n",
    "all_dists = np.sqrt((x2 - x1)**2 + (y2 - y1)**2)\n",
    "all_dists   "
   ]
  },
  {
   "cell_type": "code",
   "execution_count": 40,
   "metadata": {},
   "outputs": [
    {
     "name": "stdout",
     "output_type": "stream",
     "text": [
      "percent over 0.20: 0.33%\n"
     ]
    },
    {
     "data": {
      "image/png": "[encoded data removed]",
      "text/plain": [
       "<Figure size 2000x400 with 1 Axes>"
      ]
     },
     "metadata": {},
     "output_type": "display_data"
    }
   ],
   "source": [
    "# plt w x = index \n",
    "plt.figure(figsize=(20, 4))\n",
    "plt.plot(all_dists)\n",
    "plt.title(f\"Distance between L+R gaze point over time for Subject {sub_name}\")\n",
    "plt.axhline(y = 0.2, color = 'red')\n",
    "plt.ylabel(\"Gaze Point Difference\")\n",
    "plt.xlabel(\"Time\")\n",
    "print(f\"percent over 0.20: {percent_over02}%\")\n",
    "plt.show()"
   ]
  },
  {
   "cell_type": "code",
   "execution_count": 41,
   "metadata": {},
   "outputs": [
    {
     "data": {
      "image/png": "[encoded data removed]",
      "text/plain": [
       "<Figure size 2000x400 with 1 Axes>"
      ]
     },
     "metadata": {},
     "output_type": "display_data"
    }
   ],
   "source": [
    "# plot with x = lsl time stamp\n",
    "plt.figure(figsize=(20, 4))\n",
    "plt.plot(et_df.lsl_time_stamp, all_dists)\n",
    "plt.title(f\"Distance between L+R gaze point over time for Subject {sub_name}\")\n",
    "plt.axhline(y = 0.2, color = 'red')\n",
    "plt.ylabel(\"Gaze Point Difference\")\n",
    "plt.xlabel(\"Time\")\n",
    "plt.show()"
   ]
  },
  {
   "cell_type": "markdown",
   "metadata": {},
   "source": [
    "## Compare R vs L validity across participants"
   ]
  },
  {
   "cell_type": "code",
   "execution_count": 47,
   "metadata": {},
   "outputs": [],
   "source": [
    "def RL_percent(id):\n",
    "    # load data\n",
    "    num = [i for i, string in enumerate(sub_files) if id in string][0]\n",
    "    xdf_path = sub_files[num]     \n",
    "    data, header = pyxdf.load_xdf(xdf_path, select_streams=[{'name':'Tobii'}])\n",
    "    streams_collected = [stream['info']['name'][0] for stream in data]\n",
    "\n",
    "    # extract eye tracking data\n",
    "    ET = data[streams_collected.index('Tobii')]\n",
    "    et_dat = ET['time_series']\n",
    "    column_labels = [ET['info']['desc'][0]['channels'][0]['channel'][i]['label'][0] for i in range(len(ET['info']['desc'][0]['channels'][0]['channel']))]\n",
    "    et_df = pd.DataFrame(data=et_dat, columns=column_labels)\n",
    "\n",
    "    # get percent valid items from validity columns\n",
    "    val_cols = et_df.filter(like = 'validity').columns\n",
    "    val_df = pd.DataFrame(columns = ['variable', 'percent_valid'])\n",
    "    val_df['variable'] = val_cols\n",
    "    for i, var in enumerate(val_cols):\n",
    "        val_df.loc[i, 'percent_valid'] = round(np.mean(et_df[var]), 4)\n",
    "\n",
    "    # compare mean left and right validity\n",
    "    left_df = val_df[val_df.variable.str.startswith('left')]\n",
    "    right_df = val_df[val_df.variable.str.startswith('right')]   \n",
    "    lmean = round(np.mean(left_df['percent_valid']), 4)\n",
    "    rmean = round(np.mean(right_df['percent_valid']), 4)\n",
    "\n",
    "    # format in a df for vibes \n",
    "    RL_val = pd.DataFrame(columns = ['eye', 'mean'])\n",
    "    RL_val = RL_val.reindex([0,1]) # adds NaN rows w index 0 + 1\n",
    "    RL_val.loc[[0, 1]] = [['left', lmean], ['right', rmean]]\n",
    "\n",
    "    diff = rmean - lmean\n",
    "\n",
    "    print('mean validity for left eye is {:.2%}.\\n\\\n",
    "mean validity for right eye is {:.2%}.\\n\\\n",
    "the difference is {:.2%}.'.format(lmean, rmean, abs(diff)))\n",
    "    \n",
    "    if diff > 0:\n",
    "        print(\"right eye has higher validity than left.\")\n",
    "    else:\n",
    "        print(\"left eye has higher validity than right.\")\n",
    "\n",
    "    return RL_val\n"
   ]
  },
  {
   "cell_type": "code",
   "execution_count": 48,
   "metadata": {},
   "outputs": [
    {
     "name": "stdout",
     "output_type": "stream",
     "text": [
      "mean validity for left eye is 60.10%.\n",
      "mean validity for right eye is 53.79%.\n",
      "the difference is 6.31%.\n",
      "left eye has higher validity than right.\n"
     ]
    },
    {
     "data": {
      "application/vnd.microsoft.datawrangler.viewer.v0+json": {
       "columns": [
        {
         "name": "index",
         "rawType": "int64",
         "type": "integer"
        },
        {
         "name": "eye",
         "rawType": "object",
         "type": "string"
        },
        {
         "name": "mean",
         "rawType": "object",
         "type": "unknown"
        }
       ],
       "conversionMethod": "pd.DataFrame",
       "ref": "1ff732dd-de4d-48ed-9f5f-1c37c9bfc976",
       "rows": [
        [
         "0",
         "left",
         "0.601"
        ],
        [
         "1",
         "right",
         "0.5379"
        ]
       ],
       "shape": {
        "columns": 2,
        "rows": 2
       }
      },
      "text/html": [
       "<div>\n",
       "<style scoped>\n",
       "    .dataframe tbody tr th:only-of-type {\n",
       "        vertical-align: middle;\n",
       "    }\n",
       "\n",
       "    .dataframe tbody tr th {\n",
       "        vertical-align: top;\n",
       "    }\n",
       "\n",
       "    .dataframe thead th {\n",
       "        text-align: right;\n",
       "    }\n",
       "</style>\n",
       "<table border=\"1\" class=\"dataframe\">\n",
       "  <thead>\n",
       "    <tr style=\"text-align: right;\">\n",
       "      <th></th>\n",
       "      <th>eye</th>\n",
       "      <th>mean</th>\n",
       "    </tr>\n",
       "  </thead>\n",
       "  <tbody>\n",
       "    <tr>\n",
       "      <th>0</th>\n",
       "      <td>left</td>\n",
       "      <td>0.601</td>\n",
       "    </tr>\n",
       "    <tr>\n",
       "      <th>1</th>\n",
       "      <td>right</td>\n",
       "      <td>0.5379</td>\n",
       "    </tr>\n",
       "  </tbody>\n",
       "</table>\n",
       "</div>"
      ],
      "text/plain": [
       "     eye    mean\n",
       "0   left   0.601\n",
       "1  right  0.5379"
      ]
     },
     "execution_count": 48,
     "metadata": {},
     "output_type": "execute_result"
    }
   ],
   "source": [
    "RL_percent(\"P5318014\")"
   ]
  },
  {
   "cell_type": "code",
   "execution_count": 49,
   "metadata": {},
   "outputs": [
    {
     "name": "stdout",
     "output_type": "stream",
     "text": [
      "mean validity for left eye is 41.29%.\n",
      "mean validity for right eye is 44.47%.\n",
      "the difference is 3.18%.\n",
      "right eye has higher validity than left.\n"
     ]
    },
    {
     "data": {
      "application/vnd.microsoft.datawrangler.viewer.v0+json": {
       "columns": [
        {
         "name": "index",
         "rawType": "int64",
         "type": "integer"
        },
        {
         "name": "eye",
         "rawType": "object",
         "type": "string"
        },
        {
         "name": "mean",
         "rawType": "object",
         "type": "unknown"
        }
       ],
       "conversionMethod": "pd.DataFrame",
       "ref": "5633d865-57ab-4c80-8da2-063f31870d27",
       "rows": [
        [
         "0",
         "left",
         "0.4129"
        ],
        [
         "1",
         "right",
         "0.4447"
        ]
       ],
       "shape": {
        "columns": 2,
        "rows": 2
       }
      },
      "text/html": [
       "<div>\n",
       "<style scoped>\n",
       "    .dataframe tbody tr th:only-of-type {\n",
       "        vertical-align: middle;\n",
       "    }\n",
       "\n",
       "    .dataframe tbody tr th {\n",
       "        vertical-align: top;\n",
       "    }\n",
       "\n",
       "    .dataframe thead th {\n",
       "        text-align: right;\n",
       "    }\n",
       "</style>\n",
       "<table border=\"1\" class=\"dataframe\">\n",
       "  <thead>\n",
       "    <tr style=\"text-align: right;\">\n",
       "      <th></th>\n",
       "      <th>eye</th>\n",
       "      <th>mean</th>\n",
       "    </tr>\n",
       "  </thead>\n",
       "  <tbody>\n",
       "    <tr>\n",
       "      <th>0</th>\n",
       "      <td>left</td>\n",
       "      <td>0.4129</td>\n",
       "    </tr>\n",
       "    <tr>\n",
       "      <th>1</th>\n",
       "      <td>right</td>\n",
       "      <td>0.4447</td>\n",
       "    </tr>\n",
       "  </tbody>\n",
       "</table>\n",
       "</div>"
      ],
      "text/plain": [
       "     eye    mean\n",
       "0   left  0.4129\n",
       "1  right  0.4447"
      ]
     },
     "execution_count": 49,
     "metadata": {},
     "output_type": "execute_result"
    }
   ],
   "source": [
    "RL_percent(\"5182010\")"
   ]
  },
  {
   "cell_type": "code",
   "execution_count": 50,
   "metadata": {},
   "outputs": [
    {
     "name": "stdout",
     "output_type": "stream",
     "text": [
      "mean validity for left eye is 83.59%.\n",
      "mean validity for right eye is 80.36%.\n",
      "the difference is 3.23%.\n",
      "left eye has higher validity than right.\n"
     ]
    },
    {
     "data": {
      "application/vnd.microsoft.datawrangler.viewer.v0+json": {
       "columns": [
        {
         "name": "index",
         "rawType": "int64",
         "type": "integer"
        },
        {
         "name": "eye",
         "rawType": "object",
         "type": "string"
        },
        {
         "name": "mean",
         "rawType": "object",
         "type": "unknown"
        }
       ],
       "conversionMethod": "pd.DataFrame",
       "ref": "7f7be582-852b-4239-b5a6-8f1dd517229a",
       "rows": [
        [
         "0",
         "left",
         "0.8359"
        ],
        [
         "1",
         "right",
         "0.8036"
        ]
       ],
       "shape": {
        "columns": 2,
        "rows": 2
       }
      },
      "text/html": [
       "<div>\n",
       "<style scoped>\n",
       "    .dataframe tbody tr th:only-of-type {\n",
       "        vertical-align: middle;\n",
       "    }\n",
       "\n",
       "    .dataframe tbody tr th {\n",
       "        vertical-align: top;\n",
       "    }\n",
       "\n",
       "    .dataframe thead th {\n",
       "        text-align: right;\n",
       "    }\n",
       "</style>\n",
       "<table border=\"1\" class=\"dataframe\">\n",
       "  <thead>\n",
       "    <tr style=\"text-align: right;\">\n",
       "      <th></th>\n",
       "      <th>eye</th>\n",
       "      <th>mean</th>\n",
       "    </tr>\n",
       "  </thead>\n",
       "  <tbody>\n",
       "    <tr>\n",
       "      <th>0</th>\n",
       "      <td>left</td>\n",
       "      <td>0.8359</td>\n",
       "    </tr>\n",
       "    <tr>\n",
       "      <th>1</th>\n",
       "      <td>right</td>\n",
       "      <td>0.8036</td>\n",
       "    </tr>\n",
       "  </tbody>\n",
       "</table>\n",
       "</div>"
      ],
      "text/plain": [
       "     eye    mean\n",
       "0   left  0.8359\n",
       "1  right  0.8036"
      ]
     },
     "execution_count": 50,
     "metadata": {},
     "output_type": "execute_result"
    }
   ],
   "source": [
    "RL_percent(\"P5548165\")"
   ]
  },
  {
   "cell_type": "markdown",
   "metadata": {},
   "source": [
    "## Compare display area min + max across participants"
   ]
  },
  {
   "cell_type": "code",
   "execution_count": 51,
   "metadata": {},
   "outputs": [],
   "source": [
    "def display_minmax(id):\n",
    "    # load data\n",
    "    num = [i for i, string in enumerate(sub_files) if id in string][0]\n",
    "    xdf_path = sub_files[num]     \n",
    "    data, header = pyxdf.load_xdf(xdf_path, select_streams=[{'name':'Tobii'}])\n",
    "    streams_collected = [stream['info']['name'][0] for stream in data]\n",
    "\n",
    "    # extract eye tracking data\n",
    "    ET = data[streams_collected.index('Tobii')]\n",
    "    et_dat = ET['time_series']\n",
    "    column_labels = [ET['info']['desc'][0]['channels'][0]['channel'][i]['label'][0] for i in range(len(ET['info']['desc'][0]['channels'][0]['channel']))]\n",
    "    et_df = pd.DataFrame(data=et_dat, columns=column_labels)\n",
    "\n",
    "    # get \n",
    "    minmax = {}\n",
    "    for eye, e in zip(['left', 'right'], ['l', 'r']):\n",
    "        for disp in ['0', '1']:\n",
    "            minmax[f'min_{e}{disp}'] = round(np.nanmin(et_df['{}_gaze_point_on_display_area_{}'.format(eye, disp)]), 3)\n",
    "            minmax[f'max_{e}{disp}'] = round(np.nanmax(et_df['{}_gaze_point_on_display_area_{}'.format(eye, disp)]), 3)\n",
    "\n",
    "    left_display = pd.DataFrame(columns = ['display area', 'min', 'max'])\n",
    "    right_display = pd.DataFrame(columns = ['display area', 'min', 'max'])\n",
    "\n",
    "    left_display.loc[0] = ['0', minmax['min_l0'], minmax['max_l0']]\n",
    "    left_display.loc[1] = ['1', minmax['min_l1'], minmax['max_l1']]\n",
    "    right_display.loc[0] = ['0', minmax['min_r0'], minmax['max_r0']]\n",
    "    right_display.loc[1] = ['1', minmax['min_r1'], minmax['max_r1']]\n",
    "\n",
    "    print(\"left:\")\n",
    "    display(left_display)\n",
    "    print(\"\\nright:\")\n",
    "    display(right_display)\n",
    "\n",
    "    print(f\"The difference between left and right is: \\n\\\n",
    "      display area 0 min: {minmax['min_l0']-minmax['min_r0']:.3}, max: {minmax['max_l0']-minmax['max_r0']:.3} \\n\\\n",
    "      display area 1 min: {minmax['min_l1']-minmax['min_r1']:.3}, max: {minmax['max_l1']-minmax['max_r1']:.3}\")\n",
    "\n",
    "\n",
    "\n"
   ]
  },
  {
   "cell_type": "code",
   "execution_count": 52,
   "metadata": {},
   "outputs": [
    {
     "name": "stdout",
     "output_type": "stream",
     "text": [
      "left:\n"
     ]
    },
    {
     "data": {
      "application/vnd.microsoft.datawrangler.viewer.v0+json": {
       "columns": [
        {
         "name": "index",
         "rawType": "int64",
         "type": "integer"
        },
        {
         "name": "display area",
         "rawType": "object",
         "type": "string"
        },
        {
         "name": "min",
         "rawType": "float32",
         "type": "float"
        },
        {
         "name": "max",
         "rawType": "float32",
         "type": "float"
        }
       ],
       "conversionMethod": "pd.DataFrame",
       "ref": "8b331f21-6898-4665-9596-52daf8b02096",
       "rows": [
        [
         "0",
         "0",
         "-1.154",
         "2.133"
        ],
        [
         "1",
         "1",
         "-0.675",
         "1.785"
        ]
       ],
       "shape": {
        "columns": 3,
        "rows": 2
       }
      },
      "text/html": [
       "<div>\n",
       "<style scoped>\n",
       "    .dataframe tbody tr th:only-of-type {\n",
       "        vertical-align: middle;\n",
       "    }\n",
       "\n",
       "    .dataframe tbody tr th {\n",
       "        vertical-align: top;\n",
       "    }\n",
       "\n",
       "    .dataframe thead th {\n",
       "        text-align: right;\n",
       "    }\n",
       "</style>\n",
       "<table border=\"1\" class=\"dataframe\">\n",
       "  <thead>\n",
       "    <tr style=\"text-align: right;\">\n",
       "      <th></th>\n",
       "      <th>display area</th>\n",
       "      <th>min</th>\n",
       "      <th>max</th>\n",
       "    </tr>\n",
       "  </thead>\n",
       "  <tbody>\n",
       "    <tr>\n",
       "      <th>0</th>\n",
       "      <td>0</td>\n",
       "      <td>-1.154</td>\n",
       "      <td>2.133</td>\n",
       "    </tr>\n",
       "    <tr>\n",
       "      <th>1</th>\n",
       "      <td>1</td>\n",
       "      <td>-0.675</td>\n",
       "      <td>1.785</td>\n",
       "    </tr>\n",
       "  </tbody>\n",
       "</table>\n",
       "</div>"
      ],
      "text/plain": [
       "  display area    min    max\n",
       "0            0 -1.154  2.133\n",
       "1            1 -0.675  1.785"
      ]
     },
     "metadata": {},
     "output_type": "display_data"
    },
    {
     "name": "stdout",
     "output_type": "stream",
     "text": [
      "\n",
      "right:\n"
     ]
    },
    {
     "data": {
      "application/vnd.microsoft.datawrangler.viewer.v0+json": {
       "columns": [
        {
         "name": "index",
         "rawType": "int64",
         "type": "integer"
        },
        {
         "name": "display area",
         "rawType": "object",
         "type": "string"
        },
        {
         "name": "min",
         "rawType": "float32",
         "type": "float"
        },
        {
         "name": "max",
         "rawType": "float32",
         "type": "float"
        }
       ],
       "conversionMethod": "pd.DataFrame",
       "ref": "3e95bc1f-a167-4391-a154-85c0c299a563",
       "rows": [
        [
         "0",
         "0",
         "-1.615",
         "2.027"
        ],
        [
         "1",
         "1",
         "-0.663",
         "1.76"
        ]
       ],
       "shape": {
        "columns": 3,
        "rows": 2
       }
      },
      "text/html": [
       "<div>\n",
       "<style scoped>\n",
       "    .dataframe tbody tr th:only-of-type {\n",
       "        vertical-align: middle;\n",
       "    }\n",
       "\n",
       "    .dataframe tbody tr th {\n",
       "        vertical-align: top;\n",
       "    }\n",
       "\n",
       "    .dataframe thead th {\n",
       "        text-align: right;\n",
       "    }\n",
       "</style>\n",
       "<table border=\"1\" class=\"dataframe\">\n",
       "  <thead>\n",
       "    <tr style=\"text-align: right;\">\n",
       "      <th></th>\n",
       "      <th>display area</th>\n",
       "      <th>min</th>\n",
       "      <th>max</th>\n",
       "    </tr>\n",
       "  </thead>\n",
       "  <tbody>\n",
       "    <tr>\n",
       "      <th>0</th>\n",
       "      <td>0</td>\n",
       "      <td>-1.615</td>\n",
       "      <td>2.027</td>\n",
       "    </tr>\n",
       "    <tr>\n",
       "      <th>1</th>\n",
       "      <td>1</td>\n",
       "      <td>-0.663</td>\n",
       "      <td>1.760</td>\n",
       "    </tr>\n",
       "  </tbody>\n",
       "</table>\n",
       "</div>"
      ],
      "text/plain": [
       "  display area    min    max\n",
       "0            0 -1.615  2.027\n",
       "1            1 -0.663  1.760"
      ]
     },
     "metadata": {},
     "output_type": "display_data"
    },
    {
     "name": "stdout",
     "output_type": "stream",
     "text": [
      "The difference between left and right is: \n",
      "      display area 0 min: 0.461, max: 0.106 \n",
      "      display area 1 min: -0.012, max: 0.025\n"
     ]
    }
   ],
   "source": [
    "display_minmax(\"P5318014\")"
   ]
  },
  {
   "cell_type": "code",
   "execution_count": 53,
   "metadata": {},
   "outputs": [
    {
     "name": "stdout",
     "output_type": "stream",
     "text": [
      "left:\n"
     ]
    },
    {
     "data": {
      "application/vnd.microsoft.datawrangler.viewer.v0+json": {
       "columns": [
        {
         "name": "index",
         "rawType": "int64",
         "type": "integer"
        },
        {
         "name": "display area",
         "rawType": "object",
         "type": "string"
        },
        {
         "name": "min",
         "rawType": "float32",
         "type": "float"
        },
        {
         "name": "max",
         "rawType": "float32",
         "type": "float"
        }
       ],
       "conversionMethod": "pd.DataFrame",
       "ref": "a8ac50ad-5a35-4508-86e7-d74391ee6428",
       "rows": [
        [
         "0",
         "0",
         "-1.137",
         "2.029"
        ],
        [
         "1",
         "1",
         "-0.786",
         "1.473"
        ]
       ],
       "shape": {
        "columns": 3,
        "rows": 2
       }
      },
      "text/html": [
       "<div>\n",
       "<style scoped>\n",
       "    .dataframe tbody tr th:only-of-type {\n",
       "        vertical-align: middle;\n",
       "    }\n",
       "\n",
       "    .dataframe tbody tr th {\n",
       "        vertical-align: top;\n",
       "    }\n",
       "\n",
       "    .dataframe thead th {\n",
       "        text-align: right;\n",
       "    }\n",
       "</style>\n",
       "<table border=\"1\" class=\"dataframe\">\n",
       "  <thead>\n",
       "    <tr style=\"text-align: right;\">\n",
       "      <th></th>\n",
       "      <th>display area</th>\n",
       "      <th>min</th>\n",
       "      <th>max</th>\n",
       "    </tr>\n",
       "  </thead>\n",
       "  <tbody>\n",
       "    <tr>\n",
       "      <th>0</th>\n",
       "      <td>0</td>\n",
       "      <td>-1.137</td>\n",
       "      <td>2.029</td>\n",
       "    </tr>\n",
       "    <tr>\n",
       "      <th>1</th>\n",
       "      <td>1</td>\n",
       "      <td>-0.786</td>\n",
       "      <td>1.473</td>\n",
       "    </tr>\n",
       "  </tbody>\n",
       "</table>\n",
       "</div>"
      ],
      "text/plain": [
       "  display area    min    max\n",
       "0            0 -1.137  2.029\n",
       "1            1 -0.786  1.473"
      ]
     },
     "metadata": {},
     "output_type": "display_data"
    },
    {
     "name": "stdout",
     "output_type": "stream",
     "text": [
      "\n",
      "right:\n"
     ]
    },
    {
     "data": {
      "application/vnd.microsoft.datawrangler.viewer.v0+json": {
       "columns": [
        {
         "name": "index",
         "rawType": "int64",
         "type": "integer"
        },
        {
         "name": "display area",
         "rawType": "object",
         "type": "string"
        },
        {
         "name": "min",
         "rawType": "float32",
         "type": "float"
        },
        {
         "name": "max",
         "rawType": "float32",
         "type": "float"
        }
       ],
       "conversionMethod": "pd.DataFrame",
       "ref": "f3b7c3cd-8305-46a7-acf3-2424c81c569b",
       "rows": [
        [
         "0",
         "0",
         "-1.338",
         "1.621"
        ],
        [
         "1",
         "1",
         "-0.678",
         "1.445"
        ]
       ],
       "shape": {
        "columns": 3,
        "rows": 2
       }
      },
      "text/html": [
       "<div>\n",
       "<style scoped>\n",
       "    .dataframe tbody tr th:only-of-type {\n",
       "        vertical-align: middle;\n",
       "    }\n",
       "\n",
       "    .dataframe tbody tr th {\n",
       "        vertical-align: top;\n",
       "    }\n",
       "\n",
       "    .dataframe thead th {\n",
       "        text-align: right;\n",
       "    }\n",
       "</style>\n",
       "<table border=\"1\" class=\"dataframe\">\n",
       "  <thead>\n",
       "    <tr style=\"text-align: right;\">\n",
       "      <th></th>\n",
       "      <th>display area</th>\n",
       "      <th>min</th>\n",
       "      <th>max</th>\n",
       "    </tr>\n",
       "  </thead>\n",
       "  <tbody>\n",
       "    <tr>\n",
       "      <th>0</th>\n",
       "      <td>0</td>\n",
       "      <td>-1.338</td>\n",
       "      <td>1.621</td>\n",
       "    </tr>\n",
       "    <tr>\n",
       "      <th>1</th>\n",
       "      <td>1</td>\n",
       "      <td>-0.678</td>\n",
       "      <td>1.445</td>\n",
       "    </tr>\n",
       "  </tbody>\n",
       "</table>\n",
       "</div>"
      ],
      "text/plain": [
       "  display area    min    max\n",
       "0            0 -1.338  1.621\n",
       "1            1 -0.678  1.445"
      ]
     },
     "metadata": {},
     "output_type": "display_data"
    },
    {
     "name": "stdout",
     "output_type": "stream",
     "text": [
      "The difference between left and right is: \n",
      "      display area 0 min: 0.201, max: 0.408 \n",
      "      display area 1 min: -0.108, max: 0.028\n"
     ]
    }
   ],
   "source": [
    "display_minmax(\"P5548165\")"
   ]
  },
  {
   "cell_type": "code",
   "execution_count": 54,
   "metadata": {},
   "outputs": [
    {
     "name": "stdout",
     "output_type": "stream",
     "text": [
      "left:\n"
     ]
    },
    {
     "data": {
      "application/vnd.microsoft.datawrangler.viewer.v0+json": {
       "columns": [
        {
         "name": "index",
         "rawType": "int64",
         "type": "integer"
        },
        {
         "name": "display area",
         "rawType": "object",
         "type": "string"
        },
        {
         "name": "min",
         "rawType": "float32",
         "type": "float"
        },
        {
         "name": "max",
         "rawType": "float32",
         "type": "float"
        }
       ],
       "conversionMethod": "pd.DataFrame",
       "ref": "a998de44-fdbc-4e8c-b4c6-ee52bc163729",
       "rows": [
        [
         "0",
         "0",
         "-1.575",
         "3.499"
        ],
        [
         "1",
         "1",
         "-0.73",
         "2.154"
        ]
       ],
       "shape": {
        "columns": 3,
        "rows": 2
       }
      },
      "text/html": [
       "<div>\n",
       "<style scoped>\n",
       "    .dataframe tbody tr th:only-of-type {\n",
       "        vertical-align: middle;\n",
       "    }\n",
       "\n",
       "    .dataframe tbody tr th {\n",
       "        vertical-align: top;\n",
       "    }\n",
       "\n",
       "    .dataframe thead th {\n",
       "        text-align: right;\n",
       "    }\n",
       "</style>\n",
       "<table border=\"1\" class=\"dataframe\">\n",
       "  <thead>\n",
       "    <tr style=\"text-align: right;\">\n",
       "      <th></th>\n",
       "      <th>display area</th>\n",
       "      <th>min</th>\n",
       "      <th>max</th>\n",
       "    </tr>\n",
       "  </thead>\n",
       "  <tbody>\n",
       "    <tr>\n",
       "      <th>0</th>\n",
       "      <td>0</td>\n",
       "      <td>-1.575</td>\n",
       "      <td>3.499</td>\n",
       "    </tr>\n",
       "    <tr>\n",
       "      <th>1</th>\n",
       "      <td>1</td>\n",
       "      <td>-0.730</td>\n",
       "      <td>2.154</td>\n",
       "    </tr>\n",
       "  </tbody>\n",
       "</table>\n",
       "</div>"
      ],
      "text/plain": [
       "  display area    min    max\n",
       "0            0 -1.575  3.499\n",
       "1            1 -0.730  2.154"
      ]
     },
     "metadata": {},
     "output_type": "display_data"
    },
    {
     "name": "stdout",
     "output_type": "stream",
     "text": [
      "\n",
      "right:\n"
     ]
    },
    {
     "data": {
      "application/vnd.microsoft.datawrangler.viewer.v0+json": {
       "columns": [
        {
         "name": "index",
         "rawType": "int64",
         "type": "integer"
        },
        {
         "name": "display area",
         "rawType": "object",
         "type": "string"
        },
        {
         "name": "min",
         "rawType": "float32",
         "type": "float"
        },
        {
         "name": "max",
         "rawType": "float32",
         "type": "float"
        }
       ],
       "conversionMethod": "pd.DataFrame",
       "ref": "80a643c6-1c99-40cf-b557-6893228b5fc4",
       "rows": [
        [
         "0",
         "0",
         "-2.383",
         "2.358"
        ],
        [
         "1",
         "1",
         "-0.885",
         "2.102"
        ]
       ],
       "shape": {
        "columns": 3,
        "rows": 2
       }
      },
      "text/html": [
       "<div>\n",
       "<style scoped>\n",
       "    .dataframe tbody tr th:only-of-type {\n",
       "        vertical-align: middle;\n",
       "    }\n",
       "\n",
       "    .dataframe tbody tr th {\n",
       "        vertical-align: top;\n",
       "    }\n",
       "\n",
       "    .dataframe thead th {\n",
       "        text-align: right;\n",
       "    }\n",
       "</style>\n",
       "<table border=\"1\" class=\"dataframe\">\n",
       "  <thead>\n",
       "    <tr style=\"text-align: right;\">\n",
       "      <th></th>\n",
       "      <th>display area</th>\n",
       "      <th>min</th>\n",
       "      <th>max</th>\n",
       "    </tr>\n",
       "  </thead>\n",
       "  <tbody>\n",
       "    <tr>\n",
       "      <th>0</th>\n",
       "      <td>0</td>\n",
       "      <td>-2.383</td>\n",
       "      <td>2.358</td>\n",
       "    </tr>\n",
       "    <tr>\n",
       "      <th>1</th>\n",
       "      <td>1</td>\n",
       "      <td>-0.885</td>\n",
       "      <td>2.102</td>\n",
       "    </tr>\n",
       "  </tbody>\n",
       "</table>\n",
       "</div>"
      ],
      "text/plain": [
       "  display area    min    max\n",
       "0            0 -2.383  2.358\n",
       "1            1 -0.885  2.102"
      ]
     },
     "metadata": {},
     "output_type": "display_data"
    },
    {
     "name": "stdout",
     "output_type": "stream",
     "text": [
      "The difference between left and right is: \n",
      "      display area 0 min: 0.808, max: 1.14 \n",
      "      display area 1 min: 0.155, max: 0.052\n"
     ]
    }
   ],
   "source": [
    "display_minmax(\"5182010\")"
   ]
  }
 ],
 "metadata": {
  "kernelspec": {
   "display_name": "cuny_env",
   "language": "python",
   "name": "python3"
  },
  "language_info": {
   "codemirror_mode": {
    "name": "ipython",
    "version": 3
   },
   "file_extension": ".py",
   "mimetype": "text/x-python",
   "name": "python",
   "nbconvert_exporter": "python",
   "pygments_lexer": "ipython3",
   "version": "3.12.7"
  }
 },
 "nbformat": 4,
 "nbformat_minor": 2
}
