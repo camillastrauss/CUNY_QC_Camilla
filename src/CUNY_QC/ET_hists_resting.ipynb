{
 "cells": [
  {
   "cell_type": "markdown",
   "metadata": {},
   "source": [
    "# Imports"
   ]
  },
  {
   "cell_type": "code",
   "execution_count": 1,
   "metadata": {},
   "outputs": [],
   "source": [
    "import pyxdf\n",
    "import pandas as pd\n",
    "import numpy as np\n",
    "import sounddevice as sd\n",
    "from glob import glob\n",
    "from tqdm import tqdm\n",
    "import datetime\n",
    "import re\n",
    "import matplotlib.pyplot as plt"
   ]
  },
  {
   "cell_type": "markdown",
   "metadata": {},
   "source": [
    "# Globals"
   ]
  },
  {
   "cell_type": "code",
   "execution_count": 2,
   "metadata": {},
   "outputs": [],
   "source": [
    "sub_files = glob('../../../*/*.xdf')\n",
    "def get_event_data(event, df, stim_df):\n",
    "    return df.loc[(df.lsl_time_stamp >= stim_df.loc[stim_df.event == 'Onset_'+event, 'lsl_time_stamp'].values[0]) & \n",
    "                  (df.lsl_time_stamp <= stim_df.loc[stim_df.event == 'Offset_'+event, 'lsl_time_stamp'].values[0])]\n",
    "\n",
    "def get_secs_between_triggers(trigger1, trigger2, stim_df):\n",
    "    return stim_df.loc[stim_df.trigger == trigger1, 'time'].values[0] - stim_df.loc[stim_df.trigger == trigger2, 'time'].values[0]\n",
    "\n",
    "events = {\n",
    "    200: 'Onset_Experiment',\n",
    "    10: 'Onset_RestingState',\n",
    "    11: 'Offset_RestingState',\n",
    "    500: 'Onset_StoryListening',\n",
    "    501: 'Offset_StoryListening',\n",
    "    100: 'Onset_10second_rest',\n",
    "    101: 'Offset_10second_rest', \n",
    "    20: 'Onset_CampFriend',\n",
    "    21: 'Offset_CampFriend',\n",
    "    30: 'Onset_FrogDissection',\n",
    "    31: 'Offset_FrogDissection',\n",
    "    40: 'Onset_DanceContest',\n",
    "    41: 'Offset_DanceContest',\n",
    "    50: 'Onset_ZoomClass',\n",
    "    51: 'Offset_ZoomClass',\n",
    "    60: 'Onset_Tornado',\n",
    "    61: 'Offset_Tornado',\n",
    "    70: 'Onset_BirthdayParty',\n",
    "    71: 'Offset_BirthdayParty',\n",
    "    300: 'Onset_subjectInput',\n",
    "    301: 'Offset_subjectInput',\n",
    "    302: 'Onset_FavoriteStory',\n",
    "    303: 'Offset_FavoriteStory',\n",
    "    304: 'Onset_WorstStory',\n",
    "    305: 'Offset_WorstStory',\n",
    "    400: 'Onset_impedanceCheck',\n",
    "    401: 'Offset_impedanceCheck',\n",
    "    80: 'Onset_SocialTask',\n",
    "    81: 'Offset_SocialTask',\n",
    "    201: 'Offset_Experiment',\n",
    "}\n",
    "\n",
    "story_onsets = [20, 30, 40, 50, 60, 70]"
   ]
  },
  {
   "cell_type": "markdown",
   "metadata": {},
   "source": [
    "# hist of euclidian distances between left and right eye gaze points"
   ]
  },
  {
   "cell_type": "code",
   "execution_count": 3,
   "metadata": {},
   "outputs": [],
   "source": [
    "def gaze_point_histogram(pt_number, ax):\n",
    "    # load data\n",
    "    xdf_path = sub_files[pt_number]\n",
    "    data, header = pyxdf.load_xdf(xdf_path)\n",
    "    streams_collected = [stream['info']['name'][0] for stream in data]\n",
    "\n",
    "    # ET data\n",
    "    ET = data[streams_collected.index('Tobii')]\n",
    "    et_dat = ET['time_series']\n",
    "    column_labels = [ET['info']['desc'][0]['channels'][0]['channel'][i]['label'][0] for i in range(len(ET['info']['desc'][0]['channels'][0]['channel']))]\n",
    "\n",
    "    et_df = pd.DataFrame(data=et_dat, columns=column_labels)\n",
    "    et_df['lsl_time_stamp'] = ET['time_stamps']\n",
    "    et_df['time'] = (ET['time_stamps'] - ET['time_stamps'][0])/1000\n",
    "\n",
    "    # stim\n",
    "    stim_dat = data[streams_collected.index('Stimuli_Markers')]\n",
    "    stim_df = pd.DataFrame(stim_dat['time_series'])\n",
    "    stim_df.rename(columns={0: 'trigger'}, inplace=True)\n",
    "    stim_df['event'] = stim_df['trigger'].apply(lambda x: events[x] if x in events.keys() else 'Bx_input')\n",
    "    stim_df['lsl_time_stamp'] = stim_dat['time_stamps']\n",
    "\n",
    "    # resting state \n",
    "    et_resting = get_event_data('RestingState', et_df, stim_df)\n",
    "    \n",
    "    # euclid distance \n",
    "    x1 = et_resting.right_gaze_point_on_display_area_0\n",
    "    x2 = et_resting.left_gaze_point_on_display_area_0\n",
    "    y1 = et_resting.right_gaze_point_on_display_area_1\n",
    "    y2 = et_resting.left_gaze_point_on_display_area_1\n",
    "    dists = np.sqrt((x2 - x1)**2 + (y2 - y1)**2)\n",
    "\n",
    "    # return vars\n",
    "    sub_name = xdf_path.split('/')[3].split('-')[1]\n",
    "    dmax = np.nanmax(dists)\n",
    "    rest_nsamp = len(et_resting)\n",
    "    nsamp = int(ET['footer']['info']['sample_count'][0])\n",
    "    srate = round(ET['info']['effective_srate'], 4)\n",
    "\n",
    "\n",
    "    # plot\n",
    "    if ax is None:\n",
    "        fig, ax = plt.subplots()\n",
    "\n",
    "    ax.hist(dists, bins =75, alpha = 0.6, label = sub_name)\n",
    "    ax.set_title(f'Distribution of Distances Between \\nLeft and Right Gaze Points for Subject {sub_name}')\n",
    "    ax.set_xlabel('Distance between L + R Gaze Points')\n",
    "    ax.set_ylabel('Count')\n",
    "\n",
    "    return sub_name, dmax, rest_nsamp, nsamp, srate, ax\n",
    "\n"
   ]
  },
  {
   "cell_type": "code",
   "execution_count": null,
   "metadata": {},
   "outputs": [],
   "source": [
    "fig, ax = plt.subplots()\n",
    "results = []\n",
    "\n",
    "for i in range(6):\n",
    "    sub_name, dmax, rest_nsamp, nsamp, srate, _ = gaze_point_histogram(i, ax=ax)  # Pass shared axes\n",
    "    results.append({'input': i, 'sub_id': sub_name, 'dmax': dmax, 'rest_nsamp': rest_nsamp, 'nsamp': nsamp, 'srate': srate})\n",
    "\n",
    "ax.legend(title = 'Subjects')\n",
    "ax.set_title('Distribution of Distances Between \\nLeft and Right Gaze Points for All Subjects \\n For Resting State')\n",
    "plt.show()"
   ]
  },
  {
   "cell_type": "code",
   "execution_count": 10,
   "metadata": {},
   "outputs": [
    {
     "name": "stdout",
     "output_type": "stream",
     "text": [
      "[{'input': 0, 'sub_id': 'P5318014', 'dmax': 1.0374001, 'rest_nsamp': 35998, 'nsamp': 170396, 'srate': 119.9959},\n",
      " {'input': 1, 'sub_id': '5182010', 'dmax': 1.4889534, 'rest_nsamp': 35998, 'nsamp': 137769, 'srate': 119.9958},\n",
      " {'input': 2, 'sub_id': 'P5447527', 'dmax': 0.84232503, 'rest_nsamp': 35998, 'nsamp': 300111, 'srate': 119.9959},\n",
      " {'input': 3, 'sub_id': '5958030', 'dmax': 1.4130424, 'rest_nsamp': 35999, 'nsamp': 273627, 'srate': 119.9957},\n",
      " {'input': 4, 'sub_id': 'P5899288', 'dmax': 0.87437904, 'rest_nsamp': 35998, 'nsamp': 292138, 'srate': 119.9957},\n",
      " {'input': 5, 'sub_id': 'P5548165', 'dmax': 0.34537977, 'rest_nsamp': 35999, 'nsamp': 187767, 'srate': 119.996}]\n"
     ]
    }
   ],
   "source": [
    "from pprint import pprint\n",
    "\n",
    "pprint(results, width = 200, sort_dicts = False)"
   ]
  }
 ],
 "metadata": {
  "kernelspec": {
   "display_name": "cuny_env",
   "language": "python",
   "name": "python3"
  },
  "language_info": {
   "codemirror_mode": {
    "name": "ipython",
    "version": 3
   },
   "file_extension": ".py",
   "mimetype": "text/x-python",
   "name": "python",
   "nbconvert_exporter": "python",
   "pygments_lexer": "ipython3",
   "version": "3.12.7"
  }
 },
 "nbformat": 4,
 "nbformat_minor": 2
}
