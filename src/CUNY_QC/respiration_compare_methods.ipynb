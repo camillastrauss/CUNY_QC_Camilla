{
 "cells": [
  {
   "cell_type": "markdown",
   "metadata": {},
   "source": [
    "# Imports"
   ]
  },
  {
   "cell_type": "code",
   "execution_count": 4,
   "metadata": {},
   "outputs": [],
   "source": [
    "# Load NeuroKit and other useful packages\n",
    "import neurokit2 as nk\n",
    "import numpy as np\n",
    "import pandas as pd\n",
    "import matplotlib.pyplot as plt\n",
    "import pyxdf\n",
    "from glob import glob"
   ]
  },
  {
   "cell_type": "markdown",
   "metadata": {},
   "source": [
    "# Load Data"
   ]
  },
  {
   "cell_type": "code",
   "execution_count": 57,
   "metadata": {},
   "outputs": [
    {
     "data": {
      "text/plain": [
       "['../../../Data/sub-P5318014/sub-P5318014_ses-S001_task-CUNY_run-001_mobi.xdf',\n",
       " '../../../Data/sub-P5942694/sub-P5942694_ses-S001_task-CUNY_run-001_mobi.xdf',\n",
       " '../../../Data/sub-5182010/sub-P5182010_ses-S001_task-CUNY_run-001_mobi.xdf',\n",
       " '../../../Data/sub-P5287460/sub-P5287460_ses-S001_task-CUNY_run-001_mobi.xdf',\n",
       " '../../../Data/sub-P5447527/sub-P5447527_ses-S001_task-CUNY_run-001_mobi.xdf',\n",
       " '../../../Data/sub-5958030/sub-P5958030_ses-S001_task-CUNY_run-001_mobi.xdf',\n",
       " '../../../Data/sub-P5899288/sub-P5899288_ses-S001_task-CUNY_run-001_mobi.xdf',\n",
       " '../../../Data/sub-P5813427/sub-P5813427_ses-S001_task-CUNY_run-001_mobi.xdf',\n",
       " '../../../Data/sub-P5070899/sub-P5070899_ses-S001_task-CUNY_run-001_mobi.xdf',\n",
       " '../../../Data/sub-P5548165/sub-P5548165_ses-S001_task-CUNY_run-001_MOBI.xdf']"
      ]
     },
     "execution_count": 57,
     "metadata": {},
     "output_type": "execute_result"
    }
   ],
   "source": [
    "sub_files = glob('../../../Data/*/*.xdf')\n",
    "sub_files"
   ]
  },
  {
   "cell_type": "code",
   "execution_count": 58,
   "metadata": {},
   "outputs": [
    {
     "data": {
      "text/plain": [
       "['Stimuli_Markers', 'OpenSignals']"
      ]
     },
     "execution_count": 58,
     "metadata": {},
     "output_type": "execute_result"
    }
   ],
   "source": [
    "sub_number = 3\n",
    "xdf_path = sub_files[sub_number]\n",
    "data, header = pyxdf.load_xdf(xdf_path, select_streams=[{'name':'OpenSignals'}, {'type': 'Markers'}])\n",
    "streams_collected = [stream['info']['name'][0] for stream in data]\n",
    "\n",
    "\n",
    "'''\n",
    "HELPERS\n",
    "'''\n",
    "def get_event_data(event, df, stim_df):\n",
    "    return df.loc[(df.lsl_time_stamp >= stim_df.loc[stim_df.event == 'Onset_'+event, 'lsl_time_stamp'].values[0]) & \n",
    "                  (df.lsl_time_stamp <= stim_df.loc[stim_df.event == 'Offset_'+event, 'lsl_time_stamp'].values[0])]\n",
    "\n",
    "def get_secs_between_triggers(trigger1, trigger2, stim_df):\n",
    "    return stim_df.loc[stim_df.trigger == trigger1, 'time'].values[0] - stim_df.loc[stim_df.trigger == trigger2, 'time'].values[0]\n",
    "\n",
    "                  \n",
    "streams_collected"
   ]
  },
  {
   "cell_type": "code",
   "execution_count": 59,
   "metadata": {},
   "outputs": [],
   "source": [
    "PS = data[streams_collected.index('OpenSignals')]\n",
    "# Get the column names\n",
    "column_labels = [PS['info']['desc'][0]['channels'][0]['channel'][i]['label'][0] for i in range(len(PS['info']['desc'][0]['channels'][0]['channel']))]\n",
    "ps_df = pd.DataFrame(data=PS['time_series'], columns=column_labels)\n",
    "ps_df['lsl_time_stamp'] = PS['time_stamps']\n",
    "ps_df['time'] = (PS['time_stamps'] - PS['time_stamps'][0])/1000"
   ]
  },
  {
   "cell_type": "code",
   "execution_count": 60,
   "metadata": {},
   "outputs": [],
   "source": [
    "srate = PS['info']['effective_srate']\n",
    "\n",
    "rsp_df = ps_df[['RESPIRATION0', 'lsl_time_stamp']].rename(columns={'RESPIRATION0': 'respiration'})\n",
    "rsp = rsp_df.respiration"
   ]
  },
  {
   "cell_type": "code",
   "execution_count": 61,
   "metadata": {},
   "outputs": [],
   "source": [
    "events = {\n",
    "    200: 'Onset_Experiment',\n",
    "    10: 'Onset_RestingState',\n",
    "    11: 'Offset_RestingState',\n",
    "    500: 'Onset_StoryListening',\n",
    "    501: 'Offset_StoryListening',\n",
    "    100: 'Onset_10second_rest',\n",
    "    101: 'Offset_10second_rest', \n",
    "    20: 'Onset_CampFriend',\n",
    "    21: 'Offset_CampFriend',\n",
    "    30: 'Onset_FrogDissection',\n",
    "    31: 'Offset_FrogDissection',\n",
    "    40: 'Onset_DanceContest',\n",
    "    41: 'Offset_DanceContest',\n",
    "    50: 'Onset_ZoomClass',\n",
    "    51: 'Offset_ZoomClass',\n",
    "    60: 'Onset_Tornado',\n",
    "    61: 'Offset_Tornado',\n",
    "    70: 'Onset_BirthdayParty',\n",
    "    71: 'Offset_BirthdayParty',\n",
    "    300: 'Onset_subjectInput',\n",
    "    301: 'Offset_subjectInput',\n",
    "    302: 'Onset_FavoriteStory',\n",
    "    303: 'Offset_FavoriteStory',\n",
    "    304: 'Onset_WorstStory',\n",
    "    305: 'Offset_WorstStory',\n",
    "    400: 'Onset_impedanceCheck',\n",
    "    401: 'Offset_impedanceCheck',\n",
    "    80: 'Onset_SocialTask',\n",
    "    81: 'Offset_SocialTask',\n",
    "    201: 'Offset_Experiment',\n",
    "}"
   ]
  },
  {
   "cell_type": "code",
   "execution_count": 62,
   "metadata": {},
   "outputs": [
    {
     "data": {
      "application/vnd.microsoft.datawrangler.viewer.v0+json": {
       "columns": [
        {
         "name": "index",
         "rawType": "int64",
         "type": "integer"
        },
        {
         "name": "trigger",
         "rawType": "float32",
         "type": "float"
        },
        {
         "name": "event",
         "rawType": "object",
         "type": "string"
        },
        {
         "name": "lsl_time_stamp",
         "rawType": "float64",
         "type": "float"
        }
       ],
       "conversionMethod": "pd.DataFrame",
       "ref": "21f1e7b4-da35-41d1-aaf0-d8fdfc931ed1",
       "rows": [
        [
         "0",
         "200.0",
         "Onset_Experiment",
         "468121.6759607343"
        ],
        [
         "1",
         "1739809400.0",
         "psychopy_time_stamp",
         "468121.6759697342"
        ],
        [
         "2",
         "10.0",
         "Onset_RestingState",
         "468153.7745608099"
        ],
        [
         "3",
         "1739809500.0",
         "psychopy_time_stamp",
         "468153.77456930984"
        ],
        [
         "4",
         "11.0",
         "Offset_RestingState",
         "468453.7741988123"
        ],
        [
         "5",
         "1739809800.0",
         "psychopy_time_stamp",
         "468453.7742086123"
        ],
        [
         "6",
         "500.0",
         "Onset_StoryListening",
         "468453.77423901204"
        ],
        [
         "7",
         "1739809800.0",
         "psychopy_time_stamp",
         "468453.77424001205"
        ],
        [
         "8",
         "100.0",
         "Onset_10second_rest",
         "468504.3743999203"
        ],
        [
         "9",
         "1739809800.0",
         "psychopy_time_stamp",
         "468504.3744084202"
        ],
        [
         "10",
         "101.0",
         "Offset_10second_rest",
         "468514.3742307881"
        ],
        [
         "11",
         "1739809800.0",
         "psychopy_time_stamp",
         "468514.37423838803"
        ],
        [
         "12",
         "30.0",
         "Onset_FrogDissection",
         "468514.41848298395"
        ],
        [
         "13",
         "1739809800.0",
         "psychopy_time_stamp",
         "468514.4184898839"
        ],
        [
         "14",
         "31.0",
         "Offset_FrogDissection",
         "468628.69197194406"
        ],
        [
         "15",
         "1739809900.0",
         "psychopy_time_stamp",
         "468628.691979644"
        ],
        [
         "16",
         "300.0",
         "Onset_subjectInput",
         "468644.3068641177"
        ],
        [
         "17",
         "1739809900.0",
         "psychopy_time_stamp",
         "468644.30687521765"
        ],
        [
         "18",
         "301.0",
         "Offset_subjectInput",
         "468651.1928279882"
        ],
        [
         "19",
         "1.0",
         "Bx_input",
         "468651.19283848815"
        ],
        [
         "20",
         "1739809900.0",
         "psychopy_time_stamp",
         "468651.19283968816"
        ],
        [
         "21",
         "300.0",
         "Onset_subjectInput",
         "468651.2051057038"
        ],
        [
         "22",
         "1739809900.0",
         "psychopy_time_stamp",
         "468651.20511470374"
        ],
        [
         "23",
         "301.0",
         "Offset_subjectInput",
         "468654.50556791865"
        ],
        [
         "24",
         "7.0",
         "Bx_input",
         "468654.50557841855"
        ],
        [
         "25",
         "1739809900.0",
         "psychopy_time_stamp",
         "468654.50557961856"
        ],
        [
         "26",
         "300.0",
         "Onset_subjectInput",
         "468654.5182907312"
        ],
        [
         "27",
         "1739809900.0",
         "psychopy_time_stamp",
         "468654.5182983311"
        ],
        [
         "28",
         "301.0",
         "Offset_subjectInput",
         "468658.3889979265"
        ],
        [
         "29",
         "3.0",
         "Bx_input",
         "468658.38900702645"
        ],
        [
         "30",
         "1739809900.0",
         "psychopy_time_stamp",
         "468658.38900792645"
        ],
        [
         "31",
         "300.0",
         "Onset_subjectInput",
         "468658.41846752394"
        ],
        [
         "32",
         "1739809900.0",
         "psychopy_time_stamp",
         "468658.4184752239"
        ],
        [
         "33",
         "301.0",
         "Offset_subjectInput",
         "468662.9750108053"
        ],
        [
         "34",
         "2.0",
         "Bx_input",
         "468662.97502020525"
        ],
        [
         "35",
         "1739809900.0",
         "psychopy_time_stamp",
         "468662.97502130526"
        ],
        [
         "36",
         "300.0",
         "Onset_subjectInput",
         "468662.996448258"
        ],
        [
         "37",
         "1739809900.0",
         "psychopy_time_stamp",
         "468662.99646145786"
        ],
        [
         "38",
         "301.0",
         "Offset_subjectInput",
         "468667.1747970388"
        ],
        [
         "39",
         "2.0",
         "Bx_input",
         "468667.1748050387"
        ],
        [
         "40",
         "1739809900.0",
         "psychopy_time_stamp",
         "468667.17480613873"
        ],
        [
         "41",
         "300.0",
         "Onset_subjectInput",
         "468667.1880910474"
        ],
        [
         "42",
         "1739809900.0",
         "psychopy_time_stamp",
         "468667.1880973474"
        ],
        [
         "43",
         "301.0",
         "Offset_subjectInput",
         "468671.05556096503"
        ],
        [
         "44",
         "2.0",
         "Bx_input",
         "468671.055570465"
        ],
        [
         "45",
         "1739810000.0",
         "psychopy_time_stamp",
         "468671.0555734649"
        ],
        [
         "46",
         "100.0",
         "Onset_10second_rest",
         "468676.5081774874"
        ],
        [
         "47",
         "1739810000.0",
         "psychopy_time_stamp",
         "468676.5081914873"
        ],
        [
         "48",
         "101.0",
         "Offset_10second_rest",
         "468686.50562767155"
        ],
        [
         "49",
         "1739810000.0",
         "psychopy_time_stamp",
         "468686.50564277143"
        ]
       ],
       "shape": {
        "columns": 3,
        "rows": 260
       }
      },
      "text/html": [
       "<div>\n",
       "<style scoped>\n",
       "    .dataframe tbody tr th:only-of-type {\n",
       "        vertical-align: middle;\n",
       "    }\n",
       "\n",
       "    .dataframe tbody tr th {\n",
       "        vertical-align: top;\n",
       "    }\n",
       "\n",
       "    .dataframe thead th {\n",
       "        text-align: right;\n",
       "    }\n",
       "</style>\n",
       "<table border=\"1\" class=\"dataframe\">\n",
       "  <thead>\n",
       "    <tr style=\"text-align: right;\">\n",
       "      <th></th>\n",
       "      <th>trigger</th>\n",
       "      <th>event</th>\n",
       "      <th>lsl_time_stamp</th>\n",
       "    </tr>\n",
       "  </thead>\n",
       "  <tbody>\n",
       "    <tr>\n",
       "      <th>0</th>\n",
       "      <td>2.000000e+02</td>\n",
       "      <td>Onset_Experiment</td>\n",
       "      <td>468121.675961</td>\n",
       "    </tr>\n",
       "    <tr>\n",
       "      <th>1</th>\n",
       "      <td>1.739809e+09</td>\n",
       "      <td>psychopy_time_stamp</td>\n",
       "      <td>468121.675970</td>\n",
       "    </tr>\n",
       "    <tr>\n",
       "      <th>2</th>\n",
       "      <td>1.000000e+01</td>\n",
       "      <td>Onset_RestingState</td>\n",
       "      <td>468153.774561</td>\n",
       "    </tr>\n",
       "    <tr>\n",
       "      <th>3</th>\n",
       "      <td>1.739810e+09</td>\n",
       "      <td>psychopy_time_stamp</td>\n",
       "      <td>468153.774569</td>\n",
       "    </tr>\n",
       "    <tr>\n",
       "      <th>4</th>\n",
       "      <td>1.100000e+01</td>\n",
       "      <td>Offset_RestingState</td>\n",
       "      <td>468453.774199</td>\n",
       "    </tr>\n",
       "    <tr>\n",
       "      <th>...</th>\n",
       "      <td>...</td>\n",
       "      <td>...</td>\n",
       "      <td>...</td>\n",
       "    </tr>\n",
       "    <tr>\n",
       "      <th>255</th>\n",
       "      <td>8.100000e+01</td>\n",
       "      <td>Offset_SocialTask</td>\n",
       "      <td>470285.559101</td>\n",
       "    </tr>\n",
       "    <tr>\n",
       "      <th>256</th>\n",
       "      <td>1.739812e+09</td>\n",
       "      <td>psychopy_time_stamp</td>\n",
       "      <td>470285.559116</td>\n",
       "    </tr>\n",
       "    <tr>\n",
       "      <th>257</th>\n",
       "      <td>2.010000e+02</td>\n",
       "      <td>Offset_Experiment</td>\n",
       "      <td>470290.556789</td>\n",
       "    </tr>\n",
       "    <tr>\n",
       "      <th>258</th>\n",
       "      <td>1.739812e+09</td>\n",
       "      <td>psychopy_time_stamp</td>\n",
       "      <td>470290.556802</td>\n",
       "    </tr>\n",
       "    <tr>\n",
       "      <th>259</th>\n",
       "      <td>1.739810e+09</td>\n",
       "      <td>psychopy_time_stamp</td>\n",
       "      <td>470290.570651</td>\n",
       "    </tr>\n",
       "  </tbody>\n",
       "</table>\n",
       "<p>260 rows × 3 columns</p>\n",
       "</div>"
      ],
      "text/plain": [
       "          trigger                event  lsl_time_stamp\n",
       "0    2.000000e+02     Onset_Experiment   468121.675961\n",
       "1    1.739809e+09  psychopy_time_stamp   468121.675970\n",
       "2    1.000000e+01   Onset_RestingState   468153.774561\n",
       "3    1.739810e+09  psychopy_time_stamp   468153.774569\n",
       "4    1.100000e+01  Offset_RestingState   468453.774199\n",
       "..            ...                  ...             ...\n",
       "255  8.100000e+01    Offset_SocialTask   470285.559101\n",
       "256  1.739812e+09  psychopy_time_stamp   470285.559116\n",
       "257  2.010000e+02    Offset_Experiment   470290.556789\n",
       "258  1.739812e+09  psychopy_time_stamp   470290.556802\n",
       "259  1.739810e+09  psychopy_time_stamp   470290.570651\n",
       "\n",
       "[260 rows x 3 columns]"
      ]
     },
     "execution_count": 62,
     "metadata": {},
     "output_type": "execute_result"
    }
   ],
   "source": [
    "stim_dat = data[streams_collected.index('Stimuli_Markers')]\n",
    "stim_df = pd.DataFrame(stim_dat['time_series'])\n",
    "stim_df.rename(columns={0: 'trigger'}, inplace=True)\n",
    "stim_df['event'] = stim_df['trigger'].apply(lambda x: events[x] if x in events.keys() else 'Bx_input')\n",
    "stim_df.loc[stim_df.trigger.astype(str).str.len() > 5, 'event'] = 'psychopy_time_stamp'\n",
    "stim_df['lsl_time_stamp'] = stim_dat['time_stamps']\n",
    "stim_df\n",
    "# stim_df['time'] = stim_df['lsl_time_stamp'] - et_df['lsl_time_stamp'][0]"
   ]
  },
  {
   "cell_type": "markdown",
   "metadata": {},
   "source": [
    "# Compare Cleaning Methods"
   ]
  },
  {
   "cell_type": "markdown",
   "metadata": {},
   "source": [
    "## Resting state"
   ]
  },
  {
   "cell_type": "code",
   "execution_count": 70,
   "metadata": {},
   "outputs": [
    {
     "data": {
      "image/png": "[encoded data removed]",
      "text/plain": [
       "<Figure size 640x480 with 1 Axes>"
      ]
     },
     "metadata": {},
     "output_type": "display_data"
    }
   ],
   "source": [
    "rsp = rsp_df.respiration\n",
    "rsp = rsp[4000:104000] # 100000 samps / 500 samps/s = 200 seconds\n",
    "\n",
    "\n",
    "signals = pd.DataFrame({\n",
    "    \"RSP_Khodadad\": nk.rsp_clean(rsp, sampling_rate=srate, method=\"khodadad2018\"),\n",
    "    \"RSP_Biosppy\": nk.rsp_clean(rsp, sampling_rate=srate, method=\"biosppy\"),\n",
    "    \"RSP_Hampel\": nk.rsp_clean(rsp, sampling_rate=srate, method=\"hampel\", threshold=3), \n",
    "    \"RSP_Raw\": rsp\n",
    "})\n",
    "\n",
    "\n",
    "ax = signals.plot(alpha = 0.6) # alpha = 0.6\n",
    "# ax.get_lines()[signals.columns.get_loc(\"RSP_Raw\")].set_alpha(0.5) # adjust alpha for one column"
   ]
  },
  {
   "cell_type": "code",
   "execution_count": 95,
   "metadata": {},
   "outputs": [],
   "source": [
    "# rsp = rsp[1000:55000]\n",
    "\n",
    "# signals2 = pd.DataFrame({\n",
    "#     \"RSP_Hampel\": nk.rsp_clean(rsp, sampling_rate=srate, method=\"hampel\", threshold=3), \n",
    "#     \"RSP_Raw\": rsp\n",
    "# })\n",
    "\n",
    "\n",
    "# ax = signals2.plot()\n",
    "# ax.get_lines()[signals2.columns.get_loc(\"RSP_Raw\")].set_alpha(0.5)"
   ]
  },
  {
   "cell_type": "code",
   "execution_count": 96,
   "metadata": {},
   "outputs": [
    {
     "data": {
      "text/plain": [
       "8.43087540602908"
      ]
     },
     "execution_count": 96,
     "metadata": {},
     "output_type": "execute_result"
    }
   ],
   "source": [
    "# SNR khodadad \n",
    "# cleaned signal\n",
    "cleaned_khodadad = signals['RSP_Khodadad']\n",
    "\n",
    "# signal power\n",
    "signal_power_khodadad = np.var(cleaned_khodadad)\n",
    "\n",
    "# noise signal\n",
    "noise_signal_khodadad = rsp - cleaned_khodadad\n",
    "\n",
    "# noise power\n",
    "noise_power_khodadad = np.var(noise_signal_khodadad)\n",
    "\n",
    "# snr\n",
    "snr_khodadad = 10 * np.log10(signal_power_khodadad / noise_power_khodadad)\n",
    "snr_khodadad"
   ]
  },
  {
   "cell_type": "code",
   "execution_count": 97,
   "metadata": {},
   "outputs": [
    {
     "data": {
      "text/plain": [
       "-1.431680659427299"
      ]
     },
     "execution_count": 97,
     "metadata": {},
     "output_type": "execute_result"
    }
   ],
   "source": [
    "# SNR biosppy \n",
    "# cleaned signal\n",
    "cleaned_biosppy = signals['RSP_Biosppy']\n",
    "\n",
    "# signal power\n",
    "signal_power_biosppy = np.var(cleaned_biosppy)\n",
    "\n",
    "# noise signal\n",
    "noise_signal_biosppy = rsp - cleaned_biosppy\n",
    "\n",
    "# noise power\n",
    "noise_power_biosppy = np.var(noise_signal_biosppy)\n",
    "\n",
    "# snr\n",
    "snr_biosppy = 10 * np.log10(signal_power_biosppy / noise_power_biosppy)\n",
    "snr_biosppy\n"
   ]
  },
  {
   "cell_type": "code",
   "execution_count": 98,
   "metadata": {},
   "outputs": [
    {
     "data": {
      "text/plain": [
       "'no noise'"
      ]
     },
     "execution_count": 98,
     "metadata": {},
     "output_type": "execute_result"
    }
   ],
   "source": [
    "# SNR hampel \n",
    "# cleaned signal\n",
    "cleaned_hampel = signals['RSP_Hampel']\n",
    "\n",
    "# signal power\n",
    "signal_power_hampel = np.var(cleaned_hampel)\n",
    "\n",
    "# noise signal\n",
    "noise_signal_hampel = rsp - cleaned_hampel\n",
    "\n",
    "# noise power\n",
    "noise_power_hampel = np.var(noise_signal_hampel)\n",
    "\n",
    "# snr\n",
    "if noise_power_hampel == 0:\n",
    "        snr_hampel = \"no noise\"\n",
    "else:\n",
    "    snr_hampel = 10 * np.log10(signal_power_hampel / noise_power_hampel)\n",
    "snr_hampel\n"
   ]
  },
  {
   "cell_type": "code",
   "execution_count": 99,
   "metadata": {},
   "outputs": [
    {
     "name": "stdout",
     "output_type": "stream",
     "text": [
      "sub P5548165 # 8\n"
     ]
    },
    {
     "data": {
      "text/plain": [
       "{'khodadad': 8.43087540602908,\n",
       " 'biosppy': -1.431680659427299,\n",
       " 'hampel': 'no noise'}"
      ]
     },
     "execution_count": 99,
     "metadata": {},
     "output_type": "execute_result"
    }
   ],
   "source": [
    "compare_snr = {'khodadad': snr_khodadad,\n",
    "'biosppy': snr_biosppy,\n",
    "'hampel': snr_hampel}\n",
    "\n",
    "subject = sub_files[sub_number].split('/')[4].split('-')[1]\n",
    "print(\"sub\", subject, \"#\", sub_number)\n",
    "compare_snr"
   ]
  },
  {
   "cell_type": "markdown",
   "metadata": {},
   "source": [
    "## Post-resting state "
   ]
  },
  {
   "cell_type": "code",
   "execution_count": 63,
   "metadata": {},
   "outputs": [
    {
     "data": {
      "image/png": "[encoded data removed]",
      "text/plain": [
       "<Figure size 640x480 with 1 Axes>"
      ]
     },
     "metadata": {},
     "output_type": "display_data"
    }
   ],
   "source": [
    "rsp = rsp_df.respiration\n",
    "rsp_post_rest = rsp[200000:205000] # 10 seconds * 500 samps/s = 5000\n",
    "\n",
    "signals = pd.DataFrame({\n",
    "    \"RSP_Khodadad\": nk.rsp_clean(rsp_post_rest, sampling_rate=srate, method=\"khodadad2018\"),\n",
    "    \"RSP_Biosppy\": nk.rsp_clean(rsp_post_rest, sampling_rate=srate, method=\"biosppy\"),\n",
    "    \"RSP_Hampel\": nk.rsp_clean(rsp_post_rest, sampling_rate=srate, method=\"hampel\", threshold=3), \n",
    "    \"RSP_Raw\": rsp_post_rest\n",
    "})\n",
    "\n",
    "\n",
    "ax = signals.plot() # alpha = 0.6\n",
    "# ax.get_lines()[signals.columns.get_loc(\"RSP_Raw\")].set_alpha(0.5) # adjust alpha for one column"
   ]
  },
  {
   "cell_type": "code",
   "execution_count": 64,
   "metadata": {},
   "outputs": [
    {
     "data": {
      "text/plain": [
       "8.819709403150663"
      ]
     },
     "execution_count": 64,
     "metadata": {},
     "output_type": "execute_result"
    }
   ],
   "source": [
    "# SNR khodadad \n",
    "# cleaned signal\n",
    "cleaned_khodadad = signals['RSP_Khodadad']\n",
    "\n",
    "# signal power\n",
    "signal_power_khodadad = np.var(cleaned_khodadad)\n",
    "\n",
    "# noise signal\n",
    "noise_signal_khodadad = rsp - cleaned_khodadad\n",
    "\n",
    "# noise power\n",
    "noise_power_khodadad = np.var(noise_signal_khodadad)\n",
    "\n",
    "# snr\n",
    "snr_khodadad = 10 * np.log10(signal_power_khodadad / noise_power_khodadad)\n",
    "snr_khodadad"
   ]
  },
  {
   "cell_type": "code",
   "execution_count": 65,
   "metadata": {},
   "outputs": [
    {
     "data": {
      "text/plain": [
       "-9.351668748644899"
      ]
     },
     "execution_count": 65,
     "metadata": {},
     "output_type": "execute_result"
    }
   ],
   "source": [
    "# SNR biosppy \n",
    "# cleaned signal\n",
    "cleaned_biosppy = signals['RSP_Biosppy']\n",
    "\n",
    "# signal power\n",
    "signal_power_biosppy = np.var(cleaned_biosppy)\n",
    "\n",
    "# noise signal\n",
    "noise_signal_biosppy = rsp - cleaned_biosppy\n",
    "\n",
    "# noise power\n",
    "noise_power_biosppy = np.var(noise_signal_biosppy)\n",
    "\n",
    "# snr\n",
    "snr_biosppy = 10 * np.log10(signal_power_biosppy / noise_power_biosppy)\n",
    "snr_biosppy\n"
   ]
  },
  {
   "cell_type": "code",
   "execution_count": 66,
   "metadata": {},
   "outputs": [
    {
     "data": {
      "text/plain": [
       "'no noise'"
      ]
     },
     "execution_count": 66,
     "metadata": {},
     "output_type": "execute_result"
    }
   ],
   "source": [
    "# SNR hampel \n",
    "# cleaned signal\n",
    "cleaned_hampel = signals['RSP_Hampel']\n",
    "\n",
    "# signal power\n",
    "signal_power_hampel = np.var(cleaned_hampel)\n",
    "\n",
    "# noise signal\n",
    "noise_signal_hampel = rsp - cleaned_hampel\n",
    "\n",
    "# noise power\n",
    "noise_power_hampel = np.var(noise_signal_hampel)\n",
    "\n",
    "# snr\n",
    "if noise_power_hampel == 0:\n",
    "        snr_hampel = \"no noise\"\n",
    "else:\n",
    "    snr_hampel = 10 * np.log10(signal_power_hampel / noise_power_hampel)\n",
    "snr_hampel\n"
   ]
  },
  {
   "cell_type": "code",
   "execution_count": 67,
   "metadata": {},
   "outputs": [
    {
     "name": "stdout",
     "output_type": "stream",
     "text": [
      "sub P5287460 # 3\n"
     ]
    },
    {
     "data": {
      "text/plain": [
       "{'khodadad': 8.819709403150663,\n",
       " 'biosppy': -9.351668748644899,\n",
       " 'hampel': 'no noise'}"
      ]
     },
     "execution_count": 67,
     "metadata": {},
     "output_type": "execute_result"
    }
   ],
   "source": [
    "compare_snr = {'khodadad': snr_khodadad,\n",
    "'biosppy': snr_biosppy,\n",
    "'hampel': snr_hampel}\n",
    "\n",
    "subject = sub_files[sub_number].split('/')[4].split('-')[1]\n",
    "print(\"sub\", subject, \"#\", sub_number)\n",
    "compare_snr"
   ]
  }
 ],
 "metadata": {
  "kernelspec": {
   "display_name": "cuny_env",
   "language": "python",
   "name": "python3"
  },
  "language_info": {
   "codemirror_mode": {
    "name": "ipython",
    "version": 3
   },
   "file_extension": ".py",
   "mimetype": "text/x-python",
   "name": "python",
   "nbconvert_exporter": "python",
   "pygments_lexer": "ipython3",
   "version": "3.12.7"
  }
 },
 "nbformat": 4,
 "nbformat_minor": 2
}
